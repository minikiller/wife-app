{
 "metadata": {
  "language_info": {
   "codemirror_mode": {
    "name": "ipython",
    "version": 3
   },
   "file_extension": ".py",
   "mimetype": "text/x-python",
   "name": "python",
   "nbconvert_exporter": "python",
   "pygments_lexer": "ipython3",
   "version": "3.8.2-final"
  },
  "orig_nbformat": 2,
  "kernelspec": {
   "name": "Python 3.8.2 64-bit ('.venv')",
   "display_name": "Python 3.8.2 64-bit ('.venv')",
   "metadata": {
    "interpreter": {
     "hash": "464316baf197c21ac89ffac3a744d0a1ec66d33f8bd2ea140668348d53048685"
    }
   }
  }
 },
 "nbformat": 4,
 "nbformat_minor": 2,
 "cells": [
  {
   "source": [
    "### read data"
   ],
   "cell_type": "markdown",
   "metadata": {}
  },
  {
   "cell_type": "code",
   "execution_count": 3,
   "metadata": {},
   "outputs": [
    {
     "output_type": "execute_result",
     "data": {
      "text/plain": [
       "Index(['科室', '住院号', '姓名', '借支日期', '借支金额', '还款日期', '还款金额', '还款日期.1', '还款金额.1',\n",
       "       '还款日期.2', '还款金额.2', '批次'],\n",
       "      dtype='object')"
      ]
     },
     "metadata": {},
     "execution_count": 3
    }
   ],
   "source": [
    "import pandas as pd\n",
    "\n",
    "fd=pd.read_excel(\"./大病新表.xlsx\",sheet_name=\"Sheet1\")\n",
    "fd.fillna(0, inplace=True)\n",
    "fd.columns\n",
    "# fd.dtypes\n",
    "# fd.set_index(pd.to_datetime(fd['借支日期']),inplace=True)\n",
    "# fd['借支日期']=(pd.to_datetime(fd['借支日期'],format='%Y%m%d'))\n",
    "# fd['xi借支日期'] = fd['借支日期'].astype(str)\n",
    "# fd['借支日期'] = pd.to_datetime(fd['借支日期'], format='%Y%m%d.0', errors='coerce')\n",
    "\n",
    "# fd['借支日期'] = fd['借支日期'].astype('datetime64[ns]')\n",
    "# fd.head(20)\n",
    "# print(\"读取<<大病新表>>成功！\")\n",
    "# print(\"共计{}条记录！\".format(fd.shape[0]))"
   ]
  },
  {
   "cell_type": "code",
   "execution_count": 4,
   "metadata": {},
   "outputs": [
    {
     "output_type": "execute_result",
     "data": {
      "text/plain": [
       "                 住院号          借支日期           借支金额          还款日期        还款日期.1  \\\n",
       "count    1625.000000  1.625000e+03    1625.000000  1.625000e+03  1.625000e+03   \n",
       "mean   797985.182769  1.936772e+07    6832.186068  1.908303e+07  3.269393e+06   \n",
       "std     55754.154565  4.017591e+06   14819.411609  4.617026e+06  7.442374e+06   \n",
       "min    459966.000000  0.000000e+00  -54825.700000  0.000000e+00  0.000000e+00   \n",
       "25%    785173.000000  2.020041e+07    2190.960000  2.020040e+07  0.000000e+00   \n",
       "50%    823684.000000  2.020062e+07    3702.400000  2.020062e+07  0.000000e+00   \n",
       "75%    829157.000000  2.020081e+07    6975.990000  2.020081e+07  0.000000e+00   \n",
       "max    985523.000000  2.020101e+07  269459.190000  2.020093e+07  2.020093e+07   \n",
       "\n",
       "             还款金额.1        还款日期.2       还款金额.2  \n",
       "count   1625.000000  1.625000e+03  1625.000000  \n",
       "mean     420.688911  6.339908e+04     7.223058  \n",
       "std     1654.721374  1.120202e+06   130.381596  \n",
       "min    -6046.260000  0.000000e+00     0.000000  \n",
       "25%        0.000000  0.000000e+00     0.000000  \n",
       "50%        0.000000  0.000000e+00     0.000000  \n",
       "75%        0.000000  0.000000e+00     0.000000  \n",
       "max    26932.460000  2.020090e+07  3783.600000  "
      ],
      "text/html": "<div>\n<style scoped>\n    .dataframe tbody tr th:only-of-type {\n        vertical-align: middle;\n    }\n\n    .dataframe tbody tr th {\n        vertical-align: top;\n    }\n\n    .dataframe thead th {\n        text-align: right;\n    }\n</style>\n<table border=\"1\" class=\"dataframe\">\n  <thead>\n    <tr style=\"text-align: right;\">\n      <th></th>\n      <th>住院号</th>\n      <th>借支日期</th>\n      <th>借支金额</th>\n      <th>还款日期</th>\n      <th>还款日期.1</th>\n      <th>还款金额.1</th>\n      <th>还款日期.2</th>\n      <th>还款金额.2</th>\n    </tr>\n  </thead>\n  <tbody>\n    <tr>\n      <th>count</th>\n      <td>1625.000000</td>\n      <td>1.625000e+03</td>\n      <td>1625.000000</td>\n      <td>1.625000e+03</td>\n      <td>1.625000e+03</td>\n      <td>1625.000000</td>\n      <td>1.625000e+03</td>\n      <td>1625.000000</td>\n    </tr>\n    <tr>\n      <th>mean</th>\n      <td>797985.182769</td>\n      <td>1.936772e+07</td>\n      <td>6832.186068</td>\n      <td>1.908303e+07</td>\n      <td>3.269393e+06</td>\n      <td>420.688911</td>\n      <td>6.339908e+04</td>\n      <td>7.223058</td>\n    </tr>\n    <tr>\n      <th>std</th>\n      <td>55754.154565</td>\n      <td>4.017591e+06</td>\n      <td>14819.411609</td>\n      <td>4.617026e+06</td>\n      <td>7.442374e+06</td>\n      <td>1654.721374</td>\n      <td>1.120202e+06</td>\n      <td>130.381596</td>\n    </tr>\n    <tr>\n      <th>min</th>\n      <td>459966.000000</td>\n      <td>0.000000e+00</td>\n      <td>-54825.700000</td>\n      <td>0.000000e+00</td>\n      <td>0.000000e+00</td>\n      <td>-6046.260000</td>\n      <td>0.000000e+00</td>\n      <td>0.000000</td>\n    </tr>\n    <tr>\n      <th>25%</th>\n      <td>785173.000000</td>\n      <td>2.020041e+07</td>\n      <td>2190.960000</td>\n      <td>2.020040e+07</td>\n      <td>0.000000e+00</td>\n      <td>0.000000</td>\n      <td>0.000000e+00</td>\n      <td>0.000000</td>\n    </tr>\n    <tr>\n      <th>50%</th>\n      <td>823684.000000</td>\n      <td>2.020062e+07</td>\n      <td>3702.400000</td>\n      <td>2.020062e+07</td>\n      <td>0.000000e+00</td>\n      <td>0.000000</td>\n      <td>0.000000e+00</td>\n      <td>0.000000</td>\n    </tr>\n    <tr>\n      <th>75%</th>\n      <td>829157.000000</td>\n      <td>2.020081e+07</td>\n      <td>6975.990000</td>\n      <td>2.020081e+07</td>\n      <td>0.000000e+00</td>\n      <td>0.000000</td>\n      <td>0.000000e+00</td>\n      <td>0.000000</td>\n    </tr>\n    <tr>\n      <th>max</th>\n      <td>985523.000000</td>\n      <td>2.020101e+07</td>\n      <td>269459.190000</td>\n      <td>2.020093e+07</td>\n      <td>2.020093e+07</td>\n      <td>26932.460000</td>\n      <td>2.020090e+07</td>\n      <td>3783.600000</td>\n    </tr>\n  </tbody>\n</table>\n</div>"
     },
     "metadata": {},
     "execution_count": 4
    }
   ],
   "source": [
    "fd.describe()"
   ]
  },
  {
   "source": [
    "1. filter by fd[\"借支金额\"].isna()"
   ],
   "cell_type": "markdown",
   "metadata": {}
  },
  {
   "cell_type": "code",
   "execution_count": 5,
   "metadata": {},
   "outputs": [
    {
     "output_type": "execute_result",
     "data": {
      "text/plain": [
       "Empty DataFrame\n",
       "Columns: [科室, 住院号, 姓名, 借支日期, 借支金额, 还款日期, 还款金额, 还款日期.1, 还款金额.1, 还款日期.2, 还款金额.2, 批次]\n",
       "Index: []"
      ],
      "text/html": "<div>\n<style scoped>\n    .dataframe tbody tr th:only-of-type {\n        vertical-align: middle;\n    }\n\n    .dataframe tbody tr th {\n        vertical-align: top;\n    }\n\n    .dataframe thead th {\n        text-align: right;\n    }\n</style>\n<table border=\"1\" class=\"dataframe\">\n  <thead>\n    <tr style=\"text-align: right;\">\n      <th></th>\n      <th>科室</th>\n      <th>住院号</th>\n      <th>姓名</th>\n      <th>借支日期</th>\n      <th>借支金额</th>\n      <th>还款日期</th>\n      <th>还款金额</th>\n      <th>还款日期.1</th>\n      <th>还款金额.1</th>\n      <th>还款日期.2</th>\n      <th>还款金额.2</th>\n      <th>批次</th>\n    </tr>\n  </thead>\n  <tbody>\n  </tbody>\n</table>\n</div>"
     },
     "metadata": {},
     "execution_count": 5
    }
   ],
   "source": [
    "fd[fd[\"借支金额\"].isna()]"
   ]
  },
  {
   "source": [
    "1.1 continue to filter fd[\"借支金额\"].isna()&fd[\"还款金额\"].notna()\n"
   ],
   "cell_type": "markdown",
   "metadata": {}
  },
  {
   "source": [
    "fd[fd[\"借支金额\"].isna()&fd[\"还款金额\"].notna()&fd[\"还款金额.1\"].isna()]"
   ],
   "cell_type": "markdown",
   "metadata": {}
  },
  {
   "source": [
    "fd[fd[\"借支金额\"].isna()&fd[\"还款金额\"].notna()&fd[\"还款金额.1\"].notna()]\n"
   ],
   "cell_type": "markdown",
   "metadata": {}
  },
  {
   "source": [
    "2. filter by fd[\"借支金额\"].notna()"
   ],
   "cell_type": "markdown",
   "metadata": {}
  },
  {
   "source": [
    "fd[fd[\"借支金额\"].notna()]"
   ],
   "cell_type": "markdown",
   "metadata": {}
  },
  {
   "source": [
    "### testing a filter"
   ],
   "cell_type": "markdown",
   "metadata": {}
  },
  {
   "cell_type": "code",
   "execution_count": 8,
   "metadata": {},
   "outputs": [
    {
     "output_type": "execute_result",
     "data": {
      "text/plain": [
       "Index(['科室', '住院号', '姓名', '借支日期', '借支金额', '还款日期', '还款金额', '还款日期.1', '还款金额.1',\n",
       "       '还款日期.2', '还款金额.2', '批次'],\n",
       "      dtype='object')"
      ]
     },
     "metadata": {},
     "execution_count": 8
    }
   ],
   "source": [
    "target=pd.read_excel(\"./base.xls\",sheet_name=\"Sheet1\")\n",
    "target.fillna(0, inplace=True)\n",
    "# target[['借支金额']].fillna(0, inplace=True)\n",
    "# target[['还款金额','借支金额']]=target[['还款金额','借支金额']].fillna(0, inplace=True)\n",
    "# target.info()\n",
    "target.columns"
   ]
  },
  {
   "cell_type": "code",
   "execution_count": 9,
   "metadata": {
    "tags": []
   },
   "outputs": [
    {
     "output_type": "stream",
     "name": "stdout",
     "text": [
      "\n",
      "OK\n",
      "对比结果如下：\n",
      "-----------------------------------\n",
      "一共对比记录：313\n",
      "其中，正确比对合计：313\n",
      "错误对比结果合计：0\n",
      "原始结果合计：1625\n",
      "剩余对比结果合计：1312\n",
      "-----------------------------------\n",
      "最后产生三个文件：\n",
      "错误结果：result.xlsx\n",
      "正确结果：matched.xlsx\n",
      "剩余结果：left.xlsx\n",
      "-----------------------------------\n"
     ]
    }
   ],
   "source": [
    "import process,time\n",
    "result = pd.DataFrame(columns = fd.columns) # 错误结果 \n",
    "matched =  pd.DataFrame(columns = fd.columns)  # 正确结果\n",
    "drop_index=[] #记录需要删除对行号\n",
    "\n",
    "max_steps=target.shape[0]\n",
    "process_bar = process.ShowProcess(max_steps, 'OK')\n",
    "for idx,row in target.iterrows():\n",
    "    # print(type(row))\n",
    "    # print(row[\"住院号\"])\n",
    "    fil=(fd[\"住院号\"]==row[\"住院号\"]) \\\n",
    "        &(fd[\"科室\"]==row[\"科室\"]) \\\n",
    "        &(fd[\"姓名\"]==row[\"姓名\"]) \\\n",
    "        &(fd[\"借支金额\"]==row[\"借支金额\"]) \\\n",
    "        &(fd[\"还款金额\"]==row[\"还款金额\"]) \\\n",
    "        &(fd[\"还款金额.1\"]==row[\"还款金额.1\"]) \\\n",
    "        &(fd[\"还款金额.2\"]==row[\"还款金额.2\"]) \n",
    "    _temp= fd[fil]  \n",
    "    if len(_temp)==0: # can not match\n",
    "        # print(\"{} is false\".format(idx))\n",
    "        result.loc[len(result)] = row\n",
    "    else:\n",
    "        # print(\"{} is true,fd index is {}\".format(idx,_temp.index.tolist()))\n",
    "        matched.loc[len(matched)] = row\n",
    "        drop_index.extend(_temp.index.tolist())\n",
    "    process_bar.show_process()\n",
    "    time.sleep(0.01)\n",
    "# print(result)\n",
    "# write to error\n",
    "result.to_excel(\"./result.xlsx\",sheet_name=\"Sheet1\",index=False)\n",
    "matched.to_excel(\"./matched.xlsx\",sheet_name=\"Sheet1\",index=False)\n",
    "# print(drop_index)\n",
    "left=fd.drop(drop_index) # 剩余对比结果\n",
    "left.to_excel(\"./left.xlsx\",sheet_name=\"Sheet1\",index=False)\n",
    "print(\"对比结果如下：\")\n",
    "print(\"-----------------------------------\")\n",
    "print(\"一共对比记录：\"+str(target.shape[0]))\n",
    "print(\"其中，正确比对合计：\"+str(matched.shape[0]))\n",
    "print(\"错误对比结果合计：\"+str(result.shape[0]))\n",
    "print(\"原始结果合计：\"+str(fd.shape[0]))\n",
    "print(\"剩余对比结果合计：\"+str(left.shape[0]))\n",
    "print(\"-----------------------------------\")\n",
    "print(\"最后产生三个文件：\")\n",
    "print(\"错误结果：result.xlsx\")\n",
    "print(\"正确结果：matched.xlsx\")\n",
    "print(\"剩余结果：left.xlsx\")\n",
    "print(\"-----------------------------------\")\n",
    "\n",
    "# left.shape"
   ]
  },
  {
   "source": [
    "### 例子： convert data to datetime"
   ],
   "cell_type": "markdown",
   "metadata": {}
  },
  {
   "cell_type": "code",
   "execution_count": null,
   "metadata": {},
   "outputs": [],
   "source": [
    "import pandas as pd\n",
    "\n",
    "df=pd.read_excel(\"./base.xls\",sheet_name=\"Sheet1\")\n",
    "# df.head(10)\n",
    "# fd.dtypes\n",
    "# fd.set_index(pd.to_datetime(fd['借支日期']),inplace=True)\n",
    "# fd['借支日期']=(pd.to_datetime(fd['借支日期'],format='%Y%m%d'))\n",
    "# fd['xi借支日期'] = fd['借支日期'].astype(str)\n",
    "df['还款日期'] = pd.to_datetime(df['还款日期'].astype(str), format='%Y%m%d.0', errors='coerce')\n",
    "df['借支日期'] = pd.to_datetime(df['借支日期'].astype(str), format='%Y%m%d.0', errors='coerce')\n",
    "df\n",
    "# fd['借支日期'] = fd['借支日期'].astype('datetime64[ns]')\n",
    "# fd.head(20)"
   ]
  },
  {
   "cell_type": "code",
   "execution_count": null,
   "metadata": {},
   "outputs": [],
   "source": [
    "import pandas as pd\n",
    "pd.to_datetime(pd.Series([20100329.0, 20100328.0, 20100329.0]).astype(str), format='%Y%m%d.0')"
   ]
  },
  {
   "cell_type": "code",
   "execution_count": 25,
   "metadata": {},
   "outputs": [],
   "source": [
    "import numpy as np\n",
    "target=pd.read_excel(\"./base.xls\",sheet_name=\"Sheet1\")\n",
    "target.fillna(0, inplace=True)\n",
    "target.replace(0,np.nan,inplace=True)\n",
    "target.head(10)\n",
    "target.to_excel(\"./test.xlsx\",sheet_name=\"Sheet1\",index=False)"
   ]
  },
  {
   "cell_type": "code",
   "execution_count": null,
   "metadata": {},
   "outputs": [],
   "source": []
  }
 ]
}