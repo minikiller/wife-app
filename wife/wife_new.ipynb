{
 "metadata": {
  "language_info": {
   "codemirror_mode": {
    "name": "ipython",
    "version": 3
   },
   "file_extension": ".py",
   "mimetype": "text/x-python",
   "name": "python",
   "nbconvert_exporter": "python",
   "pygments_lexer": "ipython3",
   "version": "3.8.3-final"
  },
  "orig_nbformat": 2,
  "kernelspec": {
   "name": "python3",
   "display_name": "Python 3.8.3 64-bit ('miniconda3': conda)",
   "metadata": {
    "interpreter": {
     "hash": "79d726a1eeaa936146d520281b06ab627d459090c64f2a694c321934a5d5665c"
    }
   }
  }
 },
 "nbformat": 4,
 "nbformat_minor": 2,
 "cells": [
  {
   "source": [
    "### read data"
   ],
   "cell_type": "markdown",
   "metadata": {}
  },
  {
   "cell_type": "code",
   "execution_count": 11,
   "metadata": {},
   "outputs": [
    {
     "output_type": "stream",
     "name": "stdout",
     "text": [
      "<class 'pandas.core.frame.DataFrame'>\nRangeIndex: 577 entries, 0 to 576\nData columns (total 35 columns):\n #   Column       Non-Null Count  Dtype  \n---  ------       --------------  -----  \n 0   Unnamed: 0   577 non-null    int64  \n 1   Unnamed: 1   67 non-null     object \n 2   批次           577 non-null    object \n 3   患者身份         145 non-null    object \n 4   姓名           577 non-null    object \n 5   性别           576 non-null    object \n 6   年龄           569 non-null    object \n 7   住址           548 non-null    object \n 8   电话           525 non-null    object \n 9   诊断           545 non-null    object \n 10  科室           576 non-null    object \n 11  住院号          577 non-null    int64  \n 12  入院时间         577 non-null    object \n 13  出院时间         572 non-null    object \n 14  押金           92 non-null     object \n 15  通道           99 non-null     object \n 16  总额           568 non-null    float64\n 17  保障           563 non-null    float64\n 18  保险           504 non-null    float64\n 19  民政           370 non-null    float64\n 20  起付线          201 non-null    float64\n 21  慈善           25 non-null     float64\n 22  自理           244 non-null    float64\n 23  自费           547 non-null    float64\n 24  减免           577 non-null    float64\n 25  借支           576 non-null    float64\n 26  还款1          553 non-null    float64\n 27  还款2          104 non-null    float64\n 28  还款3          20 non-null     float64\n 29  还款4（支票）      10 non-null     float64\n 30  欠财务          577 non-null    float64\n 31  退押金          577 non-null    float64\n 32  Unnamed: 32  0 non-null      float64\n 33  Unnamed: 33  3 non-null      float64\n 34  Unnamed: 34  1 non-null      object \ndtypes: float64(18), int64(2), object(15)\nmemory usage: 157.9+ KB\n"
     ]
    }
   ],
   "source": [
    "import pandas as pd\n",
    "target=pd.read_excel(\"./第五批.xlsx\",sheet_name=\"Sheet2\",skiprows=1)\n",
    "# target.fillna(0, inplace=True)\n",
    "# target[['借支金额']].fillna(0, inplace=True)\n",
    "# target[['还款金额','借支金额']]=target[['还款金额','借支金额']].fillna(0, inplace=True)\n",
    "target.info()\n",
    "# target.head()"
   ]
  },
  {
   "source": [
    "> 处理时间字段：入院时间 出院时间"
   ],
   "cell_type": "code",
   "metadata": {},
   "execution_count": null,
   "outputs": []
  },
  {
   "cell_type": "code",
   "execution_count": null,
   "metadata": {},
   "outputs": [],
   "source": [
    "查看nan的时间空字段："
   ]
  },
  {
   "cell_type": "code",
   "execution_count": null,
   "metadata": {},
   "outputs": [],
   "source": [
    "# target[target['入院时间'].isna()] \n",
    "target[target['出院时间'].isna()] "
   ]
  },
  {
   "source": [
    "附加20，形成格式2020.01.20"
   ],
   "cell_type": "markdown",
   "metadata": {}
  },
  {
   "cell_type": "code",
   "execution_count": 12,
   "metadata": {},
   "outputs": [],
   "source": [
    "target['入院时间']=\"20\"+(target['入院时间'].str.strip())\n",
    "target['出院时间']=\"20\"+(target['出院时间'].str.strip())"
   ]
  },
  {
   "cell_type": "code",
   "execution_count": 13,
   "metadata": {},
   "outputs": [
    {
     "output_type": "execute_result",
     "data": {
      "text/plain": [
       "0      2019.10.28\n",
       "1      2019.11.01\n",
       "2      2019.11.04\n",
       "3      2019.11.04\n",
       "4      2019.11.08\n",
       "          ...    \n",
       "572    2018.06.22\n",
       "573    2018.08.31\n",
       "574    2018.12.18\n",
       "575    2019.01.23\n",
       "576    2018.09.21\n",
       "Name: 入院时间, Length: 577, dtype: object"
      ]
     },
     "metadata": {},
     "execution_count": 13
    }
   ],
   "source": [
    "target['入院时间']"
   ]
  },
  {
   "cell_type": "code",
   "execution_count": 16,
   "metadata": {},
   "outputs": [
    {
     "output_type": "execute_result",
     "data": {
      "text/plain": [
       "0   2019-10-28\n",
       "1   2019-11-01\n",
       "2   2019-11-04\n",
       "3   2019-11-04\n",
       "4   2019-11-08\n",
       "5   2019-11-11\n",
       "6   2019-11-11\n",
       "7   2019-11-13\n",
       "8   2019-11-13\n",
       "9   2019-11-15\n",
       "Name: 入院时间1, dtype: datetime64[ns]"
      ]
     },
     "metadata": {},
     "execution_count": 16
    }
   ],
   "source": [
    "test=target[:10]\n",
    "test['入院时间1']=pd.to_datetime(test['入院时间'],format='%Y.%m.%d',errors='coerce')\n",
    "test['入院时间1']"
   ]
  },
  {
   "cell_type": "code",
   "execution_count": 17,
   "metadata": {},
   "outputs": [],
   "source": [
    "target['入院时间1']=pd.to_datetime(target['入院时间'],format='%Y.%m.%d',errors='coerce')\n",
    "target['出院时间1']=pd.to_datetime(target['出院时间'],format='%Y.%m.%d',errors='coerce')"
   ]
  },
  {
   "cell_type": "code",
   "execution_count": 18,
   "metadata": {},
   "outputs": [
    {
     "output_type": "execute_result",
     "data": {
      "text/plain": [
       "0     2019-10-28\n",
       "1     2019-11-01\n",
       "2     2019-11-04\n",
       "3     2019-11-04\n",
       "4     2019-11-08\n",
       "         ...    \n",
       "572   2018-06-22\n",
       "573   2018-08-31\n",
       "574   2018-12-18\n",
       "575   2019-01-23\n",
       "576   2018-09-21\n",
       "Name: 入院时间1, Length: 577, dtype: datetime64[ns]"
      ]
     },
     "metadata": {},
     "execution_count": 18
    }
   ],
   "source": [
    "target['入院时间1']"
   ]
  },
  {
   "cell_type": "code",
   "execution_count": 28,
   "metadata": {},
   "outputs": [],
   "source": [
    "target[target['入院时间1'].dt.year==2018].to_excel(\"./2018.xlsx\",sheet_name=\"Sheet1\",index=False)"
   ]
  },
  {
   "cell_type": "code",
   "execution_count": 29,
   "metadata": {},
   "outputs": [],
   "source": [
    "target[target['入院时间1'].dt.year==2019].to_excel(\"./2019.xlsx\",sheet_name=\"Sheet1\",index=False)"
   ]
  },
  {
   "cell_type": "code",
   "execution_count": 30,
   "metadata": {},
   "outputs": [],
   "source": [
    "target[target['入院时间1'].dt.year==2020].to_excel(\"./2020.xlsx\",sheet_name=\"Sheet1\",index=False)"
   ]
  },
  {
   "cell_type": "code",
   "execution_count": null,
   "metadata": {
    "tags": []
   },
   "outputs": [],
   "source": [
    "import process,time\n",
    "result = pd.DataFrame(columns = fd.columns) # 错误结果 \n",
    "matched =  pd.DataFrame(columns = fd.columns)  # 正确结果\n",
    "drop_index=[] #记录需要删除对行号\n",
    "\n",
    "max_steps=target.shape[0]\n",
    "process_bar = process.ShowProcess(max_steps, 'OK')\n",
    "for idx,row in target.iterrows():\n",
    "    # print(type(row))\n",
    "    # print(row[\"住院号\"])\n",
    "    fil=(fd[\"住院号\"]==row[\"住院号\"]) \\\n",
    "        &(fd[\"科室\"]==row[\"科室\"]) \\\n",
    "        &(fd[\"姓名\"]==row[\"姓名\"]) \\\n",
    "        &(fd[\"借支金额\"]==row[\"借支金额\"]) \\\n",
    "        &(fd[\"还款金额\"]==row[\"还款金额\"]) \\\n",
    "        &(fd[\"还款金额.1\"]==row[\"还款金额.1\"]) \\\n",
    "        &(fd[\"还款金额.2\"]==row[\"还款金额.2\"]) \n",
    "    _temp= fd[fil]  \n",
    "    if len(_temp)==0: # can not match\n",
    "        # print(\"{} is false\".format(idx))\n",
    "        result.loc[len(result)] = row\n",
    "    else:\n",
    "        # print(\"{} is true,fd index is {}\".format(idx,_temp.index.tolist()))\n",
    "        matched.loc[len(matched)] = row\n",
    "        drop_index.extend(_temp.index.tolist())\n",
    "    process_bar.show_process()\n",
    "    time.sleep(0.01)\n",
    "# print(result)\n",
    "# write to error\n",
    "result.to_excel(\"./result.xlsx\",sheet_name=\"Sheet1\",index=False)\n",
    "matched.to_excel(\"./matched.xlsx\",sheet_name=\"Sheet1\",index=False)\n",
    "# print(drop_index)\n",
    "left=fd.drop(drop_index) # 剩余对比结果\n",
    "left.to_excel(\"./left.xlsx\",sheet_name=\"Sheet1\",index=False)\n",
    "print(\"对比结果如下：\")\n",
    "print(\"-----------------------------------\")\n",
    "print(\"一共对比记录：\"+str(target.shape[0]))\n",
    "print(\"其中，正确比对合计：\"+str(matched.shape[0]))\n",
    "print(\"错误对比结果合计：\"+str(result.shape[0]))\n",
    "print(\"原始结果合计：\"+str(fd.shape[0]))\n",
    "print(\"剩余对比结果合计：\"+str(left.shape[0]))\n",
    "print(\"-----------------------------------\")\n",
    "print(\"最后产生三个文件：\")\n",
    "print(\"错误结果：result.xlsx\")\n",
    "print(\"正确结果：matched.xlsx\")\n",
    "print(\"剩余结果：left.xlsx\")\n",
    "print(\"-----------------------------------\")\n",
    "\n",
    "# left.shape"
   ]
  },
  {
   "source": [
    "### 例子： convert data to datetime"
   ],
   "cell_type": "markdown",
   "metadata": {}
  },
  {
   "cell_type": "code",
   "execution_count": null,
   "metadata": {},
   "outputs": [],
   "source": [
    "import pandas as pd\n",
    "\n",
    "df=pd.read_excel(\"./base.xls\",sheet_name=\"Sheet1\")\n",
    "# df.head(10)\n",
    "# fd.dtypes\n",
    "# fd.set_index(pd.to_datetime(fd['借支日期']),inplace=True)\n",
    "# fd['借支日期']=(pd.to_datetime(fd['借支日期'],format='%Y%m%d'))\n",
    "# fd['xi借支日期'] = fd['借支日期'].astype(str)\n",
    "df['还款日期'] = pd.to_datetime(df['还款日期'].astype(str), format='%Y%m%d.0', errors='coerce')\n",
    "df['借支日期'] = pd.to_datetime(df['借支日期'].astype(str), format='%Y%m%d.0', errors='coerce')\n",
    "df\n",
    "# fd['借支日期'] = fd['借支日期'].astype('datetime64[ns]')\n",
    "# fd.head(20)"
   ]
  },
  {
   "cell_type": "code",
   "execution_count": null,
   "metadata": {},
   "outputs": [],
   "source": [
    "import pandas as pd\n",
    "pd.to_datetime(pd.Series([20100329.0, 20100328.0, 20100329.0]).astype(str), format='%Y%m%d.0')"
   ]
  },
  {
   "cell_type": "code",
   "execution_count": null,
   "metadata": {},
   "outputs": [],
   "source": [
    "import numpy as np\n",
    "target=pd.read_excel(\"./base.xls\",sheet_name=\"Sheet1\")\n",
    "target.fillna(0, inplace=True)\n",
    "target.replace(0,np.nan,inplace=True)\n",
    "target.head(10)\n",
    "target.to_excel(\"./test.xlsx\",sheet_name=\"Sheet1\",index=False)"
   ]
  },
  {
   "cell_type": "code",
   "execution_count": null,
   "metadata": {},
   "outputs": [],
   "source": []
  }
 ]
}