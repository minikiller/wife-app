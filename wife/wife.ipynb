{
 "metadata": {
  "language_info": {
   "codemirror_mode": {
    "name": "ipython",
    "version": 3
   },
   "file_extension": ".py",
   "mimetype": "text/x-python",
   "name": "python",
   "nbconvert_exporter": "python",
   "pygments_lexer": "ipython3",
   "version": "3.8.3-final"
  },
  "orig_nbformat": 2,
  "kernelspec": {
   "name": "python3",
   "display_name": "Python 3.8.3 64-bit ('miniconda3': conda)",
   "metadata": {
    "interpreter": {
     "hash": "79d726a1eeaa936146d520281b06ab627d459090c64f2a694c321934a5d5665c"
    }
   }
  }
 },
 "nbformat": 4,
 "nbformat_minor": 2,
 "cells": [
  {
   "source": [
    "### read data"
   ],
   "cell_type": "markdown",
   "metadata": {}
  },
  {
   "cell_type": "code",
   "execution_count": 14,
   "metadata": {},
   "outputs": [
    {
     "output_type": "execute_result",
     "data": {
      "text/plain": [
       "Index(['科室', '住院号', '姓名', '借支日期', '借支金额', '还款日期', '还款金额', '还款日期.1', '还款金额.1',\n",
       "       '还款日期.2', '还款金额.2', '批次'],\n",
       "      dtype='object')"
      ]
     },
     "metadata": {},
     "execution_count": 14
    }
   ],
   "source": [
    "import pandas as pd\n",
    "\n",
    "fd=pd.read_excel(\"./大病新表.xlsx\",sheet_name=\"Sheet2\")\n",
    "# fd.fillna(0, inplace=True)\n",
    "fd.columns\n",
    "# fd.dtypes\n",
    "# fd.set_index(pd.to_datetime(fd['借支日期']),inplace=True)\n",
    "# fd['借支日期']=(pd.to_datetime(fd['借支日期'],format='%Y%m%d'))\n",
    "# fd['xi借支日期'] = fd['借支日期'].astype(str)\n",
    "# fd['借支日期'] = pd.to_datetime(fd['借支日期'], format='%Y%m%d.0', errors='coerce')\n",
    "\n",
    "# fd['借支日期'] = fd['借支日期'].astype('datetime64[ns]')\n",
    "# fd.head(20)\n",
    "# print(\"读取<<大病新表>>成功！\")\n",
    "# print(\"共计{}条记录！\".format(fd.shape[0]))"
   ]
  },
  {
   "cell_type": "code",
   "execution_count": 15,
   "metadata": {},
   "outputs": [
    {
     "output_type": "execute_result",
     "data": {
      "text/plain": [
       "      科室     住院号   姓名        借支日期      借支金额        还款日期     还款金额      还款日期.1  \\\n",
       "222  乳甲外  828174  宋淑珍  20200730.0  17388.69  20200730.0  13848.4  20200730.0   \n",
       "301  乳甲外  828174  宋淑珍  20200814.0   2892.11  20200814.0  2140.07         NaN   \n",
       "467  乳甲外  828174  宋淑珍  20200914.0   2949.20  20200914.0  2582.16         NaN   \n",
       "589  乳甲外  828174  宋淑珍  20200929.0   2602.48  20200929.0  2262.41         NaN   \n",
       "665  乳甲外  828174  宋淑珍  20201012.0   2467.62  20201012.0  2094.97         NaN   \n",
       "\n",
       "     还款金额.1  还款日期.2  还款金额.2  批次  \n",
       "222  3000.0     NaN     NaN NaN  \n",
       "301     NaN     NaN     NaN NaN  \n",
       "467     NaN     NaN     NaN NaN  \n",
       "589     NaN     NaN     NaN NaN  \n",
       "665     NaN     NaN     NaN NaN  "
      ],
      "text/html": "<div>\n<style scoped>\n    .dataframe tbody tr th:only-of-type {\n        vertical-align: middle;\n    }\n\n    .dataframe tbody tr th {\n        vertical-align: top;\n    }\n\n    .dataframe thead th {\n        text-align: right;\n    }\n</style>\n<table border=\"1\" class=\"dataframe\">\n  <thead>\n    <tr style=\"text-align: right;\">\n      <th></th>\n      <th>科室</th>\n      <th>住院号</th>\n      <th>姓名</th>\n      <th>借支日期</th>\n      <th>借支金额</th>\n      <th>还款日期</th>\n      <th>还款金额</th>\n      <th>还款日期.1</th>\n      <th>还款金额.1</th>\n      <th>还款日期.2</th>\n      <th>还款金额.2</th>\n      <th>批次</th>\n    </tr>\n  </thead>\n  <tbody>\n    <tr>\n      <th>222</th>\n      <td>乳甲外</td>\n      <td>828174</td>\n      <td>宋淑珍</td>\n      <td>20200730.0</td>\n      <td>17388.69</td>\n      <td>20200730.0</td>\n      <td>13848.4</td>\n      <td>20200730.0</td>\n      <td>3000.0</td>\n      <td>NaN</td>\n      <td>NaN</td>\n      <td>NaN</td>\n    </tr>\n    <tr>\n      <th>301</th>\n      <td>乳甲外</td>\n      <td>828174</td>\n      <td>宋淑珍</td>\n      <td>20200814.0</td>\n      <td>2892.11</td>\n      <td>20200814.0</td>\n      <td>2140.07</td>\n      <td>NaN</td>\n      <td>NaN</td>\n      <td>NaN</td>\n      <td>NaN</td>\n      <td>NaN</td>\n    </tr>\n    <tr>\n      <th>467</th>\n      <td>乳甲外</td>\n      <td>828174</td>\n      <td>宋淑珍</td>\n      <td>20200914.0</td>\n      <td>2949.20</td>\n      <td>20200914.0</td>\n      <td>2582.16</td>\n      <td>NaN</td>\n      <td>NaN</td>\n      <td>NaN</td>\n      <td>NaN</td>\n      <td>NaN</td>\n    </tr>\n    <tr>\n      <th>589</th>\n      <td>乳甲外</td>\n      <td>828174</td>\n      <td>宋淑珍</td>\n      <td>20200929.0</td>\n      <td>2602.48</td>\n      <td>20200929.0</td>\n      <td>2262.41</td>\n      <td>NaN</td>\n      <td>NaN</td>\n      <td>NaN</td>\n      <td>NaN</td>\n      <td>NaN</td>\n    </tr>\n    <tr>\n      <th>665</th>\n      <td>乳甲外</td>\n      <td>828174</td>\n      <td>宋淑珍</td>\n      <td>20201012.0</td>\n      <td>2467.62</td>\n      <td>20201012.0</td>\n      <td>2094.97</td>\n      <td>NaN</td>\n      <td>NaN</td>\n      <td>NaN</td>\n      <td>NaN</td>\n      <td>NaN</td>\n    </tr>\n  </tbody>\n</table>\n</div>"
     },
     "metadata": {},
     "execution_count": 15
    }
   ],
   "source": [
    "fd[fd['姓名']=='宋淑珍']"
   ]
  },
  {
   "cell_type": "code",
   "execution_count": null,
   "metadata": {},
   "outputs": [],
   "source": [
    "fd.describe()"
   ]
  },
  {
   "source": [
    "1. filter by fd[\"借支金额\"].isna()"
   ],
   "cell_type": "markdown",
   "metadata": {}
  },
  {
   "cell_type": "code",
   "execution_count": null,
   "metadata": {},
   "outputs": [],
   "source": [
    "fd[fd[\"借支金额\"].isna()]"
   ]
  },
  {
   "source": [
    "1.1 continue to filter fd[\"借支金额\"].isna()&fd[\"还款金额\"].notna()\n"
   ],
   "cell_type": "markdown",
   "metadata": {}
  },
  {
   "source": [
    "fd[fd[\"借支金额\"].isna()&fd[\"还款金额\"].notna()&fd[\"还款金额.1\"].isna()]"
   ],
   "cell_type": "markdown",
   "metadata": {}
  },
  {
   "source": [
    "fd[fd[\"借支金额\"].isna()&fd[\"还款金额\"].notna()&fd[\"还款金额.1\"].notna()]\n"
   ],
   "cell_type": "markdown",
   "metadata": {}
  },
  {
   "source": [
    "2. filter by fd[\"借支金额\"].notna()"
   ],
   "cell_type": "markdown",
   "metadata": {}
  },
  {
   "source": [
    "fd[fd[\"借支金额\"].notna()]"
   ],
   "cell_type": "markdown",
   "metadata": {}
  },
  {
   "source": [
    "### testing a filter"
   ],
   "cell_type": "markdown",
   "metadata": {}
  },
  {
   "cell_type": "code",
   "execution_count": null,
   "metadata": {},
   "outputs": [],
   "source": [
    "target=pd.read_excel(\"./base.xls\",sheet_name=\"Sheet1\")\n",
    "target.fillna(0, inplace=True)\n",
    "# target[['借支金额']].fillna(0, inplace=True)\n",
    "# target[['还款金额','借支金额']]=target[['还款金额','借支金额']].fillna(0, inplace=True)\n",
    "# target.info()\n",
    "target.columns"
   ]
  },
  {
   "cell_type": "code",
   "execution_count": null,
   "metadata": {
    "tags": []
   },
   "outputs": [],
   "source": [
    "import process,time\n",
    "result = pd.DataFrame(columns = fd.columns) # 错误结果 \n",
    "matched =  pd.DataFrame(columns = fd.columns)  # 正确结果\n",
    "drop_index=[] #记录需要删除对行号\n",
    "\n",
    "max_steps=target.shape[0]\n",
    "process_bar = process.ShowProcess(max_steps, 'OK')\n",
    "for idx,row in target.iterrows():\n",
    "    # print(type(row))\n",
    "    # print(row[\"住院号\"])\n",
    "    fil=(fd[\"住院号\"]==row[\"住院号\"]) \\\n",
    "        &(fd[\"科室\"]==row[\"科室\"]) \\\n",
    "        &(fd[\"姓名\"]==row[\"姓名\"]) \\\n",
    "        &(fd[\"借支金额\"]==row[\"借支金额\"]) \\\n",
    "        &(fd[\"还款金额\"]==row[\"还款金额\"]) \\\n",
    "        &(fd[\"还款金额.1\"]==row[\"还款金额.1\"]) \\\n",
    "        &(fd[\"还款金额.2\"]==row[\"还款金额.2\"]) \n",
    "    _temp= fd[fil]  \n",
    "    if len(_temp)==0: # can not match\n",
    "        # print(\"{} is false\".format(idx))\n",
    "        result.loc[len(result)] = row\n",
    "    else:\n",
    "        # print(\"{} is true,fd index is {}\".format(idx,_temp.index.tolist()))\n",
    "        matched.loc[len(matched)] = row\n",
    "        drop_index.extend(_temp.index.tolist())\n",
    "    process_bar.show_process()\n",
    "    time.sleep(0.01)\n",
    "# print(result)\n",
    "# write to error\n",
    "result.to_excel(\"./result.xlsx\",sheet_name=\"Sheet1\",index=False)\n",
    "matched.to_excel(\"./matched.xlsx\",sheet_name=\"Sheet1\",index=False)\n",
    "# print(drop_index)\n",
    "left=fd.drop(drop_index) # 剩余对比结果\n",
    "left.to_excel(\"./left.xlsx\",sheet_name=\"Sheet1\",index=False)\n",
    "print(\"对比结果如下：\")\n",
    "print(\"-----------------------------------\")\n",
    "print(\"一共对比记录：\"+str(target.shape[0]))\n",
    "print(\"其中，正确比对合计：\"+str(matched.shape[0]))\n",
    "print(\"错误对比结果合计：\"+str(result.shape[0]))\n",
    "print(\"原始结果合计：\"+str(fd.shape[0]))\n",
    "print(\"剩余对比结果合计：\"+str(left.shape[0]))\n",
    "print(\"-----------------------------------\")\n",
    "print(\"最后产生三个文件：\")\n",
    "print(\"错误结果：result.xlsx\")\n",
    "print(\"正确结果：matched.xlsx\")\n",
    "print(\"剩余结果：left.xlsx\")\n",
    "print(\"-----------------------------------\")\n",
    "\n",
    "# left.shape"
   ]
  },
  {
   "source": [
    "### 例子： convert data to datetime"
   ],
   "cell_type": "markdown",
   "metadata": {}
  },
  {
   "cell_type": "code",
   "execution_count": null,
   "metadata": {},
   "outputs": [],
   "source": [
    "import pandas as pd\n",
    "\n",
    "df=pd.read_excel(\"./base.xls\",sheet_name=\"Sheet1\")\n",
    "# df.head(10)\n",
    "# fd.dtypes\n",
    "# fd.set_index(pd.to_datetime(fd['借支日期']),inplace=True)\n",
    "# fd['借支日期']=(pd.to_datetime(fd['借支日期'],format='%Y%m%d'))\n",
    "# fd['xi借支日期'] = fd['借支日期'].astype(str)\n",
    "df['还款日期'] = pd.to_datetime(df['还款日期'].astype(str), format='%Y%m%d.0', errors='coerce')\n",
    "df['借支日期'] = pd.to_datetime(df['借支日期'].astype(str), format='%Y%m%d.0', errors='coerce')\n",
    "df\n",
    "# fd['借支日期'] = fd['借支日期'].astype('datetime64[ns]')\n",
    "# fd.head(20)"
   ]
  },
  {
   "cell_type": "code",
   "execution_count": null,
   "metadata": {},
   "outputs": [],
   "source": [
    "import pandas as pd\n",
    "pd.to_datetime(pd.Series([20100329.0, 20100328.0, 20100329.0]).astype(str), format='%Y%m%d.0')"
   ]
  },
  {
   "cell_type": "code",
   "execution_count": null,
   "metadata": {},
   "outputs": [],
   "source": [
    "import numpy as np\n",
    "target=pd.read_excel(\"./base.xls\",sheet_name=\"Sheet1\")\n",
    "target.fillna(0, inplace=True)\n",
    "target.replace(0,np.nan,inplace=True)\n",
    "target.head(10)\n",
    "target.to_excel(\"./test.xlsx\",sheet_name=\"Sheet1\",index=False)"
   ]
  },
  {
   "cell_type": "code",
   "execution_count": null,
   "metadata": {},
   "outputs": [],
   "source": []
  }
 ]
}