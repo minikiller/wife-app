{
 "metadata": {
  "language_info": {
   "codemirror_mode": {
    "name": "ipython",
    "version": 3
   },
   "file_extension": ".py",
   "mimetype": "text/x-python",
   "name": "python",
   "nbconvert_exporter": "python",
   "pygments_lexer": "ipython3",
   "version": "3.8.3-final"
  },
  "orig_nbformat": 2,
  "kernelspec": {
   "name": "python3",
   "display_name": "Python 3"
  }
 },
 "nbformat": 4,
 "nbformat_minor": 2,
 "cells": [
  {
   "cell_type": "code",
   "execution_count": 89,
   "metadata": {},
   "outputs": [],
   "source": [
    "import pandas as pd\n",
    "\n",
    "target=pd.read_excel('./2020.xlsx')\n"
   ]
  },
  {
   "cell_type": "code",
   "execution_count": 90,
   "metadata": {},
   "outputs": [
    {
     "output_type": "execute_result",
     "data": {
      "text/plain": [
       "(486, 37)"
      ]
     },
     "metadata": {},
     "execution_count": 90
    }
   ],
   "source": [
    "target.shape"
   ]
  },
  {
   "cell_type": "code",
   "execution_count": 91,
   "metadata": {},
   "outputs": [],
   "source": [
    "t_field=['科室','住院号','姓名','借支','还款1','还款2','还款3','入院时间','出院时间']\n",
    "t_data=target[t_field]\n",
    "t_data.fillna(0, inplace=True)"
   ]
  },
  {
   "cell_type": "code",
   "execution_count": 128,
   "metadata": {},
   "outputs": [
    {
     "output_type": "stream",
     "name": "stdout",
     "text": [
      "<class 'pandas.core.frame.DataFrame'>\nRangeIndex: 947 entries, 0 to 946\nData columns (total 12 columns):\n #   Column  Non-Null Count  Dtype  \n---  ------  --------------  -----  \n 0   科室      947 non-null    object \n 1   住院号     947 non-null    int64  \n 2   姓名      947 non-null    object \n 3   借支日期    947 non-null    float64\n 4   借支金额    947 non-null    float64\n 5   还款日期    947 non-null    float64\n 6   还款金额    947 non-null    float64\n 7   还款日期.1  947 non-null    float64\n 8   还款金额.1  947 non-null    float64\n 9   还款日期.2  947 non-null    float64\n 10  还款金额.2  947 non-null    float64\n 11  批次      947 non-null    float64\ndtypes: float64(9), int64(1), object(2)\nmemory usage: 88.9+ KB\n"
     ]
    }
   ],
   "source": [
    "# t_data.isnull().sum()\n",
    "\n",
    "dabing=pd.read_excel(\"./大病新表.xlsx\",sheet_name=\"Sheet2\")\n",
    "dabing.fillna(0, inplace=True)\n",
    "# s_field=['科室','住院号','姓名','借支金额','还款金额','还款金额.1','还款金额.2']\n",
    "# dabing=fd[s_field]\n",
    "# dabing.info()\n",
    "fd.info()"
   ]
  },
  {
   "cell_type": "code",
   "execution_count": 93,
   "metadata": {},
   "outputs": [],
   "source": [
    "# dabing['还款金额'] = pd.to_numeric(dabing['还款金额'],errors='coerce')\n",
    "# dabing['还款金额'] = pd.to_numeric(dabing['还款金额'])"
   ]
  },
  {
   "cell_type": "code",
   "execution_count": 94,
   "metadata": {},
   "outputs": [],
   "source": [
    "# dabing[dabing['还款金额'].isnull()]\n",
    "# dabing['还款金额'].isnull().sum()\n",
    "# dabing.info()"
   ]
  },
  {
   "source": [
    "#### 查询住院号"
   ],
   "cell_type": "markdown",
   "metadata": {}
  },
  {
   "cell_type": "code",
   "execution_count": 95,
   "metadata": {},
   "outputs": [
    {
     "output_type": "execute_result",
     "data": {
      "text/plain": [
       "Empty DataFrame\n",
       "Columns: [科室, 住院号, 姓名, 借支金额, 还款金额, 还款金额.1, 还款金额.2]\n",
       "Index: []"
      ],
      "text/html": "<div>\n<style scoped>\n    .dataframe tbody tr th:only-of-type {\n        vertical-align: middle;\n    }\n\n    .dataframe tbody tr th {\n        vertical-align: top;\n    }\n\n    .dataframe thead th {\n        text-align: right;\n    }\n</style>\n<table border=\"1\" class=\"dataframe\">\n  <thead>\n    <tr style=\"text-align: right;\">\n      <th></th>\n      <th>科室</th>\n      <th>住院号</th>\n      <th>姓名</th>\n      <th>借支金额</th>\n      <th>还款金额</th>\n      <th>还款金额.1</th>\n      <th>还款金额.2</th>\n    </tr>\n  </thead>\n  <tbody>\n  </tbody>\n</table>\n</div>"
     },
     "metadata": {},
     "execution_count": 95
    }
   ],
   "source": [
    "value=\"822880\"\n",
    "dabing[dabing['住院号']==name]"
   ]
  },
  {
   "source": [
    "#### 查询人名字"
   ],
   "cell_type": "markdown",
   "metadata": {}
  },
  {
   "cell_type": "code",
   "execution_count": 125,
   "metadata": {},
   "outputs": [],
   "source": [
    "name=\"陈宾山\""
   ]
  },
  {
   "cell_type": "code",
   "execution_count": 127,
   "metadata": {},
   "outputs": [
    {
     "output_type": "execute_result",
     "data": {
      "text/plain": [
       "    科室     住院号   姓名        借支日期     借支金额        还款日期    还款金额      还款日期.1  \\\n",
       "78  创伤  820622  陈宾山  20200331.0  8187.01  20200331.0  1500.0  20200331.0   \n",
       "\n",
       "     还款金额.1  还款日期.2  还款金额.2  批次  \n",
       "78  3811.35     0.0     0.0   5  "
      ],
      "text/html": "<div>\n<style scoped>\n    .dataframe tbody tr th:only-of-type {\n        vertical-align: middle;\n    }\n\n    .dataframe tbody tr th {\n        vertical-align: top;\n    }\n\n    .dataframe thead th {\n        text-align: right;\n    }\n</style>\n<table border=\"1\" class=\"dataframe\">\n  <thead>\n    <tr style=\"text-align: right;\">\n      <th></th>\n      <th>科室</th>\n      <th>住院号</th>\n      <th>姓名</th>\n      <th>借支日期</th>\n      <th>借支金额</th>\n      <th>还款日期</th>\n      <th>还款金额</th>\n      <th>还款日期.1</th>\n      <th>还款金额.1</th>\n      <th>还款日期.2</th>\n      <th>还款金额.2</th>\n      <th>批次</th>\n    </tr>\n  </thead>\n  <tbody>\n    <tr>\n      <th>78</th>\n      <td>创伤</td>\n      <td>820622</td>\n      <td>陈宾山</td>\n      <td>20200331.0</td>\n      <td>8187.01</td>\n      <td>20200331.0</td>\n      <td>1500.0</td>\n      <td>20200331.0</td>\n      <td>3811.35</td>\n      <td>0.0</td>\n      <td>0.0</td>\n      <td>5</td>\n    </tr>\n  </tbody>\n</table>\n</div>"
     },
     "metadata": {},
     "execution_count": 127
    }
   ],
   "source": [
    "# tmp=dabing[dabing['姓名']==name]\n",
    "# tmp['批次']=5\n",
    "# tmp"
   ]
  },
  {
   "cell_type": "code",
   "execution_count": 122,
   "metadata": {},
   "outputs": [
    {
     "output_type": "execute_result",
     "data": {
      "text/plain": [
       "     科室     住院号   姓名       借支      还款1  还款2  还款3        入院时间        出院时间\n",
       "212  创伤  820622  陈宾山  8187.01  4111.35  0.0  0.0  2020.01.03  2020.01.22"
      ],
      "text/html": "<div>\n<style scoped>\n    .dataframe tbody tr th:only-of-type {\n        vertical-align: middle;\n    }\n\n    .dataframe tbody tr th {\n        vertical-align: top;\n    }\n\n    .dataframe thead th {\n        text-align: right;\n    }\n</style>\n<table border=\"1\" class=\"dataframe\">\n  <thead>\n    <tr style=\"text-align: right;\">\n      <th></th>\n      <th>科室</th>\n      <th>住院号</th>\n      <th>姓名</th>\n      <th>借支</th>\n      <th>还款1</th>\n      <th>还款2</th>\n      <th>还款3</th>\n      <th>入院时间</th>\n      <th>出院时间</th>\n    </tr>\n  </thead>\n  <tbody>\n    <tr>\n      <th>212</th>\n      <td>创伤</td>\n      <td>820622</td>\n      <td>陈宾山</td>\n      <td>8187.01</td>\n      <td>4111.35</td>\n      <td>0.0</td>\n      <td>0.0</td>\n      <td>2020.01.03</td>\n      <td>2020.01.22</td>\n    </tr>\n  </tbody>\n</table>\n</div>"
     },
     "metadata": {},
     "execution_count": 122
    }
   ],
   "source": [
    "t_data[t_data['姓名']==name]"
   ]
  },
  {
   "cell_type": "code",
   "execution_count": 142,
   "metadata": {},
   "outputs": [],
   "source": [
    "import openpyxl\n",
    "def add_sheet(data, excel_writer, sheet_name):\n",
    "    \"\"\"\n",
    "    不改变原有Excel的数据，新增sheet。\n",
    "    注：\n",
    "        使用openpyxl操作Excel时Excel必需存在，因此要新建空sheet\n",
    "        无论如何sheet页都会被新建，只是当sheet_name已经存在时会新建一个以1结尾的sheet，如：test已经存在时，新建sheet为test1，以此类推\n",
    "    :param data: DataFrame数据\n",
    "    :param excel_writer: 文件路径\n",
    "    :param sheet_name: 新增的sheet名称\n",
    "    :return:\n",
    "    \"\"\"\n",
    "    book = openpyxl.load_workbook(excel_writer.path)\n",
    "    excel_writer.book = book\n",
    "    data.to_excel(excel_writer=excel_writer, sheet_name=sheet_name, index=None,header=True)\n",
    " \n",
    "    excel_writer.close()"
   ]
  },
  {
   "cell_type": "code",
   "execution_count": 143,
   "metadata": {},
   "outputs": [
    {
     "output_type": "stream",
     "name": "stdout",
     "text": [
      "\n",
      "OK\n",
      "对比结果如下：\n",
      "-----------------------------------\n",
      "一共对比记录：486\n",
      "其中，正确比对合计：354\n",
      "错误对比结果合计：132\n",
      "原始结果合计：947\n",
      "剩余对比结果合计：593\n",
      "-----------------------------------\n",
      "最后产生三个文件：\n",
      "错误结果：result.xlsx\n",
      "正确结果：matched.xlsx\n",
      "剩余结果：left.xlsx\n",
      "-----------------------------------\n"
     ]
    }
   ],
   "source": [
    "import process \n",
    "import time\n",
    "result = pd.DataFrame(columns = t_data.columns) # 错误结果 \n",
    "matched =  pd.DataFrame(columns = t_data.columns)  # 正确结果\n",
    "drop_index=[] #记录需要删除的行号\n",
    "\n",
    "max_steps=t_data.shape[0]\n",
    "process_bar = process.ShowProcess(max_steps, 'OK')\n",
    "for idx,row in t_data.iterrows():\n",
    "    # print(type(row))\n",
    "    # print(row[\"住院号\"])\n",
    "    fil=(dabing[\"住院号\"]==row[\"住院号\"]) \\\n",
    "        &(dabing[\"姓名\"]==row[\"姓名\"]) \\\n",
    "        &(dabing[\"借支金额\"]==row[\"借支\"]) \\\n",
    "        &(dabing[\"还款金额\"]==row[\"还款1\"]) \\\n",
    "        &(dabing[\"还款金额.1\"]==row[\"还款2\"]) \\\n",
    "        &(dabing[\"还款金额.2\"]==row[\"还款3\"]) \n",
    "        # &(fd[\"科室\"]==row[\"科室\"]) \\\n",
    "\n",
    "    _temp= dabing[fil]  \n",
    "    if len(_temp)==0: # can not match\n",
    "        # print(\"{} is false\".format(idx))\n",
    "        result.loc[len(result)] = row\n",
    "    elif len(_temp)==1:\n",
    "        # print(\"{} is true,fd index is {}\".format(idx,_temp.index.tolist()))\n",
    "        matched.loc[len(matched)] = row\n",
    "        drop_index.extend(_temp.index.tolist())\n",
    "        dabing.loc[_temp.index,'批次']=5\n",
    "        # print(dabing.loc[_temp.index,'批次'])\n",
    "    else:\n",
    "        print(\"有两条记录满足{}\".format(_temp.index))\n",
    "    process_bar.show_process()\n",
    "    time.sleep(0.01)\n",
    "# print(result)\n",
    "# write to error\n",
    "result.to_excel(\"./result.xlsx\",sheet_name=\"Sheet1\",index=False)\n",
    "matched.to_excel(\"./matched.xlsx\",sheet_name=\"Sheet1\",index=False)\n",
    "# print(drop_index)\n",
    "left=fd.drop(drop_index) # 剩余对比结果\n",
    "left.to_excel(\"./left.xlsx\",sheet_name=\"Sheet1\",index=False)\n",
    "excel_writer = pd.ExcelWriter(\"./大病新表.xlsx\", engine='openpyxl')\n",
    "add_sheet(dabing,excel_writer,\"比对\")\n",
    "print(\"对比结果如下：\")\n",
    "print(\"-----------------------------------\")\n",
    "print(\"一共对比记录：\"+str(target.shape[0]))\n",
    "print(\"其中，正确比对合计：\"+str(matched.shape[0]))\n",
    "print(\"错误对比结果合计：\"+str(result.shape[0]))\n",
    "print(\"原始结果合计：\"+str(fd.shape[0]))\n",
    "print(\"剩余对比结果合计：\"+str(left.shape[0]))\n",
    "print(\"-----------------------------------\")\n",
    "print(\"最后产生三个文件：\")\n",
    "print(\"错误结果：result.xlsx\")\n",
    "print(\"正确结果：matched.xlsx\")\n",
    "print(\"剩余结果：left.xlsx\")\n",
    "print(\"-----------------------------------\")"
   ]
  },
  {
   "cell_type": "code",
   "execution_count": null,
   "metadata": {},
   "outputs": [],
   "source": []
  }
 ]
}