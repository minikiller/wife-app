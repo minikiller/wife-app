{
 "metadata": {
  "language_info": {
   "codemirror_mode": {
    "name": "ipython",
    "version": 3
   },
   "file_extension": ".py",
   "mimetype": "text/x-python",
   "name": "python",
   "nbconvert_exporter": "python",
   "pygments_lexer": "ipython3",
   "version": "3.8.2-final"
  },
  "orig_nbformat": 2,
  "kernelspec": {
   "name": "Python 3.8.2 64-bit ('.venv': venv)",
   "display_name": "Python 3.8.2 64-bit ('.venv': venv)",
   "metadata": {
    "interpreter": {
     "hash": "6bcbc6877a10d7c17acffc9008a4e7f0e03bf07c7686e7fa4151dfe91791347c"
    }
   }
  }
 },
 "nbformat": 4,
 "nbformat_minor": 2,
 "cells": [
  {
   "cell_type": "code",
   "execution_count": 22,
   "metadata": {},
   "outputs": [
    {
     "output_type": "stream",
     "name": "stdout",
     "text": [
      "<class 'pandas.core.frame.DataFrame'>\nRangeIndex: 213 entries, 0 to 212\nData columns (total 11 columns):\n #   Column  Non-Null Count  Dtype  \n---  ------  --------------  -----  \n 0   日期      213 non-null    object \n 1   类目名称    213 non-null    object \n 2   买家数     213 non-null    int64  \n 3   成交金额    213 non-null    int64  \n 4   搜索人数    213 non-null    int64  \n 5   成交金额占比  213 non-null    object \n 6   成交金额同比  213 non-null    object \n 7   成交人数占比  213 non-null    object \n 8   成交人数同比  213 non-null    object \n 9   客单价     213 non-null    float64\n 10  UV价值    213 non-null    float64\ndtypes: float64(2), int64(3), object(6)\nmemory usage: 18.4+ KB\n"
     ]
    }
   ],
   "source": [
    "import pandas as pd\n",
    "\n",
    "df=pd.read_csv(\"./data/3C数码1710.csv\")\n",
    "# df=pd.read_csv(\"./data/3C数码1710.csv\",index_col=\"日期\",parse_dates=True)\n",
    "df.info()"
   ]
  },
  {
   "source": [
    "清洗数据，分离日期字段，分成了2个字段，同时把日期设置为index\n"
   ],
   "cell_type": "markdown",
   "metadata": {}
  },
  {
   "cell_type": "code",
   "execution_count": 23,
   "metadata": {},
   "outputs": [
    {
     "output_type": "execute_result",
     "data": {
      "text/plain": [
       "                 类目名称       买家数       成交金额      搜索人数  成交金额占比   成交金额同比  成交人数占比  \\\n",
       "开始日期                                                                            \n",
       "2017-10-01    手机保护套/壳  27524495  503205377  82138973  38.16%   70.34%  52.07%   \n",
       "2017-10-01       手机贴膜  18384095  190704104  26656100  11.79%   28.26%  25.05%   \n",
       "2017-10-01      手机零部件   2125787  189281648  15767938  11.72%   12.75%   5.28%   \n",
       "2017-10-01       移动电源   2801112  188888518  14276910  11.70%   27.56%   7.22%   \n",
       "2017-10-01      手机数据线   4178627  153248705  10788473   8.04%   68.09%  11.07%   \n",
       "...               ...       ...        ...       ...     ...      ...     ...   \n",
       "2017-10-01  MP3/MP4支架        55       4751      2733       -  -43.97%       -   \n",
       "2017-10-01    Lomo闪光灯         1       4275        57       -        -       -   \n",
       "2017-10-01       苹果卡贴         1        201       685       -  -91.10%       -   \n",
       "2017-10-01        分压盒        10        198       682       -  -50.34%       -   \n",
       "2017-10-01    Lomo潜水盒         0         16         1       -        -       -   \n",
       "\n",
       "             成交人数同比      客单价   UV价值       开始日期       结束日期  \n",
       "开始日期                                                       \n",
       "2017-10-01   11.20%    18.28   6.13 2017-10-01 2017-10-31  \n",
       "2017-10-01   16.74%    10.37   7.15 2017-10-01 2017-10-31  \n",
       "2017-10-01   11.70%    89.04  12.00 2017-10-01 2017-10-31  \n",
       "2017-10-01   11.89%    67.43  13.23 2017-10-01 2017-10-31  \n",
       "2017-10-01   22.33%    36.67  14.20 2017-10-01 2017-10-31  \n",
       "...             ...      ...    ...        ...        ...  \n",
       "2017-10-01  -32.18%    86.38   1.74 2017-10-01 2017-10-31  \n",
       "2017-10-01        -  4275.00  75.00 2017-10-01 2017-10-31  \n",
       "2017-10-01  -68.02%   201.00   0.29 2017-10-01 2017-10-31  \n",
       "2017-10-01  303.66%    19.80   0.29 2017-10-01 2017-10-31  \n",
       "2017-10-01        -     0.00  16.00 2017-10-01 2017-10-31  \n",
       "\n",
       "[213 rows x 12 columns]"
      ],
      "text/html": "<div>\n<style scoped>\n    .dataframe tbody tr th:only-of-type {\n        vertical-align: middle;\n    }\n\n    .dataframe tbody tr th {\n        vertical-align: top;\n    }\n\n    .dataframe thead th {\n        text-align: right;\n    }\n</style>\n<table border=\"1\" class=\"dataframe\">\n  <thead>\n    <tr style=\"text-align: right;\">\n      <th></th>\n      <th>类目名称</th>\n      <th>买家数</th>\n      <th>成交金额</th>\n      <th>搜索人数</th>\n      <th>成交金额占比</th>\n      <th>成交金额同比</th>\n      <th>成交人数占比</th>\n      <th>成交人数同比</th>\n      <th>客单价</th>\n      <th>UV价值</th>\n      <th>开始日期</th>\n      <th>结束日期</th>\n    </tr>\n    <tr>\n      <th>开始日期</th>\n      <th></th>\n      <th></th>\n      <th></th>\n      <th></th>\n      <th></th>\n      <th></th>\n      <th></th>\n      <th></th>\n      <th></th>\n      <th></th>\n      <th></th>\n      <th></th>\n    </tr>\n  </thead>\n  <tbody>\n    <tr>\n      <th>2017-10-01</th>\n      <td>手机保护套/壳</td>\n      <td>27524495</td>\n      <td>503205377</td>\n      <td>82138973</td>\n      <td>38.16%</td>\n      <td>70.34%</td>\n      <td>52.07%</td>\n      <td>11.20%</td>\n      <td>18.28</td>\n      <td>6.13</td>\n      <td>2017-10-01</td>\n      <td>2017-10-31</td>\n    </tr>\n    <tr>\n      <th>2017-10-01</th>\n      <td>手机贴膜</td>\n      <td>18384095</td>\n      <td>190704104</td>\n      <td>26656100</td>\n      <td>11.79%</td>\n      <td>28.26%</td>\n      <td>25.05%</td>\n      <td>16.74%</td>\n      <td>10.37</td>\n      <td>7.15</td>\n      <td>2017-10-01</td>\n      <td>2017-10-31</td>\n    </tr>\n    <tr>\n      <th>2017-10-01</th>\n      <td>手机零部件</td>\n      <td>2125787</td>\n      <td>189281648</td>\n      <td>15767938</td>\n      <td>11.72%</td>\n      <td>12.75%</td>\n      <td>5.28%</td>\n      <td>11.70%</td>\n      <td>89.04</td>\n      <td>12.00</td>\n      <td>2017-10-01</td>\n      <td>2017-10-31</td>\n    </tr>\n    <tr>\n      <th>2017-10-01</th>\n      <td>移动电源</td>\n      <td>2801112</td>\n      <td>188888518</td>\n      <td>14276910</td>\n      <td>11.70%</td>\n      <td>27.56%</td>\n      <td>7.22%</td>\n      <td>11.89%</td>\n      <td>67.43</td>\n      <td>13.23</td>\n      <td>2017-10-01</td>\n      <td>2017-10-31</td>\n    </tr>\n    <tr>\n      <th>2017-10-01</th>\n      <td>手机数据线</td>\n      <td>4178627</td>\n      <td>153248705</td>\n      <td>10788473</td>\n      <td>8.04%</td>\n      <td>68.09%</td>\n      <td>11.07%</td>\n      <td>22.33%</td>\n      <td>36.67</td>\n      <td>14.20</td>\n      <td>2017-10-01</td>\n      <td>2017-10-31</td>\n    </tr>\n    <tr>\n      <th>...</th>\n      <td>...</td>\n      <td>...</td>\n      <td>...</td>\n      <td>...</td>\n      <td>...</td>\n      <td>...</td>\n      <td>...</td>\n      <td>...</td>\n      <td>...</td>\n      <td>...</td>\n      <td>...</td>\n      <td>...</td>\n    </tr>\n    <tr>\n      <th>2017-10-01</th>\n      <td>MP3/MP4支架</td>\n      <td>55</td>\n      <td>4751</td>\n      <td>2733</td>\n      <td>-</td>\n      <td>-43.97%</td>\n      <td>-</td>\n      <td>-32.18%</td>\n      <td>86.38</td>\n      <td>1.74</td>\n      <td>2017-10-01</td>\n      <td>2017-10-31</td>\n    </tr>\n    <tr>\n      <th>2017-10-01</th>\n      <td>Lomo闪光灯</td>\n      <td>1</td>\n      <td>4275</td>\n      <td>57</td>\n      <td>-</td>\n      <td>-</td>\n      <td>-</td>\n      <td>-</td>\n      <td>4275.00</td>\n      <td>75.00</td>\n      <td>2017-10-01</td>\n      <td>2017-10-31</td>\n    </tr>\n    <tr>\n      <th>2017-10-01</th>\n      <td>苹果卡贴</td>\n      <td>1</td>\n      <td>201</td>\n      <td>685</td>\n      <td>-</td>\n      <td>-91.10%</td>\n      <td>-</td>\n      <td>-68.02%</td>\n      <td>201.00</td>\n      <td>0.29</td>\n      <td>2017-10-01</td>\n      <td>2017-10-31</td>\n    </tr>\n    <tr>\n      <th>2017-10-01</th>\n      <td>分压盒</td>\n      <td>10</td>\n      <td>198</td>\n      <td>682</td>\n      <td>-</td>\n      <td>-50.34%</td>\n      <td>-</td>\n      <td>303.66%</td>\n      <td>19.80</td>\n      <td>0.29</td>\n      <td>2017-10-01</td>\n      <td>2017-10-31</td>\n    </tr>\n    <tr>\n      <th>2017-10-01</th>\n      <td>Lomo潜水盒</td>\n      <td>0</td>\n      <td>16</td>\n      <td>1</td>\n      <td>-</td>\n      <td>-</td>\n      <td>-</td>\n      <td>-</td>\n      <td>0.00</td>\n      <td>16.00</td>\n      <td>2017-10-01</td>\n      <td>2017-10-31</td>\n    </tr>\n  </tbody>\n</table>\n<p>213 rows × 12 columns</p>\n</div>"
     },
     "metadata": {},
     "execution_count": 23
    }
   ],
   "source": [
    "new_date=df['日期'].str.split(\"|\", n = 1, expand = True) \n",
    "df['开始日期']=new_date[0]\n",
    "df['结束日期']=new_date[1]\n",
    "df['开始日期']=pd.to_datetime(df['开始日期'].astype(str),format='%Y-%m-%d')\n",
    "df['结束日期']=pd.to_datetime(df['结束日期'].astype(str),format='%Y-%m-%d')\n",
    "del df['日期'] \n",
    "df.set_index(df['开始日期'])\n"
   ]
  },
  {
   "cell_type": "code",
   "execution_count": 38,
   "metadata": {},
   "outputs": [
    {
     "output_type": "execute_result",
     "data": {
      "text/plain": [
       "[['哈士奇', 128],\n",
       " ['萨摩耶', 149],\n",
       " ['泰迪', 47],\n",
       " ['金毛', 139],\n",
       " ['牧羊犬', 55],\n",
       " ['吉娃娃', 145],\n",
       " ['柯基', 92]]"
      ]
     },
     "metadata": {},
     "execution_count": 38
    }
   ],
   "source": [
    " \n",
    "from pyecharts.faker import Faker\n",
    "[list(z) for z in zip(Faker.choose(), Faker.values())]"
   ]
  },
  {
   "cell_type": "code",
   "execution_count": 57,
   "metadata": {},
   "outputs": [
    {
     "output_type": "execute_result",
     "data": {
      "text/plain": [
       "          类目名称       买家数       成交金额      搜索人数  成交金额占比   成交金额同比  成交人数占比  \\\n",
       "0      手机保护套/壳  27524495  503205377  82138973  38.16%   70.34%  52.07%   \n",
       "1         手机贴膜  18384095  190704104  26656100  11.79%   28.26%  25.05%   \n",
       "2        手机零部件   2125787  189281648  15767938  11.72%   12.75%   5.28%   \n",
       "3         移动电源   2801112  188888518  14276910  11.70%   27.56%   7.22%   \n",
       "4        手机数据线   4178627  153248705  10788473   8.04%   68.09%  11.07%   \n",
       "..         ...       ...        ...       ...     ...      ...     ...   \n",
       "208  MP3/MP4支架        55       4751      2733       -  -43.97%       -   \n",
       "209    Lomo闪光灯         1       4275        57       -        -       -   \n",
       "210       苹果卡贴         1        201       685       -  -91.10%       -   \n",
       "211        分压盒        10        198       682       -  -50.34%       -   \n",
       "212    Lomo潜水盒         0         16         1       -        -       -   \n",
       "\n",
       "      成交人数同比      客单价   UV价值       开始日期       结束日期  hello  world        world1  \n",
       "0     11.20%    18.28   6.13 2017-10-01 2017-10-31   22.0   38.0  2.173562e+01  \n",
       "1     16.74%    10.37   7.15 2017-10-01 2017-10-31    8.0   25.0  8.237336e+00  \n",
       "2     11.70%    89.04  12.00 2017-10-01 2017-10-31    8.0    3.0  8.175894e+00  \n",
       "3     11.89%    67.43  13.23 2017-10-01 2017-10-31    8.0    4.0  8.158913e+00  \n",
       "4     22.33%    36.67  14.20 2017-10-01 2017-10-31    7.0    6.0  6.619475e+00  \n",
       "..       ...      ...    ...        ...        ...    ...    ...           ...  \n",
       "208  -32.18%    86.38   1.74 2017-10-01 2017-10-31    0.0    0.0  2.052163e-04  \n",
       "209        -  4275.00  75.00 2017-10-01 2017-10-31    0.0    0.0  1.846558e-04  \n",
       "210  -68.02%   201.00   0.29 2017-10-01 2017-10-31    0.0    0.0  8.682060e-06  \n",
       "211  303.66%    19.80   0.29 2017-10-01 2017-10-31    0.0    0.0  8.552477e-06  \n",
       "212        -     0.00  16.00 2017-10-01 2017-10-31    0.0    0.0  6.911093e-07  \n",
       "\n",
       "[213 rows x 15 columns]"
      ],
      "text/html": "<div>\n<style scoped>\n    .dataframe tbody tr th:only-of-type {\n        vertical-align: middle;\n    }\n\n    .dataframe tbody tr th {\n        vertical-align: top;\n    }\n\n    .dataframe thead th {\n        text-align: right;\n    }\n</style>\n<table border=\"1\" class=\"dataframe\">\n  <thead>\n    <tr style=\"text-align: right;\">\n      <th></th>\n      <th>类目名称</th>\n      <th>买家数</th>\n      <th>成交金额</th>\n      <th>搜索人数</th>\n      <th>成交金额占比</th>\n      <th>成交金额同比</th>\n      <th>成交人数占比</th>\n      <th>成交人数同比</th>\n      <th>客单价</th>\n      <th>UV价值</th>\n      <th>开始日期</th>\n      <th>结束日期</th>\n      <th>hello</th>\n      <th>world</th>\n      <th>world1</th>\n    </tr>\n  </thead>\n  <tbody>\n    <tr>\n      <th>0</th>\n      <td>手机保护套/壳</td>\n      <td>27524495</td>\n      <td>503205377</td>\n      <td>82138973</td>\n      <td>38.16%</td>\n      <td>70.34%</td>\n      <td>52.07%</td>\n      <td>11.20%</td>\n      <td>18.28</td>\n      <td>6.13</td>\n      <td>2017-10-01</td>\n      <td>2017-10-31</td>\n      <td>22.0</td>\n      <td>38.0</td>\n      <td>2.173562e+01</td>\n    </tr>\n    <tr>\n      <th>1</th>\n      <td>手机贴膜</td>\n      <td>18384095</td>\n      <td>190704104</td>\n      <td>26656100</td>\n      <td>11.79%</td>\n      <td>28.26%</td>\n      <td>25.05%</td>\n      <td>16.74%</td>\n      <td>10.37</td>\n      <td>7.15</td>\n      <td>2017-10-01</td>\n      <td>2017-10-31</td>\n      <td>8.0</td>\n      <td>25.0</td>\n      <td>8.237336e+00</td>\n    </tr>\n    <tr>\n      <th>2</th>\n      <td>手机零部件</td>\n      <td>2125787</td>\n      <td>189281648</td>\n      <td>15767938</td>\n      <td>11.72%</td>\n      <td>12.75%</td>\n      <td>5.28%</td>\n      <td>11.70%</td>\n      <td>89.04</td>\n      <td>12.00</td>\n      <td>2017-10-01</td>\n      <td>2017-10-31</td>\n      <td>8.0</td>\n      <td>3.0</td>\n      <td>8.175894e+00</td>\n    </tr>\n    <tr>\n      <th>3</th>\n      <td>移动电源</td>\n      <td>2801112</td>\n      <td>188888518</td>\n      <td>14276910</td>\n      <td>11.70%</td>\n      <td>27.56%</td>\n      <td>7.22%</td>\n      <td>11.89%</td>\n      <td>67.43</td>\n      <td>13.23</td>\n      <td>2017-10-01</td>\n      <td>2017-10-31</td>\n      <td>8.0</td>\n      <td>4.0</td>\n      <td>8.158913e+00</td>\n    </tr>\n    <tr>\n      <th>4</th>\n      <td>手机数据线</td>\n      <td>4178627</td>\n      <td>153248705</td>\n      <td>10788473</td>\n      <td>8.04%</td>\n      <td>68.09%</td>\n      <td>11.07%</td>\n      <td>22.33%</td>\n      <td>36.67</td>\n      <td>14.20</td>\n      <td>2017-10-01</td>\n      <td>2017-10-31</td>\n      <td>7.0</td>\n      <td>6.0</td>\n      <td>6.619475e+00</td>\n    </tr>\n    <tr>\n      <th>...</th>\n      <td>...</td>\n      <td>...</td>\n      <td>...</td>\n      <td>...</td>\n      <td>...</td>\n      <td>...</td>\n      <td>...</td>\n      <td>...</td>\n      <td>...</td>\n      <td>...</td>\n      <td>...</td>\n      <td>...</td>\n      <td>...</td>\n      <td>...</td>\n      <td>...</td>\n    </tr>\n    <tr>\n      <th>208</th>\n      <td>MP3/MP4支架</td>\n      <td>55</td>\n      <td>4751</td>\n      <td>2733</td>\n      <td>-</td>\n      <td>-43.97%</td>\n      <td>-</td>\n      <td>-32.18%</td>\n      <td>86.38</td>\n      <td>1.74</td>\n      <td>2017-10-01</td>\n      <td>2017-10-31</td>\n      <td>0.0</td>\n      <td>0.0</td>\n      <td>2.052163e-04</td>\n    </tr>\n    <tr>\n      <th>209</th>\n      <td>Lomo闪光灯</td>\n      <td>1</td>\n      <td>4275</td>\n      <td>57</td>\n      <td>-</td>\n      <td>-</td>\n      <td>-</td>\n      <td>-</td>\n      <td>4275.00</td>\n      <td>75.00</td>\n      <td>2017-10-01</td>\n      <td>2017-10-31</td>\n      <td>0.0</td>\n      <td>0.0</td>\n      <td>1.846558e-04</td>\n    </tr>\n    <tr>\n      <th>210</th>\n      <td>苹果卡贴</td>\n      <td>1</td>\n      <td>201</td>\n      <td>685</td>\n      <td>-</td>\n      <td>-91.10%</td>\n      <td>-</td>\n      <td>-68.02%</td>\n      <td>201.00</td>\n      <td>0.29</td>\n      <td>2017-10-01</td>\n      <td>2017-10-31</td>\n      <td>0.0</td>\n      <td>0.0</td>\n      <td>8.682060e-06</td>\n    </tr>\n    <tr>\n      <th>211</th>\n      <td>分压盒</td>\n      <td>10</td>\n      <td>198</td>\n      <td>682</td>\n      <td>-</td>\n      <td>-50.34%</td>\n      <td>-</td>\n      <td>303.66%</td>\n      <td>19.80</td>\n      <td>0.29</td>\n      <td>2017-10-01</td>\n      <td>2017-10-31</td>\n      <td>0.0</td>\n      <td>0.0</td>\n      <td>8.552477e-06</td>\n    </tr>\n    <tr>\n      <th>212</th>\n      <td>Lomo潜水盒</td>\n      <td>0</td>\n      <td>16</td>\n      <td>1</td>\n      <td>-</td>\n      <td>-</td>\n      <td>-</td>\n      <td>-</td>\n      <td>0.00</td>\n      <td>16.00</td>\n      <td>2017-10-01</td>\n      <td>2017-10-31</td>\n      <td>0.0</td>\n      <td>0.0</td>\n      <td>6.911093e-07</td>\n    </tr>\n  </tbody>\n</table>\n<p>213 rows × 15 columns</p>\n</div>"
     },
     "metadata": {},
     "execution_count": 57
    }
   ],
   "source": [
    "\n",
    "df['hello']=round(df.成交金额/df.成交金额.sum(),2,)*100\n",
    "df['world']=round(df.买家数/df.买家数.sum(),2,)*100\n",
    "df['world1']=df.成交金额/df.成交金额.sum()*100\n",
    "# df['hello1']='{:.2f}%'.format(df.成交金额/df.成交金额.sum()*100)\n",
    "df"
   ]
  },
  {
   "cell_type": "code",
   "execution_count": 49,
   "metadata": {},
   "outputs": [
    {
     "output_type": "execute_result",
     "data": {
      "text/plain": [
       "[['手机保护套/壳', 503205377],\n",
       " ['手机贴膜', 190704104],\n",
       " ['手机零部件', 189281648],\n",
       " ['移动电源', 188888518],\n",
       " ['手机数据线', 153248705],\n",
       " ['笔记本零部件', 86347867],\n",
       " ['手机电池', 78580857],\n",
       " ['数据线', 78067182],\n",
       " ['手机充电器', 77197180],\n",
       " ['平板电脑保护套/壳', 70329290],\n",
       " ['手机支架/手机座', 57467181],\n",
       " ['其它配件', 52632314],\n",
       " ['笔记本电脑包', 32508990],\n",
       " ['影室灯', 25908355],\n",
       " ['普通干电池', 20603540],\n",
       " ['云台', 19416138],\n",
       " ['自拍杆/架', 18530392],\n",
       " ['脚架', 17907471],\n",
       " ['背景布类', 17803243],\n",
       " ['摄像机配件', 17519006],\n",
       " ['遥控设备', 17434687],\n",
       " ['笔记本电池', 17347900],\n",
       " ['纽扣电池', 16854904],\n",
       " ['笔记本电源', 15415022],\n",
       " ['手机镜头', 15030198],\n",
       " ['通用电池充电套装', 14913013],\n",
       " ['USB HUB/转换器', 14120595],\n",
       " ['数码相机包', 12874863],\n",
       " ['笔记本炫彩贴', 12793147],\n",
       " ['平板电脑零部件', 8638484],\n",
       " ['读卡器', 7720978],\n",
       " ['摄影棚', 7174679],\n",
       " ['数码收纳整理包', 7154563],\n",
       " ['耳机保护套', 7149313],\n",
       " ['滤镜', 6918793],\n",
       " ['平板电脑屏幕贴膜', 6712535],\n",
       " ['笔记本键盘保护膜', 6692492],\n",
       " ['苹果视频线/转换线', 6652760],\n",
       " ['手写笔', 6366836],\n",
       " ['笔记本散热器/降温卡', 6351095],\n",
       " ['手机挂件/手机链', 6225485],\n",
       " ['数码相机电池', 6186646],\n",
       " ['USB翻页激光笔', 6124311],\n",
       " ['相机闪光灯', 6123879],\n",
       " ['耳机绕线器', 6112894],\n",
       " ['笔记本多功能支架/桌', 5870383],\n",
       " ['USB电脑锁/防盗器', 5746967],\n",
       " ['快显胶片', 5680159],\n",
       " ['辅助道具类', 5406769],\n",
       " ['防潮箱', 5330327],\n",
       " ['PDA/掌上电脑', 4966980],\n",
       " ['车载充电器', 4679050],\n",
       " ['转接环', 4667751],\n",
       " ['数码维修工具', 4571029],\n",
       " ['笔记本屏幕贴膜', 3639290],\n",
       " ['平板电脑包', 3610972],\n",
       " ['分配器/分频器/分支器', 3499649],\n",
       " ['视频线/音频线/AV线', 3344203],\n",
       " ['笔记本膝上桌', 3195861],\n",
       " ['射频器/转换器', 3096946],\n",
       " ['USB风扇', 3093770],\n",
       " ['数码显微镜', 3091125],\n",
       " ['平板电脑支架', 3057375],\n",
       " ['苹果卡槽', 2970568],\n",
       " ['手机贴纸', 2970205],\n",
       " ['18650电池', 2860800],\n",
       " ['清洁套装', 2854622],\n",
       " ['胶卷', 2854469],\n",
       " ['灯附件', 2852751],\n",
       " ['电子书保护套', 2806140],\n",
       " ['3G无线上网卡设备', 2779408],\n",
       " ['数码相框', 2460820],\n",
       " ['外拍灯', 2320378],\n",
       " ['手机防尘塞', 2183623],\n",
       " ['平板电脑外接键盘', 2116320],\n",
       " ['涂鸦笔', 2059664],\n",
       " ['USB灯', 1951984],\n",
       " ['闪光灯配件', 1716345],\n",
       " ['USB延长线', 1543789],\n",
       " ['相机背带', 1518798],\n",
       " ['USB加湿器', 1481534],\n",
       " ['摄影包', 1458901],\n",
       " ['数码相机充电器', 1385048],\n",
       " ['节电器/省电器', 1356992],\n",
       " ['笔记本个性小贴纸', 1341860],\n",
       " ['电视高压包', 1279244],\n",
       " ['镜头纸/镜头布', 1278081],\n",
       " ['单反手柄', 1252985],\n",
       " ['单反/单电电池', 1198513],\n",
       " ['插头/接口', 1188630],\n",
       " ['3D立体眼镜', 1187127],\n",
       " ['柔光器具', 1156366],\n",
       " ['遮光罩', 1097503],\n",
       " ['快装板', 1032448],\n",
       " ['摄影台/静物台', 1011112],\n",
       " ['平板电脑底座', 1008529],\n",
       " ['快门线', 999435],\n",
       " ['平板电脑充电器', 986233],\n",
       " ['镜头盖', 979177],\n",
       " ['反光器具', 901568],\n",
       " ['清洁液', 870372],\n",
       " ['遥控器', 853552],\n",
       " ['数码设备外接键盘', 849278],\n",
       " ['点读机/点读笔配件', 844265],\n",
       " ['擦屏布', 833249],\n",
       " ['USB暖手鼠标垫', 816046],\n",
       " ['电子书灯', 797244],\n",
       " ['脚架包', 786403],\n",
       " ['音乐枕', 757813],\n",
       " ['闪存卡转接套', 737286],\n",
       " ['显示器/打印机色彩校正仪', 730768],\n",
       " ['校色仪', 730454],\n",
       " ['18650电池盒', 730121],\n",
       " ['USB暖手宝/暖手袋', 721241],\n",
       " ['VGA切换器', 720093],\n",
       " ['USB电话机/网络电话机', 688561],\n",
       " ['F头', 669522],\n",
       " ['取景器', 602842],\n",
       " ['MP3/MP4保护套', 566049],\n",
       " ['手机智能按键', 559001],\n",
       " ['RF头', 555201],\n",
       " ['相机腕带', 555038],\n",
       " ['测光表', 511882],\n",
       " ['电子辞典/学习机配件', 510392],\n",
       " ['隔离器/耦合器', 508040],\n",
       " ['触摸屏手套', 498888],\n",
       " ['照片夹子', 495152],\n",
       " ['脚架配件', 493110],\n",
       " ['SIM 剪卡钳', 491661],\n",
       " ['说明书/使用指南', 491320],\n",
       " ['微波炉面板', 480426],\n",
       " ['相机专用遥控器', 480380],\n",
       " ['苹果取卡针', 474037],\n",
       " ['BNC头', 443623],\n",
       " ['机顶盒共享器', 427448],\n",
       " ['无线传输设备', 424585],\n",
       " ['广角镜', 412822],\n",
       " ['电池收纳盒', 403545],\n",
       " ['增距镜', 401603],\n",
       " ['USB暖手套/暖脚鞋', 396366],\n",
       " ['防寒设备', 394601],\n",
       " ['MSN聊天伴侣', 391921],\n",
       " ['RCA头', 389571],\n",
       " ['USB吸尘器', 378191],\n",
       " ['屏幕保护膜', 376917],\n",
       " ['USB Humping Dog', 376614],\n",
       " ['电子书手写笔/电磁笔', 376050],\n",
       " ['一次成像相机专用包', 373866],\n",
       " ['线缆收纳器/集线器', 369345],\n",
       " ['USB多功能数码宝', 368275],\n",
       " ['气吹', 361802],\n",
       " ['耳机线夹', 321093],\n",
       " ['相机眼罩', 269736],\n",
       " ['FM/MP3发射器', 188432],\n",
       " ['AV切换器', 169617],\n",
       " ['数据连接线', 161209],\n",
       " ['液晶屏保护膜', 160950],\n",
       " ['电纸书屏幕贴膜', 156294],\n",
       " ['相机/摄像机专用充电套装', 149791],\n",
       " ['相片角贴', 149078],\n",
       " ['平板电脑数据线', 149064],\n",
       " ['数码伴侣', 142822],\n",
       " ['KVM', 119379],\n",
       " ['一次成像相册', 119027],\n",
       " ['镜头笔', 116545],\n",
       " ['高压气罐', 111968],\n",
       " ['相机色卡', 111321],\n",
       " ['数码相机适配器', 95928],\n",
       " ['保护箱', 90067],\n",
       " ['单反/单电充电器', 80206],\n",
       " ['USB摆设品/装饰品', 77696],\n",
       " ['cmos清洁', 76385],\n",
       " ['电纸书充电器', 74234],\n",
       " ['键盘刷', 72266],\n",
       " ['脚架接环', 69670],\n",
       " ['单反/单电适配器', 68371],\n",
       " ['镜头袋/镜头筒', 63742],\n",
       " ['单反机身盖', 63468],\n",
       " ['MP3/MP4充电器', 60190],\n",
       " ['灰板', 56146],\n",
       " ['对焦屏', 54674],\n",
       " ['USB保暖坐垫/靠垫', 53810],\n",
       " ['包/箱配件', 51999],\n",
       " ['移动支付终端机', 51999],\n",
       " ['网络切换器', 51631],\n",
       " ['USB按摩器', 51368],\n",
       " ['相机挂绳', 51319],\n",
       " ['专业摄影背心', 51282],\n",
       " ['USB食品加热包/保温盒', 50558],\n",
       " ['热靴水平仪', 50011],\n",
       " ['MP3/MP4连接线', 47299],\n",
       " ['USB驱蚊器', 45915],\n",
       " ['自拍镜头', 45895],\n",
       " ['耳塞保护套', 42320],\n",
       " ['数码望远镜', 42200],\n",
       " ['白平衡镜', 42142],\n",
       " ['USB迷你冰箱', 17787],\n",
       " ['电纸书防护包', 14928],\n",
       " ['毛刷', 14837],\n",
       " ['USB保温碟/保温垫', 9812],\n",
       " ['USB烟灰缸', 8717],\n",
       " ['Lomo相机包', 8539],\n",
       " ['MP4屏幕保护膜', 7598],\n",
       " ['Lomo镜头', 7410],\n",
       " ['USB碎纸机', 7408],\n",
       " ['摄影梯', 6776],\n",
       " ['USB氧吧/空气清新器', 6513],\n",
       " ['电纸书数据线', 4954],\n",
       " ['MP3/MP4支架', 4751],\n",
       " ['Lomo闪光灯', 4275],\n",
       " ['苹果卡贴', 201],\n",
       " ['分压盒', 198],\n",
       " ['Lomo潜水盒', 16]]"
      ]
     },
     "metadata": {},
     "execution_count": 49
    }
   ],
   "source": [
    "df.loc[:,['类目名称','成交金额']].values.tolist()\n",
    "df.loc[:,['类目名称','成交金额']].values.tolist()"
   ]
  },
  {
   "cell_type": "code",
   "execution_count": 51,
   "metadata": {},
   "outputs": [
    {
     "output_type": "execute_result",
     "data": {
      "text/plain": [
       "<pyecharts.render.display.HTML at 0x12c824d00>"
      ],
      "text/html": "\n<script>\n    require.config({\n        paths: {\n            'echarts':'https://assets.pyecharts.org/assets/echarts.min'\n        }\n    });\n</script>\n\n        <div id=\"869d4fe244554cbc9fc93071b388152b\" style=\"width:900px; height:500px;\"></div>\n\n<script>\n        require(['echarts'], function(echarts) {\n                var chart_869d4fe244554cbc9fc93071b388152b = echarts.init(\n                    document.getElementById('869d4fe244554cbc9fc93071b388152b'), 'white', {renderer: 'canvas'});\n                var option_869d4fe244554cbc9fc93071b388152b = {\n    \"animation\": true,\n    \"animationThreshold\": 2000,\n    \"animationDuration\": 1000,\n    \"animationEasing\": \"cubicOut\",\n    \"animationDelay\": 0,\n    \"animationDurationUpdate\": 300,\n    \"animationEasingUpdate\": \"cubicOut\",\n    \"animationDelayUpdate\": 0,\n    \"color\": [\n        \"#c23531\",\n        \"#2f4554\",\n        \"#61a0a8\",\n        \"#d48265\",\n        \"#749f83\",\n        \"#ca8622\",\n        \"#bda29a\",\n        \"#6e7074\",\n        \"#546570\",\n        \"#c4ccd3\",\n        \"#f05b72\",\n        \"#ef5b9c\",\n        \"#f47920\",\n        \"#905a3d\",\n        \"#fab27b\",\n        \"#2a5caa\",\n        \"#444693\",\n        \"#726930\",\n        \"#b2d235\",\n        \"#6d8346\",\n        \"#ac6767\",\n        \"#1d953f\",\n        \"#6950a1\",\n        \"#918597\"\n    ],\n    \"series\": [\n        {\n            \"type\": \"pie\",\n            \"clockwise\": true,\n            \"data\": [\n                {\n                    \"name\": \"\\u624b\\u673a\\u4fdd\\u62a4\\u5957/\\u58f3\",\n                    \"value\": 503205377\n                },\n                {\n                    \"name\": \"\\u624b\\u673a\\u8d34\\u819c\",\n                    \"value\": 190704104\n                },\n                {\n                    \"name\": \"\\u624b\\u673a\\u96f6\\u90e8\\u4ef6\",\n                    \"value\": 189281648\n                },\n                {\n                    \"name\": \"\\u79fb\\u52a8\\u7535\\u6e90\",\n                    \"value\": 188888518\n                },\n                {\n                    \"name\": \"\\u624b\\u673a\\u6570\\u636e\\u7ebf\",\n                    \"value\": 153248705\n                },\n                {\n                    \"name\": \"\\u7b14\\u8bb0\\u672c\\u96f6\\u90e8\\u4ef6\",\n                    \"value\": 86347867\n                },\n                {\n                    \"name\": \"\\u624b\\u673a\\u7535\\u6c60\",\n                    \"value\": 78580857\n                },\n                {\n                    \"name\": \"\\u6570\\u636e\\u7ebf\",\n                    \"value\": 78067182\n                },\n                {\n                    \"name\": \"\\u624b\\u673a\\u5145\\u7535\\u5668\",\n                    \"value\": 77197180\n                },\n                {\n                    \"name\": \"\\u5e73\\u677f\\u7535\\u8111\\u4fdd\\u62a4\\u5957/\\u58f3\",\n                    \"value\": 70329290\n                }\n            ],\n            \"radius\": [\n                \"0%\",\n                \"75%\"\n            ],\n            \"center\": [\n                \"50%\",\n                \"50%\"\n            ],\n            \"label\": {\n                \"show\": true,\n                \"position\": \"top\",\n                \"margin\": 8,\n                \"formatter\": \"{b}: {c}\"\n            },\n            \"rippleEffect\": {\n                \"show\": true,\n                \"brushType\": \"stroke\",\n                \"scale\": 2.5,\n                \"period\": 4\n            }\n        }\n    ],\n    \"legend\": [\n        {\n            \"data\": [\n                \"\\u624b\\u673a\\u4fdd\\u62a4\\u5957/\\u58f3\",\n                \"\\u624b\\u673a\\u8d34\\u819c\",\n                \"\\u624b\\u673a\\u96f6\\u90e8\\u4ef6\",\n                \"\\u79fb\\u52a8\\u7535\\u6e90\",\n                \"\\u624b\\u673a\\u6570\\u636e\\u7ebf\",\n                \"\\u7b14\\u8bb0\\u672c\\u96f6\\u90e8\\u4ef6\",\n                \"\\u624b\\u673a\\u7535\\u6c60\",\n                \"\\u6570\\u636e\\u7ebf\",\n                \"\\u624b\\u673a\\u5145\\u7535\\u5668\",\n                \"\\u5e73\\u677f\\u7535\\u8111\\u4fdd\\u62a4\\u5957/\\u58f3\"\n            ],\n            \"selected\": {},\n            \"show\": true,\n            \"padding\": 5,\n            \"itemGap\": 10,\n            \"itemWidth\": 25,\n            \"itemHeight\": 14\n        }\n    ],\n    \"tooltip\": {\n        \"show\": true,\n        \"trigger\": \"item\",\n        \"triggerOn\": \"mousemove|click\",\n        \"axisPointer\": {\n            \"type\": \"line\"\n        },\n        \"showContent\": true,\n        \"alwaysShowContent\": false,\n        \"showDelay\": 0,\n        \"hideDelay\": 100,\n        \"textStyle\": {\n            \"fontSize\": 14\n        },\n        \"borderWidth\": 0,\n        \"padding\": 5\n    },\n    \"title\": [\n        {\n            \"text\": \"Pie-\\u57fa\\u672c\\u793a\\u4f8b\",\n            \"padding\": 5,\n            \"itemGap\": 10\n        }\n    ]\n};\n                chart_869d4fe244554cbc9fc93071b388152b.setOption(option_869d4fe244554cbc9fc93071b388152b);\n        });\n    </script>\n"
     },
     "metadata": {},
     "execution_count": 51
    }
   ],
   "source": [
    "from pyecharts import options as opts\n",
    "from pyecharts.charts import Page, Pie\n",
    "\n",
    "\n",
    "pie=(\n",
    "        Pie()\n",
    "        .add(\"\",df.loc[:,['类目名称','成交金额']].head(10).values.tolist())\n",
    "        .set_global_opts(title_opts=opts.TitleOpts(title=\"Pie-基本示例\"))\n",
    "        .set_series_opts(label_opts=opts.LabelOpts(formatter=\"{b}: {c}\"))\n",
    "        )\n",
    "\n",
    "pie.render_notebook()\n"
   ]
  },
  {
   "cell_type": "code",
   "execution_count": 31,
   "metadata": {},
   "outputs": [
    {
     "output_type": "error",
     "ename": "AttributeError",
     "evalue": "'str' object has no attribute 'get'",
     "traceback": [
      "\u001b[0;31m---------------------------------------------------------------------------\u001b[0m",
      "\u001b[0;31mAttributeError\u001b[0m                            Traceback (most recent call last)",
      "\u001b[0;32m<ipython-input-31-769f57dc15a9>\u001b[0m in \u001b[0;36m<module>\u001b[0;34m\u001b[0m\n\u001b[1;32m      4\u001b[0m \u001b[0mattr\u001b[0m \u001b[0;34m=\u001b[0m \u001b[0;34m[\u001b[0m\u001b[0;34m\"衬衫\"\u001b[0m\u001b[0;34m,\u001b[0m \u001b[0;34m\"羊毛衫\"\u001b[0m\u001b[0;34m,\u001b[0m \u001b[0;34m\"雪纺衫\"\u001b[0m\u001b[0;34m,\u001b[0m \u001b[0;34m\"裤子\"\u001b[0m\u001b[0;34m,\u001b[0m \u001b[0;34m\"高跟鞋\"\u001b[0m\u001b[0;34m,\u001b[0m \u001b[0;34m\"袜子\"\u001b[0m\u001b[0;34m]\u001b[0m\u001b[0;34m\u001b[0m\u001b[0;34m\u001b[0m\u001b[0m\n\u001b[1;32m      5\u001b[0m \u001b[0mv1\u001b[0m \u001b[0;34m=\u001b[0m \u001b[0;34m[\u001b[0m\u001b[0;36m11\u001b[0m\u001b[0;34m,\u001b[0m \u001b[0;36m12\u001b[0m\u001b[0;34m,\u001b[0m \u001b[0;36m13\u001b[0m\u001b[0;34m,\u001b[0m \u001b[0;36m10\u001b[0m\u001b[0;34m,\u001b[0m \u001b[0;36m10\u001b[0m\u001b[0;34m,\u001b[0m \u001b[0;36m10\u001b[0m\u001b[0;34m]\u001b[0m\u001b[0;34m\u001b[0m\u001b[0;34m\u001b[0m\u001b[0m\n\u001b[0;32m----> 6\u001b[0;31m \u001b[0mpie\u001b[0m \u001b[0;34m=\u001b[0m \u001b[0mPie\u001b[0m\u001b[0;34m(\u001b[0m\u001b[0;34m\"饼图示例\"\u001b[0m\u001b[0;34m)\u001b[0m\u001b[0;34m\u001b[0m\u001b[0;34m\u001b[0m\u001b[0m\n\u001b[0m\u001b[1;32m      7\u001b[0m pie.add(\n\u001b[1;32m      8\u001b[0m     \u001b[0;34m\"\"\u001b[0m\u001b[0;34m,\u001b[0m\u001b[0;34m\u001b[0m\u001b[0;34m\u001b[0m\u001b[0m\n",
      "\u001b[0;32m~/Documents/huigu-project/wife-app/.venv/lib/python3.8/site-packages/pyecharts/charts/chart.py\u001b[0m in \u001b[0;36m__init__\u001b[0;34m(self, init_opts)\u001b[0m\n\u001b[1;32m     12\u001b[0m             \u001b[0mtemp_opts\u001b[0m\u001b[0;34m.\u001b[0m\u001b[0mupdate\u001b[0m\u001b[0;34m(\u001b[0m\u001b[0;34m**\u001b[0m\u001b[0minit_opts\u001b[0m\u001b[0;34m)\u001b[0m\u001b[0;34m\u001b[0m\u001b[0;34m\u001b[0m\u001b[0m\n\u001b[1;32m     13\u001b[0m             \u001b[0minit_opts\u001b[0m \u001b[0;34m=\u001b[0m \u001b[0mtemp_opts\u001b[0m\u001b[0;34m\u001b[0m\u001b[0;34m\u001b[0m\u001b[0m\n\u001b[0;32m---> 14\u001b[0;31m         \u001b[0msuper\u001b[0m\u001b[0;34m(\u001b[0m\u001b[0;34m)\u001b[0m\u001b[0;34m.\u001b[0m\u001b[0m__init__\u001b[0m\u001b[0;34m(\u001b[0m\u001b[0minit_opts\u001b[0m\u001b[0;34m=\u001b[0m\u001b[0minit_opts\u001b[0m\u001b[0;34m)\u001b[0m\u001b[0;34m\u001b[0m\u001b[0;34m\u001b[0m\u001b[0m\n\u001b[0m\u001b[1;32m     15\u001b[0m         self.colors = (\n\u001b[1;32m     16\u001b[0m             \u001b[0;34m\"#c23531 #2f4554 #61a0a8 #d48265 #749f83 #ca8622 #bda29a #6e7074 \"\u001b[0m\u001b[0;34m\u001b[0m\u001b[0;34m\u001b[0m\u001b[0m\n",
      "\u001b[0;32m~/Documents/huigu-project/wife-app/.venv/lib/python3.8/site-packages/pyecharts/charts/base.py\u001b[0m in \u001b[0;36m__init__\u001b[0;34m(self, init_opts)\u001b[0m\n\u001b[1;32m     27\u001b[0m             \u001b[0m_opts\u001b[0m \u001b[0;34m=\u001b[0m \u001b[0minit_opts\u001b[0m\u001b[0;34m.\u001b[0m\u001b[0mopts\u001b[0m\u001b[0;34m\u001b[0m\u001b[0;34m\u001b[0m\u001b[0m\n\u001b[1;32m     28\u001b[0m \u001b[0;34m\u001b[0m\u001b[0m\n\u001b[0;32m---> 29\u001b[0;31m         \u001b[0mself\u001b[0m\u001b[0;34m.\u001b[0m\u001b[0mwidth\u001b[0m \u001b[0;34m=\u001b[0m \u001b[0m_opts\u001b[0m\u001b[0;34m.\u001b[0m\u001b[0mget\u001b[0m\u001b[0;34m(\u001b[0m\u001b[0;34m\"width\"\u001b[0m\u001b[0;34m,\u001b[0m \u001b[0;34m\"900px\"\u001b[0m\u001b[0;34m)\u001b[0m\u001b[0;34m\u001b[0m\u001b[0;34m\u001b[0m\u001b[0m\n\u001b[0m\u001b[1;32m     30\u001b[0m         \u001b[0mself\u001b[0m\u001b[0;34m.\u001b[0m\u001b[0mheight\u001b[0m \u001b[0;34m=\u001b[0m \u001b[0m_opts\u001b[0m\u001b[0;34m.\u001b[0m\u001b[0mget\u001b[0m\u001b[0;34m(\u001b[0m\u001b[0;34m\"height\"\u001b[0m\u001b[0;34m,\u001b[0m \u001b[0;34m\"500px\"\u001b[0m\u001b[0;34m)\u001b[0m\u001b[0;34m\u001b[0m\u001b[0;34m\u001b[0m\u001b[0m\n\u001b[1;32m     31\u001b[0m         \u001b[0mself\u001b[0m\u001b[0;34m.\u001b[0m\u001b[0mrenderer\u001b[0m \u001b[0;34m=\u001b[0m \u001b[0m_opts\u001b[0m\u001b[0;34m.\u001b[0m\u001b[0mget\u001b[0m\u001b[0;34m(\u001b[0m\u001b[0;34m\"renderer\"\u001b[0m\u001b[0;34m,\u001b[0m \u001b[0mRenderType\u001b[0m\u001b[0;34m.\u001b[0m\u001b[0mCANVAS\u001b[0m\u001b[0;34m)\u001b[0m\u001b[0;34m\u001b[0m\u001b[0;34m\u001b[0m\u001b[0m\n",
      "\u001b[0;31mAttributeError\u001b[0m: 'str' object has no attribute 'get'"
     ]
    }
   ],
   "source": [
    "from pyecharts.charts import Pie\n",
    " \n",
    " \n",
    "attr = [\"衬衫\", \"羊毛衫\", \"雪纺衫\", \"裤子\", \"高跟鞋\", \"袜子\"]\n",
    "v1 = [11, 12, 13, 10, 10, 10]\n",
    "pie = Pie(\"饼图示例\")\n",
    "pie.add(\n",
    "    \"\",\n",
    "    attr,\n",
    "    v1,\n",
    "    is_label_show=True,\n",
    "    is_more_utils=True\n",
    ")\n",
    "pie.render_notebook()"
   ]
  },
  {
   "cell_type": "code",
   "execution_count": 24,
   "metadata": {},
   "outputs": [
    {
     "output_type": "execute_result",
     "data": {
      "text/plain": [
       "线缆收纳器/集线器       1\n",
       "相机/摄像机专用充电套装    1\n",
       "无线传输设备          1\n",
       "隔离器/耦合器         1\n",
       "USB保温碟/保温垫      1\n",
       "               ..\n",
       "手机智能按键          1\n",
       "自拍镜头            1\n",
       "机顶盒共享器          1\n",
       "苹果卡槽            1\n",
       "屏幕保护膜           1\n",
       "Name: 类目名称, Length: 213, dtype: int64"
      ]
     },
     "metadata": {},
     "execution_count": 24
    }
   ],
   "source": [
    "df.类目名称.value_counts()"
   ]
  },
  {
   "cell_type": "code",
   "execution_count": 25,
   "metadata": {},
   "outputs": [
    {
     "output_type": "execute_result",
     "data": {
      "text/plain": [
       "线缆收纳器/集线器       1\n",
       "相机/摄像机专用充电套装    1\n",
       "隔离器/耦合器         1\n",
       "辅助道具类           1\n",
       "快装板             1\n",
       "               ..\n",
       "机顶盒共享器          1\n",
       "苹果卡槽            1\n",
       "手机防尘塞           1\n",
       "电纸书数据线          1\n",
       "屏幕保护膜           1\n",
       "Name: 类目名称, Length: 213, dtype: int64"
      ]
     },
     "metadata": {},
     "execution_count": 25
    }
   ],
   "source": [
    "import pandas as pd\n",
    "\n",
    "df1711=pd.read_csv(\"./data/3C数码1711.csv\")\n",
    "df1711.类目名称.value_counts()"
   ]
  },
  {
   "source": [
    "折线图echarts 例子"
   ],
   "cell_type": "markdown",
   "metadata": {}
  },
  {
   "cell_type": "code",
   "execution_count": 29,
   "metadata": {},
   "outputs": [
    {
     "output_type": "execute_result",
     "data": {
      "text/plain": [
       "<pyecharts.render.display.HTML at 0x10c9a9970>"
      ],
      "text/html": "\n<script>\n    require.config({\n        paths: {\n            'echarts':'https://assets.pyecharts.org/assets/echarts.min'\n        }\n    });\n</script>\n\n        <div id=\"d105a782ffa2438ba084b8bdf63ec0a1\" style=\"width:900px; height:500px;\"></div>\n\n<script>\n        require(['echarts'], function(echarts) {\n                var chart_d105a782ffa2438ba084b8bdf63ec0a1 = echarts.init(\n                    document.getElementById('d105a782ffa2438ba084b8bdf63ec0a1'), 'white', {renderer: 'canvas'});\n                var option_d105a782ffa2438ba084b8bdf63ec0a1 = {\n    \"animation\": true,\n    \"animationThreshold\": 2000,\n    \"animationDuration\": 1000,\n    \"animationEasing\": \"cubicOut\",\n    \"animationDelay\": 0,\n    \"animationDurationUpdate\": 300,\n    \"animationEasingUpdate\": \"cubicOut\",\n    \"animationDelayUpdate\": 0,\n    \"color\": [\n        \"#c23531\",\n        \"#2f4554\",\n        \"#61a0a8\",\n        \"#d48265\",\n        \"#749f83\",\n        \"#ca8622\",\n        \"#bda29a\",\n        \"#6e7074\",\n        \"#546570\",\n        \"#c4ccd3\",\n        \"#f05b72\",\n        \"#ef5b9c\",\n        \"#f47920\",\n        \"#905a3d\",\n        \"#fab27b\",\n        \"#2a5caa\",\n        \"#444693\",\n        \"#726930\",\n        \"#b2d235\",\n        \"#6d8346\",\n        \"#ac6767\",\n        \"#1d953f\",\n        \"#6950a1\",\n        \"#918597\"\n    ],\n    \"series\": [\n        {\n            \"type\": \"line\",\n            \"name\": \"A\",\n            \"connectNulls\": false,\n            \"symbol\": \"emptyCircle1\",\n            \"symbolSize\": 4,\n            \"showSymbol\": true,\n            \"smooth\": false,\n            \"clip\": true,\n            \"step\": false,\n            \"data\": [\n                [\n                    \"Mon\",\n                    820\n                ],\n                [\n                    \"Tue\",\n                    932\n                ],\n                [\n                    \"Wed\",\n                    901\n                ],\n                [\n                    \"Thu\",\n                    934\n                ],\n                [\n                    \"Fri\",\n                    1290\n                ],\n                [\n                    \"Sat\",\n                    1330\n                ],\n                [\n                    \"Sun\",\n                    1320\n                ]\n            ],\n            \"hoverAnimation\": true,\n            \"label\": {\n                \"show\": false,\n                \"position\": \"top\",\n                \"margin\": 8\n            },\n            \"lineStyle\": {\n                \"show\": true,\n                \"width\": 1,\n                \"opacity\": 1,\n                \"curveness\": 0,\n                \"type\": \"solid\"\n            },\n            \"areaStyle\": {\n                \"opacity\": 0\n            },\n            \"zlevel\": 0,\n            \"z\": 0\n        },\n        {\n            \"type\": \"line\",\n            \"name\": \"B\",\n            \"connectNulls\": false,\n            \"symbol\": \"emptyCircle2\",\n            \"symbolSize\": 4,\n            \"showSymbol\": true,\n            \"smooth\": false,\n            \"clip\": true,\n            \"step\": false,\n            \"data\": [\n                [\n                    \"Mon\",\n                    824\n                ],\n                [\n                    \"Tue\",\n                    922\n                ],\n                [\n                    \"Wed\",\n                    932\n                ],\n                [\n                    \"Thu\",\n                    954\n                ],\n                [\n                    \"Fri\",\n                    390\n                ],\n                [\n                    \"Sat\",\n                    330\n                ],\n                [\n                    \"Sun\",\n                    2320\n                ]\n            ],\n            \"hoverAnimation\": true,\n            \"label\": {\n                \"show\": false,\n                \"position\": \"top\",\n                \"margin\": 8\n            },\n            \"lineStyle\": {\n                \"show\": true,\n                \"width\": 1,\n                \"opacity\": 1,\n                \"curveness\": 0,\n                \"type\": \"solid\"\n            },\n            \"areaStyle\": {\n                \"opacity\": 0\n            },\n            \"zlevel\": 0,\n            \"z\": 0\n        }\n    ],\n    \"legend\": [\n        {\n            \"data\": [\n                \"A\",\n                \"B\"\n            ],\n            \"selected\": {\n                \"A\": true,\n                \"B\": true\n            },\n            \"show\": true,\n            \"padding\": 5,\n            \"itemGap\": 10,\n            \"itemWidth\": 25,\n            \"itemHeight\": 14\n        }\n    ],\n    \"tooltip\": {\n        \"show\": false,\n        \"trigger\": \"item\",\n        \"triggerOn\": \"mousemove|click\",\n        \"axisPointer\": {\n            \"type\": \"line\"\n        },\n        \"showContent\": true,\n        \"alwaysShowContent\": false,\n        \"showDelay\": 0,\n        \"hideDelay\": 100,\n        \"textStyle\": {\n            \"fontSize\": 14\n        },\n        \"borderWidth\": 0,\n        \"padding\": 5\n    },\n    \"xAxis\": [\n        {\n            \"type\": \"category\",\n            \"show\": true,\n            \"scale\": false,\n            \"nameLocation\": \"end\",\n            \"nameGap\": 15,\n            \"gridIndex\": 0,\n            \"inverse\": false,\n            \"offset\": 0,\n            \"splitNumber\": 5,\n            \"minInterval\": 0,\n            \"splitLine\": {\n                \"show\": false,\n                \"lineStyle\": {\n                    \"show\": true,\n                    \"width\": 1,\n                    \"opacity\": 1,\n                    \"curveness\": 0,\n                    \"type\": \"solid\"\n                }\n            },\n            \"data\": [\n                \"Mon\",\n                \"Tue\",\n                \"Wed\",\n                \"Thu\",\n                \"Fri\",\n                \"Sat\",\n                \"Sun\"\n            ]\n        }\n    ],\n    \"yAxis\": [\n        {\n            \"type\": \"value\",\n            \"show\": true,\n            \"scale\": false,\n            \"nameLocation\": \"end\",\n            \"nameGap\": 15,\n            \"gridIndex\": 0,\n            \"axisTick\": {\n                \"show\": true,\n                \"alignWithLabel\": false,\n                \"inside\": false\n            },\n            \"inverse\": false,\n            \"offset\": 0,\n            \"splitNumber\": 5,\n            \"minInterval\": 0,\n            \"splitLine\": {\n                \"show\": true,\n                \"lineStyle\": {\n                    \"show\": true,\n                    \"width\": 1,\n                    \"opacity\": 1,\n                    \"curveness\": 0,\n                    \"type\": \"solid\"\n                }\n            }\n        }\n    ],\n    \"title\": [\n        {\n            \"padding\": 5,\n            \"itemGap\": 10\n        }\n    ]\n};\n                chart_d105a782ffa2438ba084b8bdf63ec0a1.setOption(option_d105a782ffa2438ba084b8bdf63ec0a1);\n        });\n    </script>\n"
     },
     "metadata": {},
     "execution_count": 29
    }
   ],
   "source": [
    "x_data = [\"Mon\", \"Tue\", \"Wed\", \"Thu\", \"Fri\", \"Sat\", \"Sun\"]\n",
    "y_data = [820, 932, 901, 934, 1290, 1330, 1320]\n",
    "y1_data = [824, 922, 932, 954, 390,  330, 2320]\n",
    "from pyecharts import options as opts\n",
    "from pyecharts.charts import Line\n",
    "\n",
    "(\n",
    "    Line()\n",
    "    .set_global_opts(\n",
    "        tooltip_opts=opts.TooltipOpts(is_show=False),\n",
    "        xaxis_opts=opts.AxisOpts(type_=\"category\"),\n",
    "        yaxis_opts=opts.AxisOpts(\n",
    "            type_=\"value\",\n",
    "            axistick_opts=opts.AxisTickOpts(is_show=True),\n",
    "            splitline_opts=opts.SplitLineOpts(is_show=True),\n",
    "        ),\n",
    "    )\n",
    "    .add_xaxis(xaxis_data=x_data)\n",
    "    .add_yaxis(\n",
    "        series_name=\"A\",\n",
    "        y_axis=y_data,\n",
    "        symbol=\"emptyCircle1\",\n",
    "        is_symbol_show=True,\n",
    "        label_opts=opts.LabelOpts(is_show=False),\n",
    "    )\n",
    "    .add_yaxis(\n",
    "        series_name=\"B\",\n",
    "        y_axis=y1_data,\n",
    "        symbol=\"emptyCircle2\",\n",
    "        is_symbol_show=True,\n",
    "        label_opts=opts.LabelOpts(is_show=False),\n",
    "    )\n",
    "    .render_notebook()\n",
    ")\n",
    "\n"
   ]
  },
  {
   "cell_type": "code",
   "execution_count": null,
   "metadata": {},
   "outputs": [],
   "source": []
  }
 ]
}