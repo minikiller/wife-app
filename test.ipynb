{
 "metadata": {
  "language_info": {
   "codemirror_mode": {
    "name": "ipython",
    "version": 3
   },
   "file_extension": ".py",
   "mimetype": "text/x-python",
   "name": "python",
   "nbconvert_exporter": "python",
   "pygments_lexer": "ipython3",
   "version": "3.8.2-final"
  },
  "orig_nbformat": 2,
  "kernelspec": {
   "name": "Python 3.8.2 64-bit ('.venv': venv)",
   "display_name": "Python 3.8.2 64-bit ('.venv': venv)",
   "metadata": {
    "interpreter": {
     "hash": "6bcbc6877a10d7c17acffc9008a4e7f0e03bf07c7686e7fa4151dfe91791347c"
    }
   }
  }
 },
 "nbformat": 4,
 "nbformat_minor": 2,
 "cells": [
  {
   "cell_type": "code",
   "execution_count": 24,
   "metadata": {},
   "outputs": [
    {
     "output_type": "execute_result",
     "data": {
      "text/plain": [
       "<pyecharts.render.display.HTML at 0x128a2ab20>"
      ],
      "text/html": "\n<script>\n    require.config({\n        paths: {\n            'echarts':'https://assets.pyecharts.org/assets/echarts.min'\n        }\n    });\n</script>\n\n        <div id=\"af6f3b138e7d486ea305c0cc25aaad66\" style=\"width:900px; height:500px;\"></div>\n\n<script>\n        require(['echarts'], function(echarts) {\n                var chart_af6f3b138e7d486ea305c0cc25aaad66 = echarts.init(\n                    document.getElementById('af6f3b138e7d486ea305c0cc25aaad66'), 'white', {renderer: 'canvas'});\n                var option_af6f3b138e7d486ea305c0cc25aaad66 = {\n    \"animation\": true,\n    \"animationThreshold\": 2000,\n    \"animationDuration\": 1000,\n    \"animationEasing\": \"cubicOut\",\n    \"animationDelay\": 0,\n    \"animationDurationUpdate\": 300,\n    \"animationEasingUpdate\": \"cubicOut\",\n    \"animationDelayUpdate\": 0,\n    \"color\": [\n        \"#c23531\",\n        \"#2f4554\",\n        \"#61a0a8\",\n        \"#d48265\",\n        \"#749f83\",\n        \"#ca8622\",\n        \"#bda29a\",\n        \"#6e7074\",\n        \"#546570\",\n        \"#c4ccd3\",\n        \"#f05b72\",\n        \"#ef5b9c\",\n        \"#f47920\",\n        \"#905a3d\",\n        \"#fab27b\",\n        \"#2a5caa\",\n        \"#444693\",\n        \"#726930\",\n        \"#b2d235\",\n        \"#6d8346\",\n        \"#ac6767\",\n        \"#1d953f\",\n        \"#6950a1\",\n        \"#918597\"\n    ],\n    \"series\": [\n        {\n            \"type\": \"scatter\",\n            \"name\": \"\\u6570\\u636e1\",\n            \"symbolSize\": 10,\n            \"data\": [\n                [\n                    \"\\u53ef\\u4e50\",\n                    12,\n                    4\n                ],\n                [\n                    \"\\u96ea\\u78a7\",\n                    2,\n                    5\n                ],\n                [\n                    \"\\u6a59\\u6c41\",\n                    2,\n                    6\n                ],\n                [\n                    \"\\u7eff\\u8336\",\n                    3,\n                    15\n                ],\n                [\n                    \"\\u5976\\u8336\",\n                    3,\n                    6\n                ]\n            ],\n            \"label\": {\n                \"show\": true,\n                \"position\": \"right\",\n                \"margin\": 8\n            }\n        },\n        {\n            \"type\": \"scatter\",\n            \"name\": \"\\u6570\\u636e2\",\n            \"symbolSize\": 10,\n            \"data\": [\n                [\n                    \"\\u53ef\\u4e50\",\n                    8,\n                    2\n                ],\n                [\n                    \"\\u96ea\\u78a7\",\n                    28,\n                    4\n                ],\n                [\n                    \"\\u6a59\\u6c41\",\n                    18,\n                    6\n                ],\n                [\n                    \"\\u7eff\\u8336\",\n                    8,\n                    61\n                ],\n                [\n                    \"\\u5976\\u8336\",\n                    7,\n                    2\n                ]\n            ],\n            \"label\": {\n                \"show\": true,\n                \"position\": \"right\",\n                \"margin\": 8\n            }\n        }\n    ],\n    \"legend\": [\n        {\n            \"data\": [\n                \"\\u6570\\u636e1\",\n                \"\\u6570\\u636e2\"\n            ],\n            \"selected\": {\n                \"\\u6570\\u636e1\": true,\n                \"\\u6570\\u636e2\": true\n            },\n            \"show\": true,\n            \"padding\": 5,\n            \"itemGap\": 10,\n            \"itemWidth\": 25,\n            \"itemHeight\": 14\n        }\n    ],\n    \"tooltip\": {\n        \"show\": true,\n        \"trigger\": \"item\",\n        \"triggerOn\": \"mousemove|click\",\n        \"axisPointer\": {\n            \"type\": \"line\"\n        },\n        \"showContent\": true,\n        \"alwaysShowContent\": false,\n        \"showDelay\": 0,\n        \"hideDelay\": 100,\n        \"textStyle\": {\n            \"fontSize\": 14\n        },\n        \"borderWidth\": 0,\n        \"padding\": 5\n    },\n    \"xAxis\": [\n        {\n            \"show\": true,\n            \"scale\": false,\n            \"nameLocation\": \"end\",\n            \"nameGap\": 15,\n            \"gridIndex\": 0,\n            \"inverse\": false,\n            \"offset\": 0,\n            \"splitNumber\": 5,\n            \"minInterval\": 0,\n            \"splitLine\": {\n                \"show\": false,\n                \"lineStyle\": {\n                    \"show\": true,\n                    \"width\": 1,\n                    \"opacity\": 1,\n                    \"curveness\": 0,\n                    \"type\": \"solid\"\n                }\n            },\n            \"data\": [\n                \"\\u53ef\\u4e50\",\n                \"\\u96ea\\u78a7\",\n                \"\\u6a59\\u6c41\",\n                \"\\u7eff\\u8336\",\n                \"\\u5976\\u8336\",\n                \"\\u767e\\u5a01\",\n                \"\\u9752\\u5c9b\"\n            ]\n        }\n    ],\n    \"yAxis\": [\n        {\n            \"show\": true,\n            \"scale\": false,\n            \"nameLocation\": \"end\",\n            \"nameGap\": 15,\n            \"gridIndex\": 0,\n            \"inverse\": false,\n            \"offset\": 0,\n            \"splitNumber\": 5,\n            \"minInterval\": 0,\n            \"splitLine\": {\n                \"show\": false,\n                \"lineStyle\": {\n                    \"show\": true,\n                    \"width\": 1,\n                    \"opacity\": 1,\n                    \"curveness\": 0,\n                    \"type\": \"solid\"\n                }\n            }\n        }\n    ],\n    \"title\": [\n        {\n            \"text\": \"\\u4f8b1 scatter\\u81ea\\u5b9a\\u4e49\\u6570\\u636e\\u57fa\\u672c\\u793a\\u4f8b\",\n            \"padding\": 5,\n            \"itemGap\": 10\n        }\n    ]\n};\n                chart_af6f3b138e7d486ea305c0cc25aaad66.setOption(option_af6f3b138e7d486ea305c0cc25aaad66);\n        });\n    </script>\n"
     },
     "metadata": {},
     "execution_count": 24
    }
   ],
   "source": [
    "from pyecharts.faker import Faker\n",
    "from pyecharts import options as opts\n",
    "from pyecharts.charts import Scatter # 导入散点图绘制模块\n",
    "from pyecharts.commons.utils import JsCode\n",
    " \n",
    "# 例1 自定义数据基本示例\n",
    "y1=[[12,4],[2,5],[2,6],[3,15],[3,6]]\n",
    "y2=[[8,2],[28,4],[18,6],[8,61],[7,2]]\n",
    "scatter1=(\n",
    "    Scatter()\n",
    "    .add_xaxis(Faker.choose())\n",
    "    .add_yaxis('数据1',y1)\n",
    "    .add_yaxis('数据2',y2)\n",
    "    .set_global_opts(title_opts=opts.TitleOpts(title='例1 scatter自定义数据基本示例'))\n",
    ")\n",
    "scatter1.render_notebook()"
   ]
  },
  {
   "cell_type": "code",
   "execution_count": null,
   "metadata": {},
   "outputs": [],
   "source": []
  },
  {
   "cell_type": "code",
   "execution_count": 23,
   "metadata": {},
   "outputs": [
    {
     "output_type": "stream",
     "name": "stderr",
     "text": [
      "Duplicate key in file PosixPath('/Users/sunlf/Documents/huigu-project/wife-app/.venv/lib/python3.8/site-packages/matplotlib/mpl-data/matplotlibrc'), line 252 ('font.family:  sans-serif')\n",
      "Duplicate key in file PosixPath('/Users/sunlf/Documents/huigu-project/wife-app/.venv/lib/python3.8/site-packages/matplotlib/mpl-data/matplotlibrc'), line 260 ('font.sans-serif: DejaVu Sans, Bitstream Vera Sans, Computer Modern Sans Serif, Lucida Grande, Verdana, Geneva, Lucid, Arial, Helvetica, Avant Garde, sans-serif')\n"
     ]
    },
    {
     "output_type": "display_data",
     "data": {
      "text/plain": "<Figure size 432x288 with 1 Axes>",
      "image/svg+xml": "<?xml version=\"1.0\" encoding=\"utf-8\" standalone=\"no\"?>\n<!DOCTYPE svg PUBLIC \"-//W3C//DTD SVG 1.1//EN\"\n  \"http://www.w3.org/Graphics/SVG/1.1/DTD/svg11.dtd\">\n<!-- Created with matplotlib (https://matplotlib.org/) -->\n<svg height=\"259.09pt\" version=\"1.1\" viewBox=\"0 0 383.325 259.09\" width=\"383.325pt\" xmlns=\"http://www.w3.org/2000/svg\" xmlns:xlink=\"http://www.w3.org/1999/xlink\">\n <metadata>\n  <rdf:RDF xmlns:cc=\"http://creativecommons.org/ns#\" xmlns:dc=\"http://purl.org/dc/elements/1.1/\" xmlns:rdf=\"http://www.w3.org/1999/02/22-rdf-syntax-ns#\">\n   <cc:Work>\n    <dc:type rdf:resource=\"http://purl.org/dc/dcmitype/StillImage\"/>\n    <dc:date>2020-11-04T15:50:35.687511</dc:date>\n    <dc:format>image/svg+xml</dc:format>\n    <dc:creator>\n     <cc:Agent>\n      <dc:title>Matplotlib v3.3.2, https://matplotlib.org/</dc:title>\n     </cc:Agent>\n    </dc:creator>\n   </cc:Work>\n  </rdf:RDF>\n </metadata>\n <defs>\n  <style type=\"text/css\">*{stroke-linecap:butt;stroke-linejoin:round;}</style>\n </defs>\n <g id=\"figure_1\">\n  <g id=\"patch_1\">\n   <path d=\"M 0 259.09 \nL 383.325 259.09 \nL 383.325 0 \nL 0 0 \nz\n\" style=\"fill:none;\"/>\n  </g>\n  <g id=\"axes_1\">\n   <g id=\"patch_2\">\n    <path d=\"M 41.325 224.64 \nL 376.125 224.64 \nL 376.125 7.2 \nL 41.325 7.2 \nz\n\" style=\"fill:#ffffff;\"/>\n   </g>\n   <g id=\"PathCollection_1\">\n    <defs>\n     <path d=\"M 0 2.236068 \nC 0.593012 2.236068 1.161816 2.000462 1.581139 1.581139 \nC 2.000462 1.161816 2.236068 0.593012 2.236068 0 \nC 2.236068 -0.593012 2.000462 -1.161816 1.581139 -1.581139 \nC 1.161816 -2.000462 0.593012 -2.236068 0 -2.236068 \nC -0.593012 -2.236068 -1.161816 -2.000462 -1.581139 -1.581139 \nC -2.000462 -1.161816 -2.236068 -0.593012 -2.236068 0 \nC -2.236068 0.593012 -2.000462 1.161816 -1.581139 1.581139 \nC -1.161816 2.000462 -0.593012 2.236068 0 2.236068 \nz\n\" id=\"m14eac0debf\" style=\"stroke:#00008b;\"/>\n    </defs>\n    <g clip-path=\"url(#p8bf2d411e5)\">\n     <use style=\"fill:#00008b;stroke:#00008b;\" x=\"85.530195\" xlink:href=\"#m14eac0debf\" y=\"17.083636\"/>\n     <use style=\"fill:#00008b;stroke:#00008b;\" x=\"56.543182\" xlink:href=\"#m14eac0debf\" y=\"214.756364\"/>\n     <use style=\"fill:#00008b;stroke:#00008b;\" x=\"360.906818\" xlink:href=\"#m14eac0debf\" y=\"135.687273\"/>\n     <use style=\"fill:#00008b;stroke:#00008b;\" x=\"273.945779\" xlink:href=\"#m14eac0debf\" y=\"135.687273\"/>\n     <use style=\"fill:#00008b;stroke:#00008b;\" x=\"201.478247\" xlink:href=\"#m14eac0debf\" y=\"214.756364\"/>\n    </g>\n   </g>\n   <g id=\"matplotlib.axis_1\">\n    <g id=\"xtick_1\">\n     <g id=\"line2d_1\">\n      <defs>\n       <path d=\"M 0 0 \nL 0 3.5 \n\" id=\"md27b9af4f1\" style=\"stroke:#000000;stroke-width:0.8;\"/>\n      </defs>\n      <g>\n       <use style=\"stroke:#000000;stroke-width:0.8;\" x=\"71.036688\" xlink:href=\"#md27b9af4f1\" y=\"224.64\"/>\n      </g>\n     </g>\n     <g id=\"text_1\">\n      <!-- 5.0 -->\n      <g transform=\"translate(63.536688 238.475938)scale(0.1 -0.1)\">\n       <defs>\n        <path d=\"M 44.140625 25.78125 \nQ 44.140625 14.0625 38.46875 7.421875 \nQ 32.8125 0.78125 23.4375 0.78125 \nQ 15.234375 0.78125 9.953125 6.25 \nQ 4.6875 11.71875 4.296875 21.09375 \nL 13.28125 21.09375 \nQ 13.28125 15.234375 16.015625 11.71875 \nQ 18.75 8.203125 23.828125 8.203125 \nQ 28.90625 8.203125 31.828125 12.5 \nQ 34.765625 16.796875 34.765625 25.78125 \nQ 34.765625 33.59375 32.21875 37.296875 \nQ 29.6875 41.015625 25.390625 41.015625 \nQ 21.875 41.015625 19.328125 39.453125 \nQ 16.796875 37.890625 14.453125 33.984375 \nL 6.640625 33.984375 \nL 8.984375 68.359375 \nL 42.578125 68.359375 \nL 42.578125 60.9375 \nL 16.40625 60.9375 \nL 14.84375 42.96875 \nQ 17.1875 45.3125 19.921875 46.484375 \nQ 22.65625 47.65625 27.34375 47.65625 \nQ 34.765625 47.65625 39.453125 41.984375 \nQ 44.140625 36.328125 44.140625 25.78125 \nz\n\" id=\"SimHei-53\"/>\n        <path d=\"M 17.1875 1.5625 \nL 8.203125 1.5625 \nL 8.203125 10.15625 \nL 17.1875 10.15625 \nz\n\" id=\"SimHei-46\"/>\n        <path d=\"M 46.484375 35.15625 \nQ 46.484375 21.09375 41.40625 10.9375 \nQ 36.328125 0.78125 25 0.78125 \nQ 13.671875 0.78125 8.390625 10.9375 \nQ 3.125 21.09375 3.125 35.15625 \nQ 3.125 49.21875 8.390625 59.171875 \nQ 13.671875 69.140625 25 69.140625 \nQ 36.328125 69.140625 41.40625 59.171875 \nQ 46.484375 49.21875 46.484375 35.15625 \nz\nM 37.109375 35.15625 \nQ 37.109375 47.65625 34.171875 54.6875 \nQ 31.25 61.71875 25 61.71875 \nQ 18.75 61.71875 15.625 54.6875 \nQ 12.5 47.65625 12.5 35.15625 \nQ 12.5 22.65625 15.625 15.421875 \nQ 18.75 8.203125 25 8.203125 \nQ 31.25 8.203125 34.171875 15.421875 \nQ 37.109375 22.65625 37.109375 35.15625 \nz\n\" id=\"SimHei-48\"/>\n       </defs>\n       <use xlink:href=\"#SimHei-53\"/>\n       <use x=\"50\" xlink:href=\"#SimHei-46\"/>\n       <use x=\"100\" xlink:href=\"#SimHei-48\"/>\n      </g>\n     </g>\n    </g>\n    <g id=\"xtick_2\">\n     <g id=\"line2d_2\">\n      <g>\n       <use style=\"stroke:#000000;stroke-width:0.8;\" x=\"143.504221\" xlink:href=\"#md27b9af4f1\" y=\"224.64\"/>\n      </g>\n     </g>\n     <g id=\"text_2\">\n      <!-- 5.5 -->\n      <g transform=\"translate(136.004221 238.475938)scale(0.1 -0.1)\">\n       <use xlink:href=\"#SimHei-53\"/>\n       <use x=\"50\" xlink:href=\"#SimHei-46\"/>\n       <use x=\"100\" xlink:href=\"#SimHei-53\"/>\n      </g>\n     </g>\n    </g>\n    <g id=\"xtick_3\">\n     <g id=\"line2d_3\">\n      <g>\n       <use style=\"stroke:#000000;stroke-width:0.8;\" x=\"215.971753\" xlink:href=\"#md27b9af4f1\" y=\"224.64\"/>\n      </g>\n     </g>\n     <g id=\"text_3\">\n      <!-- 6.0 -->\n      <g transform=\"translate(208.471753 238.475938)scale(0.1 -0.1)\">\n       <defs>\n        <path d=\"M 44.53125 24.21875 \nQ 44.53125 13.28125 39.84375 7.03125 \nQ 35.15625 0.78125 25.78125 0.78125 \nQ 16.40625 0.78125 10.9375 8.59375 \nQ 5.46875 16.40625 5.46875 33.984375 \nQ 5.46875 50 11.125 59.5625 \nQ 16.796875 69.140625 27.34375 69.140625 \nQ 34.765625 69.140625 39.25 63.671875 \nQ 43.75 58.203125 43.75 51.5625 \nL 34.765625 51.5625 \nQ 34.765625 55.46875 32.609375 58.59375 \nQ 30.46875 61.71875 26.953125 61.71875 \nQ 21.09375 61.71875 17.96875 55.65625 \nQ 14.84375 49.609375 14.453125 37.109375 \nQ 17.1875 42.1875 20.3125 44.140625 \nQ 23.4375 46.09375 27.734375 46.09375 \nQ 35.15625 46.09375 39.84375 40.234375 \nQ 44.53125 34.375 44.53125 24.21875 \nz\nM 35.15625 24.21875 \nQ 35.15625 31.25 32.8125 35.15625 \nQ 30.46875 39.0625 26.171875 39.0625 \nQ 21.09375 39.0625 18.15625 35.15625 \nQ 15.234375 31.25 15.234375 25.78125 \nQ 15.234375 17.1875 18.15625 12.5 \nQ 21.09375 7.8125 26.171875 7.8125 \nQ 29.6875 7.8125 32.421875 11.328125 \nQ 35.15625 14.84375 35.15625 24.21875 \nz\n\" id=\"SimHei-54\"/>\n       </defs>\n       <use xlink:href=\"#SimHei-54\"/>\n       <use x=\"50\" xlink:href=\"#SimHei-46\"/>\n       <use x=\"100\" xlink:href=\"#SimHei-48\"/>\n      </g>\n     </g>\n    </g>\n    <g id=\"xtick_4\">\n     <g id=\"line2d_4\">\n      <g>\n       <use style=\"stroke:#000000;stroke-width:0.8;\" x=\"288.439286\" xlink:href=\"#md27b9af4f1\" y=\"224.64\"/>\n      </g>\n     </g>\n     <g id=\"text_4\">\n      <!-- 6.5 -->\n      <g transform=\"translate(280.939286 238.475938)scale(0.1 -0.1)\">\n       <use xlink:href=\"#SimHei-54\"/>\n       <use x=\"50\" xlink:href=\"#SimHei-46\"/>\n       <use x=\"100\" xlink:href=\"#SimHei-53\"/>\n      </g>\n     </g>\n    </g>\n    <g id=\"xtick_5\">\n     <g id=\"line2d_5\">\n      <g>\n       <use style=\"stroke:#000000;stroke-width:0.8;\" x=\"360.906818\" xlink:href=\"#md27b9af4f1\" y=\"224.64\"/>\n      </g>\n     </g>\n     <g id=\"text_5\">\n      <!-- 7.0 -->\n      <g transform=\"translate(353.406818 238.475938)scale(0.1 -0.1)\">\n       <defs>\n        <path d=\"M 43.359375 60.15625 \nL 25 1.5625 \nL 16.015625 1.5625 \nL 34.765625 60.9375 \nL 6.25 60.9375 \nL 6.25 68.359375 \nL 43.359375 68.359375 \nz\n\" id=\"SimHei-55\"/>\n       </defs>\n       <use xlink:href=\"#SimHei-55\"/>\n       <use x=\"50\" xlink:href=\"#SimHei-46\"/>\n       <use x=\"100\" xlink:href=\"#SimHei-48\"/>\n      </g>\n     </g>\n    </g>\n    <g id=\"text_6\">\n     <!-- length -->\n     <g transform=\"translate(193.725 250.600938)scale(0.1 -0.1)\">\n      <defs>\n       <path d=\"M 28.90625 1.5625 \nL 21.09375 1.5625 \nL 21.09375 68.359375 \nL 28.90625 68.359375 \nz\n\" id=\"SimHei-108\"/>\n       <path d=\"M 44.921875 16.40625 \nQ 44.140625 9.375 38.671875 5.078125 \nQ 33.203125 0.78125 25.78125 0.78125 \nQ 16.40625 0.78125 10.34375 6.828125 \nQ 4.296875 12.890625 4.296875 23.4375 \nQ 4.296875 33.984375 10.34375 40.03125 \nQ 16.40625 46.09375 25.78125 46.09375 \nQ 33.984375 46.09375 39.25 40.8125 \nQ 44.53125 35.546875 44.53125 23.4375 \nL 12.890625 23.4375 \nQ 12.890625 14.84375 16.59375 11.328125 \nQ 20.3125 7.8125 25.78125 7.8125 \nQ 30.078125 7.8125 32.8125 9.953125 \nQ 35.546875 12.109375 36.328125 16.40625 \nz\nM 35.546875 29.6875 \nQ 34.765625 35.15625 32.03125 37.296875 \nQ 29.296875 39.453125 25 39.453125 \nQ 21.09375 39.453125 17.96875 37.296875 \nQ 14.84375 35.15625 13.28125 29.6875 \nz\n\" id=\"SimHei-101\"/>\n       <path d=\"M 44.140625 1.5625 \nL 36.328125 1.5625 \nL 36.328125 29.6875 \nQ 36.328125 34.375 33.984375 37.109375 \nQ 31.640625 39.84375 27.734375 39.84375 \nQ 22.65625 39.84375 18.15625 34.5625 \nQ 13.671875 29.296875 13.671875 21.484375 \nL 13.671875 1.5625 \nL 5.859375 1.5625 \nL 5.859375 45.3125 \nL 13.671875 45.3125 \nL 13.671875 37.109375 \nQ 16.796875 41.40625 20.5 43.75 \nQ 24.21875 46.09375 30.078125 46.09375 \nQ 37.109375 46.09375 40.625 42.1875 \nQ 44.140625 38.28125 44.140625 32.421875 \nz\n\" id=\"SimHei-110\"/>\n       <path d=\"M 46.875 38.671875 \nQ 44.140625 39.453125 41.59375 39.640625 \nQ 39.0625 39.84375 36.328125 39.0625 \nQ 37.5 37.890625 38.28125 36.125 \nQ 39.0625 34.375 39.0625 30.859375 \nQ 39.0625 24.21875 34.5625 19.921875 \nQ 30.078125 15.625 23.4375 15.625 \nQ 21.875 15.625 19.328125 16.203125 \nQ 16.796875 16.796875 15.234375 17.578125 \nQ 14.0625 16.796875 13.671875 16.015625 \nQ 13.28125 15.234375 13.28125 14.0625 \nQ 13.28125 12.109375 16.015625 11.125 \nQ 18.75 10.15625 25.78125 10.15625 \nQ 37.109375 10.15625 41.203125 7.03125 \nQ 45.3125 3.90625 45.3125 -0.78125 \nQ 45.3125 -7.03125 39.25 -9.953125 \nQ 33.203125 -12.890625 25 -12.890625 \nQ 14.453125 -12.890625 9.375 -10.15625 \nQ 4.296875 -7.421875 4.296875 -2.734375 \nQ 4.296875 -0.390625 6.25 1.953125 \nQ 8.203125 4.296875 11.328125 5.859375 \nQ 8.984375 7.03125 7.609375 8.78125 \nQ 6.25 10.546875 6.25 13.28125 \nQ 6.25 15.625 8 17.375 \nQ 9.765625 19.140625 12.109375 20.3125 \nQ 10.15625 22.265625 8.984375 25 \nQ 7.8125 27.734375 7.8125 30.859375 \nQ 7.8125 37.5 12.296875 41.796875 \nQ 16.796875 46.09375 23.4375 46.09375 \nQ 26.953125 46.09375 29.484375 45.109375 \nQ 32.03125 44.140625 33.984375 42.1875 \nQ 37.109375 44.53125 40.234375 45.5 \nQ 43.359375 46.484375 46.875 46.09375 \nz\nM 31.25 30.859375 \nQ 31.25 34.765625 29.296875 37.109375 \nQ 27.34375 39.453125 23.4375 39.453125 \nQ 19.53125 39.453125 17.578125 37.109375 \nQ 15.625 34.765625 15.625 30.859375 \nQ 15.625 26.953125 17.578125 24.609375 \nQ 19.53125 22.265625 23.4375 22.265625 \nQ 27.34375 22.265625 29.296875 24.609375 \nQ 31.25 26.953125 31.25 30.859375 \nz\nM 37.890625 -1.5625 \nQ 37.890625 0 36.125 1.5625 \nQ 34.375 3.125 27.34375 3.125 \nQ 25.78125 3.125 23.046875 3.3125 \nQ 20.3125 3.515625 16.796875 3.90625 \nQ 13.671875 2.734375 12.5 1.171875 \nQ 11.328125 -0.390625 11.328125 -1.953125 \nQ 11.328125 -4.296875 14.453125 -5.859375 \nQ 17.578125 -7.421875 25.390625 -7.421875 \nQ 32.03125 -7.421875 34.953125 -5.65625 \nQ 37.890625 -3.90625 37.890625 -1.5625 \nz\n\" id=\"SimHei-103\"/>\n       <path d=\"M 43.359375 2.734375 \nQ 41.40625 1.953125 38.859375 1.359375 \nQ 36.328125 0.78125 32.03125 0.78125 \nQ 25 0.78125 20.703125 4.6875 \nQ 16.40625 8.59375 16.40625 15.625 \nL 16.40625 39.0625 \nL 3.125 39.0625 \nL 3.125 45.3125 \nL 16.40625 45.3125 \nL 16.40625 60.546875 \nL 24.21875 60.546875 \nL 24.21875 45.3125 \nL 40.234375 45.3125 \nL 40.234375 39.0625 \nL 24.21875 39.0625 \nL 24.21875 15.234375 \nQ 24.21875 12.109375 25.78125 9.953125 \nQ 27.34375 7.8125 31.640625 7.8125 \nQ 35.9375 7.8125 38.671875 8.59375 \nQ 41.40625 9.375 43.359375 10.546875 \nz\n\" id=\"SimHei-116\"/>\n       <path d=\"M 44.140625 1.5625 \nL 36.328125 1.5625 \nL 36.328125 29.6875 \nQ 36.328125 34.375 33.984375 37.109375 \nQ 31.640625 39.84375 27.734375 39.84375 \nQ 22.65625 39.84375 18.15625 34.5625 \nQ 13.671875 29.296875 13.671875 21.484375 \nL 13.671875 1.5625 \nL 5.859375 1.5625 \nL 5.859375 68.359375 \nL 13.671875 68.359375 \nL 13.671875 37.109375 \nQ 16.796875 41.40625 20.5 43.75 \nQ 24.21875 46.09375 30.078125 46.09375 \nQ 37.109375 46.09375 40.625 42.1875 \nQ 44.140625 38.28125 44.140625 32.421875 \nz\n\" id=\"SimHei-104\"/>\n      </defs>\n      <use xlink:href=\"#SimHei-108\"/>\n      <use x=\"50\" xlink:href=\"#SimHei-101\"/>\n      <use x=\"100\" xlink:href=\"#SimHei-110\"/>\n      <use x=\"150\" xlink:href=\"#SimHei-103\"/>\n      <use x=\"200\" xlink:href=\"#SimHei-116\"/>\n      <use x=\"250\" xlink:href=\"#SimHei-104\"/>\n     </g>\n    </g>\n   </g>\n   <g id=\"matplotlib.axis_2\">\n    <g id=\"ytick_1\">\n     <g id=\"line2d_6\">\n      <defs>\n       <path d=\"M 0 0 \nL -3.5 0 \n\" id=\"mf6899429d6\" style=\"stroke:#000000;stroke-width:0.8;\"/>\n      </defs>\n      <g>\n       <use style=\"stroke:#000000;stroke-width:0.8;\" x=\"41.325\" xlink:href=\"#mf6899429d6\" y=\"214.756364\"/>\n      </g>\n     </g>\n     <g id=\"text_7\">\n      <!-- 3.0 -->\n      <g transform=\"translate(19.325 218.174332)scale(0.1 -0.1)\">\n       <defs>\n        <path d=\"M 44.140625 20.3125 \nQ 44.140625 11.328125 38.46875 6.046875 \nQ 32.8125 0.78125 24.21875 0.78125 \nQ 15.625 0.78125 9.953125 6.046875 \nQ 4.296875 11.328125 4.296875 22.265625 \nL 13.28125 22.265625 \nQ 13.28125 14.84375 16.203125 11.515625 \nQ 19.140625 8.203125 24.21875 8.203125 \nQ 29.296875 8.203125 32.03125 11.328125 \nQ 34.765625 14.453125 34.765625 21.09375 \nQ 34.765625 26.5625 31.828125 29.6875 \nQ 28.90625 32.8125 21.484375 32.8125 \nL 21.484375 39.453125 \nQ 27.734375 39.453125 30.65625 42.578125 \nQ 33.59375 45.703125 33.59375 51.953125 \nQ 33.59375 56.640625 31.4375 59.375 \nQ 29.296875 62.109375 24.609375 62.109375 \nQ 19.921875 62.109375 17.375 58.78125 \nQ 14.84375 55.46875 14.453125 49.21875 \nL 5.859375 49.21875 \nQ 6.640625 58.203125 11.515625 63.671875 \nQ 16.40625 69.140625 24.609375 69.140625 \nQ 33.203125 69.140625 37.890625 64.25 \nQ 42.578125 59.375 42.578125 52.34375 \nQ 42.578125 45.703125 40.234375 41.984375 \nQ 37.890625 38.28125 32.421875 36.328125 \nQ 37.890625 35.15625 41.015625 30.859375 \nQ 44.140625 26.5625 44.140625 20.3125 \nz\n\" id=\"SimHei-51\"/>\n       </defs>\n       <use xlink:href=\"#SimHei-51\"/>\n       <use x=\"50\" xlink:href=\"#SimHei-46\"/>\n       <use x=\"100\" xlink:href=\"#SimHei-48\"/>\n      </g>\n     </g>\n    </g>\n    <g id=\"ytick_2\">\n     <g id=\"line2d_7\">\n      <g>\n       <use style=\"stroke:#000000;stroke-width:0.8;\" x=\"41.325\" xlink:href=\"#mf6899429d6\" y=\"175.221818\"/>\n      </g>\n     </g>\n     <g id=\"text_8\">\n      <!-- 3.1 -->\n      <g transform=\"translate(19.325 178.639787)scale(0.1 -0.1)\">\n       <defs>\n        <path d=\"M 30.46875 1.5625 \nL 21.484375 1.5625 \nL 21.484375 53.515625 \nL 9.765625 53.515625 \nL 9.765625 58.203125 \nQ 16.796875 58.203125 20.703125 60.9375 \nQ 24.609375 63.671875 25.78125 69.140625 \nL 30.46875 69.140625 \nz\n\" id=\"SimHei-49\"/>\n       </defs>\n       <use xlink:href=\"#SimHei-51\"/>\n       <use x=\"50\" xlink:href=\"#SimHei-46\"/>\n       <use x=\"100\" xlink:href=\"#SimHei-49\"/>\n      </g>\n     </g>\n    </g>\n    <g id=\"ytick_3\">\n     <g id=\"line2d_8\">\n      <g>\n       <use style=\"stroke:#000000;stroke-width:0.8;\" x=\"41.325\" xlink:href=\"#mf6899429d6\" y=\"135.687273\"/>\n      </g>\n     </g>\n     <g id=\"text_9\">\n      <!-- 3.2 -->\n      <g transform=\"translate(19.325 139.105241)scale(0.1 -0.1)\">\n       <defs>\n        <path d=\"M 44.53125 1.5625 \nL 4.6875 1.5625 \nL 4.6875 7.8125 \nQ 7.03125 14.0625 11.125 19.328125 \nQ 15.234375 24.609375 23.046875 31.25 \nQ 28.90625 36.328125 31.4375 40.625 \nQ 33.984375 44.921875 33.984375 50 \nQ 33.984375 55.078125 31.828125 58.390625 \nQ 29.6875 61.71875 25 61.71875 \nQ 21.09375 61.71875 18.15625 58.203125 \nQ 15.234375 54.6875 15.234375 45.703125 \nL 6.25 45.703125 \nQ 6.640625 57.03125 11.515625 63.078125 \nQ 16.40625 69.140625 25.390625 69.140625 \nQ 33.984375 69.140625 38.671875 63.859375 \nQ 43.359375 58.59375 43.359375 49.609375 \nQ 43.359375 42.1875 39.0625 36.71875 \nQ 34.765625 31.25 28.515625 25.78125 \nQ 21.484375 19.53125 18.75 16.40625 \nQ 16.015625 13.28125 13.671875 8.984375 \nL 44.53125 8.984375 \nz\n\" id=\"SimHei-50\"/>\n       </defs>\n       <use xlink:href=\"#SimHei-51\"/>\n       <use x=\"50\" xlink:href=\"#SimHei-46\"/>\n       <use x=\"100\" xlink:href=\"#SimHei-50\"/>\n      </g>\n     </g>\n    </g>\n    <g id=\"ytick_4\">\n     <g id=\"line2d_9\">\n      <g>\n       <use style=\"stroke:#000000;stroke-width:0.8;\" x=\"41.325\" xlink:href=\"#mf6899429d6\" y=\"96.152727\"/>\n      </g>\n     </g>\n     <g id=\"text_10\">\n      <!-- 3.3 -->\n      <g transform=\"translate(19.325 99.570696)scale(0.1 -0.1)\">\n       <use xlink:href=\"#SimHei-51\"/>\n       <use x=\"50\" xlink:href=\"#SimHei-46\"/>\n       <use x=\"100\" xlink:href=\"#SimHei-51\"/>\n      </g>\n     </g>\n    </g>\n    <g id=\"ytick_5\">\n     <g id=\"line2d_10\">\n      <g>\n       <use style=\"stroke:#000000;stroke-width:0.8;\" x=\"41.325\" xlink:href=\"#mf6899429d6\" y=\"56.618182\"/>\n      </g>\n     </g>\n     <g id=\"text_11\">\n      <!-- 3.4 -->\n      <g transform=\"translate(19.325 60.036151)scale(0.1 -0.1)\">\n       <defs>\n        <path d=\"M 46.484375 18.75 \nL 38.28125 18.75 \nL 38.28125 1.5625 \nL 29.296875 1.5625 \nL 29.296875 18.75 \nL 3.125 18.75 \nL 3.125 26.171875 \nL 29.296875 69.140625 \nL 38.28125 69.140625 \nL 38.28125 26.171875 \nL 46.484375 26.171875 \nz\nM 29.296875 26.171875 \nL 29.296875 55.078125 \nL 11.71875 26.171875 \nz\n\" id=\"SimHei-52\"/>\n       </defs>\n       <use xlink:href=\"#SimHei-51\"/>\n       <use x=\"50\" xlink:href=\"#SimHei-46\"/>\n       <use x=\"100\" xlink:href=\"#SimHei-52\"/>\n      </g>\n     </g>\n    </g>\n    <g id=\"ytick_6\">\n     <g id=\"line2d_11\">\n      <g>\n       <use style=\"stroke:#000000;stroke-width:0.8;\" x=\"41.325\" xlink:href=\"#mf6899429d6\" y=\"17.083636\"/>\n      </g>\n     </g>\n     <g id=\"text_12\">\n      <!-- 3.5 -->\n      <g transform=\"translate(19.325 20.501605)scale(0.1 -0.1)\">\n       <use xlink:href=\"#SimHei-51\"/>\n       <use x=\"50\" xlink:href=\"#SimHei-46\"/>\n       <use x=\"100\" xlink:href=\"#SimHei-53\"/>\n      </g>\n     </g>\n    </g>\n    <g id=\"text_13\">\n     <!-- width -->\n     <g transform=\"translate(14.035938 128.42)rotate(-90)scale(0.1 -0.1)\">\n      <defs>\n       <path d=\"M 48.4375 45.3125 \nL 38.671875 0.78125 \nL 31.25 0.78125 \nL 25 34.765625 \nL 24.21875 34.765625 \nL 17.96875 0.78125 \nL 10.546875 0.78125 \nL 0.78125 45.3125 \nL 8.984375 45.3125 \nL 14.0625 16.015625 \nL 14.84375 16.015625 \nL 20.3125 45.3125 \nL 28.90625 45.3125 \nL 34.375 16.015625 \nL 35.15625 16.015625 \nL 40.234375 45.3125 \nz\n\" id=\"SimHei-119\"/>\n       <path d=\"M 28.515625 57.8125 \nL 20.703125 57.8125 \nL 20.703125 67.96875 \nL 28.515625 67.96875 \nz\nM 28.515625 1.5625 \nL 20.703125 1.5625 \nL 20.703125 45.3125 \nL 28.515625 45.3125 \nz\n\" id=\"SimHei-105\"/>\n       <path d=\"M 43.359375 1.5625 \nL 35.546875 1.5625 \nL 35.546875 7.421875 \nQ 33.203125 3.90625 30.078125 2.34375 \nQ 26.953125 0.78125 22.65625 0.78125 \nQ 14.84375 0.78125 9.375 6.4375 \nQ 3.90625 12.109375 3.90625 23.4375 \nQ 3.90625 34.765625 9.375 40.625 \nQ 14.84375 46.484375 22.65625 46.484375 \nQ 26.953125 46.484375 30.078125 44.71875 \nQ 33.203125 42.96875 35.546875 39.453125 \nL 35.546875 68.359375 \nL 43.359375 68.359375 \nz\nM 35.546875 23.4375 \nQ 35.546875 30.859375 32.21875 35.15625 \nQ 28.90625 39.453125 24.21875 39.453125 \nQ 18.359375 39.453125 15.421875 35.15625 \nQ 12.5 30.859375 12.5 23.4375 \nQ 12.5 16.015625 15.421875 11.90625 \nQ 18.359375 7.8125 24.21875 7.8125 \nQ 28.90625 7.8125 32.21875 11.90625 \nQ 35.546875 16.015625 35.546875 23.4375 \nz\n\" id=\"SimHei-100\"/>\n      </defs>\n      <use xlink:href=\"#SimHei-119\"/>\n      <use x=\"50\" xlink:href=\"#SimHei-105\"/>\n      <use x=\"100\" xlink:href=\"#SimHei-100\"/>\n      <use x=\"150\" xlink:href=\"#SimHei-116\"/>\n      <use x=\"200\" xlink:href=\"#SimHei-104\"/>\n     </g>\n    </g>\n   </g>\n   <g id=\"patch_3\">\n    <path d=\"M 41.325 224.64 \nL 41.325 7.2 \n\" style=\"fill:none;stroke:#000000;stroke-linecap:square;stroke-linejoin:miter;stroke-width:0.8;\"/>\n   </g>\n   <g id=\"patch_4\">\n    <path d=\"M 376.125 224.64 \nL 376.125 7.2 \n\" style=\"fill:none;stroke:#000000;stroke-linecap:square;stroke-linejoin:miter;stroke-width:0.8;\"/>\n   </g>\n   <g id=\"patch_5\">\n    <path d=\"M 41.325 224.64 \nL 376.125 224.64 \n\" style=\"fill:none;stroke:#000000;stroke-linecap:square;stroke-linejoin:miter;stroke-width:0.8;\"/>\n   </g>\n   <g id=\"patch_6\">\n    <path d=\"M 41.325 7.2 \nL 376.125 7.2 \n\" style=\"fill:none;stroke:#000000;stroke-linecap:square;stroke-linejoin:miter;stroke-width:0.8;\"/>\n   </g>\n  </g>\n </g>\n <defs>\n  <clipPath id=\"p8bf2d411e5\">\n   <rect height=\"217.44\" width=\"334.8\" x=\"41.325\" y=\"7.2\"/>\n  </clipPath>\n </defs>\n</svg>\n",
      "image/png": "[encoded data removed]"
     },
     "metadata": {
      "needs_background": "light"
     }
    }
   ],
   "source": [
    "import pandas as pd\n",
    "df = pd.DataFrame([[5.1, 3.5, 0], [4.9, 3.0, 0], [7.0, 3.2, 1],\n",
    "                   [6.4, 3.2, 1], [5.9, 3.0, 2]],\n",
    "                  columns=['length', 'width', 'species'])\n",
    "ax1 = df.plot.scatter(x='length',\n",
    "                      y='width',\n",
    "                      c='DarkBlue')"
   ]
  },
  {
   "cell_type": "code",
   "execution_count": 22,
   "metadata": {},
   "outputs": [
    {
     "output_type": "execute_result",
     "data": {
      "text/plain": [
       "                买家数          成交金额          搜索人数          客单价        UV价值\n",
       "count  2.130000e+02  2.130000e+02  2.130000e+02   213.000000  213.000000\n",
       "mean   3.374902e+05  1.173869e+07  6.858630e+05   339.510516   28.479108\n",
       "std    2.173648e+06  4.121709e+07  3.177737e+06   880.309259   28.029166\n",
       "min    0.000000e+00  0.000000e+00  1.600000e+01     0.000000    0.000000\n",
       "25%    1.295000e+03  1.265170e+05  9.378000e+03    50.390000   10.100000\n",
       "50%    6.537000e+03  7.472240e+05  4.301700e+04   101.420000   19.530000\n",
       "75%    4.427200e+04  5.620142e+06  3.010960e+05   269.800000   33.670000\n",
       "max    2.589664e+07  4.243811e+08  3.731913e+07  9270.040000  143.330000"
      ],
      "text/html": "<div>\n<style scoped>\n    .dataframe tbody tr th:only-of-type {\n        vertical-align: middle;\n    }\n\n    .dataframe tbody tr th {\n        vertical-align: top;\n    }\n\n    .dataframe thead th {\n        text-align: right;\n    }\n</style>\n<table border=\"1\" class=\"dataframe\">\n  <thead>\n    <tr style=\"text-align: right;\">\n      <th></th>\n      <th>买家数</th>\n      <th>成交金额</th>\n      <th>搜索人数</th>\n      <th>客单价</th>\n      <th>UV价值</th>\n    </tr>\n  </thead>\n  <tbody>\n    <tr>\n      <th>count</th>\n      <td>2.130000e+02</td>\n      <td>2.130000e+02</td>\n      <td>2.130000e+02</td>\n      <td>213.000000</td>\n      <td>213.000000</td>\n    </tr>\n    <tr>\n      <th>mean</th>\n      <td>3.374902e+05</td>\n      <td>1.173869e+07</td>\n      <td>6.858630e+05</td>\n      <td>339.510516</td>\n      <td>28.479108</td>\n    </tr>\n    <tr>\n      <th>std</th>\n      <td>2.173648e+06</td>\n      <td>4.121709e+07</td>\n      <td>3.177737e+06</td>\n      <td>880.309259</td>\n      <td>28.029166</td>\n    </tr>\n    <tr>\n      <th>min</th>\n      <td>0.000000e+00</td>\n      <td>0.000000e+00</td>\n      <td>1.600000e+01</td>\n      <td>0.000000</td>\n      <td>0.000000</td>\n    </tr>\n    <tr>\n      <th>25%</th>\n      <td>1.295000e+03</td>\n      <td>1.265170e+05</td>\n      <td>9.378000e+03</td>\n      <td>50.390000</td>\n      <td>10.100000</td>\n    </tr>\n    <tr>\n      <th>50%</th>\n      <td>6.537000e+03</td>\n      <td>7.472240e+05</td>\n      <td>4.301700e+04</td>\n      <td>101.420000</td>\n      <td>19.530000</td>\n    </tr>\n    <tr>\n      <th>75%</th>\n      <td>4.427200e+04</td>\n      <td>5.620142e+06</td>\n      <td>3.010960e+05</td>\n      <td>269.800000</td>\n      <td>33.670000</td>\n    </tr>\n    <tr>\n      <th>max</th>\n      <td>2.589664e+07</td>\n      <td>4.243811e+08</td>\n      <td>3.731913e+07</td>\n      <td>9270.040000</td>\n      <td>143.330000</td>\n    </tr>\n  </tbody>\n</table>\n</div>"
     },
     "metadata": {},
     "execution_count": 22
    }
   ],
   "source": [
    "import pandas as pd\n",
    "\n",
    "df=pd.read_csv(\"./data/3C数码1810.csv\")\n",
    "# df=pd.read_csv(\"./data/3C数码1710.csv\",index_col=\"日期\",parse_dates=True)\n",
    "# df.info()\n",
    "# print(\"成交金额\"+df[\"成交金额\"].sum())\n",
    "# df['result']=df[\"成交金额\"]/df[\"成交金额\"].sum()\n",
    "\n",
    "df.describe()\n",
    "\n",
    "# print(df[\"买家数\"].sum())\n",
    "# df['result2']=df[\"买家数\"]/df[\"买家数\"].sum()\n",
    "\n",
    "# print(424381111/2500340661)    \n",
    "# print(25896640/71885408)\n",
    "# df\n"
   ]
  },
  {
   "cell_type": "code",
   "execution_count": null,
   "metadata": {},
   "outputs": [],
   "source": []
  },
  {
   "cell_type": "code",
   "execution_count": 4,
   "metadata": {},
   "outputs": [
    {
     "output_type": "execute_result",
     "data": {
      "text/plain": [
       "                        日期       类目名称       买家数       成交金额      搜索人数  成交金额占比  \\\n",
       "0    2017-10-01|2017-10-31    手机保护套/壳  27524495  503205377  82138973  38.16%   \n",
       "1    2017-10-01|2017-10-31       手机贴膜  18384095  190704104  26656100  11.79%   \n",
       "2    2017-10-01|2017-10-31      手机零部件   2125787  189281648  15767938  11.72%   \n",
       "3    2017-10-01|2017-10-31       移动电源   2801112  188888518  14276910  11.70%   \n",
       "4    2017-10-01|2017-10-31      手机数据线   4178627  153248705  10788473   8.04%   \n",
       "..                     ...        ...       ...        ...       ...     ...   \n",
       "208  2017-10-01|2017-10-31  MP3/MP4支架        55       4751      2733       -   \n",
       "209  2017-10-01|2017-10-31    Lomo闪光灯         1       4275        57       -   \n",
       "210  2017-10-01|2017-10-31       苹果卡贴         1        201       685       -   \n",
       "211  2017-10-01|2017-10-31        分压盒        10        198       682       -   \n",
       "212  2017-10-01|2017-10-31    Lomo潜水盒         0         16         1       -   \n",
       "\n",
       "      成交金额同比  成交人数占比   成交人数同比      客单价   UV价值        开始日期        结束日期  \n",
       "0     70.34%  52.07%   11.20%    18.28   6.13  2017-10-01  2017-10-31  \n",
       "1     28.26%  25.05%   16.74%    10.37   7.15  2017-10-01  2017-10-31  \n",
       "2     12.75%   5.28%   11.70%    89.04  12.00  2017-10-01  2017-10-31  \n",
       "3     27.56%   7.22%   11.89%    67.43  13.23  2017-10-01  2017-10-31  \n",
       "4     68.09%  11.07%   22.33%    36.67  14.20  2017-10-01  2017-10-31  \n",
       "..       ...     ...      ...      ...    ...         ...         ...  \n",
       "208  -43.97%       -  -32.18%    86.38   1.74  2017-10-01  2017-10-31  \n",
       "209        -       -        -  4275.00  75.00  2017-10-01  2017-10-31  \n",
       "210  -91.10%       -  -68.02%   201.00   0.29  2017-10-01  2017-10-31  \n",
       "211  -50.34%       -  303.66%    19.80   0.29  2017-10-01  2017-10-31  \n",
       "212        -       -        -     0.00  16.00  2017-10-01  2017-10-31  \n",
       "\n",
       "[213 rows x 13 columns]"
      ],
      "text/html": "<div>\n<style scoped>\n    .dataframe tbody tr th:only-of-type {\n        vertical-align: middle;\n    }\n\n    .dataframe tbody tr th {\n        vertical-align: top;\n    }\n\n    .dataframe thead th {\n        text-align: right;\n    }\n</style>\n<table border=\"1\" class=\"dataframe\">\n  <thead>\n    <tr style=\"text-align: right;\">\n      <th></th>\n      <th>日期</th>\n      <th>类目名称</th>\n      <th>买家数</th>\n      <th>成交金额</th>\n      <th>搜索人数</th>\n      <th>成交金额占比</th>\n      <th>成交金额同比</th>\n      <th>成交人数占比</th>\n      <th>成交人数同比</th>\n      <th>客单价</th>\n      <th>UV价值</th>\n      <th>开始日期</th>\n      <th>结束日期</th>\n    </tr>\n  </thead>\n  <tbody>\n    <tr>\n      <th>0</th>\n      <td>2017-10-01|2017-10-31</td>\n      <td>手机保护套/壳</td>\n      <td>27524495</td>\n      <td>503205377</td>\n      <td>82138973</td>\n      <td>38.16%</td>\n      <td>70.34%</td>\n      <td>52.07%</td>\n      <td>11.20%</td>\n      <td>18.28</td>\n      <td>6.13</td>\n      <td>2017-10-01</td>\n      <td>2017-10-31</td>\n    </tr>\n    <tr>\n      <th>1</th>\n      <td>2017-10-01|2017-10-31</td>\n      <td>手机贴膜</td>\n      <td>18384095</td>\n      <td>190704104</td>\n      <td>26656100</td>\n      <td>11.79%</td>\n      <td>28.26%</td>\n      <td>25.05%</td>\n      <td>16.74%</td>\n      <td>10.37</td>\n      <td>7.15</td>\n      <td>2017-10-01</td>\n      <td>2017-10-31</td>\n    </tr>\n    <tr>\n      <th>2</th>\n      <td>2017-10-01|2017-10-31</td>\n      <td>手机零部件</td>\n      <td>2125787</td>\n      <td>189281648</td>\n      <td>15767938</td>\n      <td>11.72%</td>\n      <td>12.75%</td>\n      <td>5.28%</td>\n      <td>11.70%</td>\n      <td>89.04</td>\n      <td>12.00</td>\n      <td>2017-10-01</td>\n      <td>2017-10-31</td>\n    </tr>\n    <tr>\n      <th>3</th>\n      <td>2017-10-01|2017-10-31</td>\n      <td>移动电源</td>\n      <td>2801112</td>\n      <td>188888518</td>\n      <td>14276910</td>\n      <td>11.70%</td>\n      <td>27.56%</td>\n      <td>7.22%</td>\n      <td>11.89%</td>\n      <td>67.43</td>\n      <td>13.23</td>\n      <td>2017-10-01</td>\n      <td>2017-10-31</td>\n    </tr>\n    <tr>\n      <th>4</th>\n      <td>2017-10-01|2017-10-31</td>\n      <td>手机数据线</td>\n      <td>4178627</td>\n      <td>153248705</td>\n      <td>10788473</td>\n      <td>8.04%</td>\n      <td>68.09%</td>\n      <td>11.07%</td>\n      <td>22.33%</td>\n      <td>36.67</td>\n      <td>14.20</td>\n      <td>2017-10-01</td>\n      <td>2017-10-31</td>\n    </tr>\n    <tr>\n      <th>...</th>\n      <td>...</td>\n      <td>...</td>\n      <td>...</td>\n      <td>...</td>\n      <td>...</td>\n      <td>...</td>\n      <td>...</td>\n      <td>...</td>\n      <td>...</td>\n      <td>...</td>\n      <td>...</td>\n      <td>...</td>\n      <td>...</td>\n    </tr>\n    <tr>\n      <th>208</th>\n      <td>2017-10-01|2017-10-31</td>\n      <td>MP3/MP4支架</td>\n      <td>55</td>\n      <td>4751</td>\n      <td>2733</td>\n      <td>-</td>\n      <td>-43.97%</td>\n      <td>-</td>\n      <td>-32.18%</td>\n      <td>86.38</td>\n      <td>1.74</td>\n      <td>2017-10-01</td>\n      <td>2017-10-31</td>\n    </tr>\n    <tr>\n      <th>209</th>\n      <td>2017-10-01|2017-10-31</td>\n      <td>Lomo闪光灯</td>\n      <td>1</td>\n      <td>4275</td>\n      <td>57</td>\n      <td>-</td>\n      <td>-</td>\n      <td>-</td>\n      <td>-</td>\n      <td>4275.00</td>\n      <td>75.00</td>\n      <td>2017-10-01</td>\n      <td>2017-10-31</td>\n    </tr>\n    <tr>\n      <th>210</th>\n      <td>2017-10-01|2017-10-31</td>\n      <td>苹果卡贴</td>\n      <td>1</td>\n      <td>201</td>\n      <td>685</td>\n      <td>-</td>\n      <td>-91.10%</td>\n      <td>-</td>\n      <td>-68.02%</td>\n      <td>201.00</td>\n      <td>0.29</td>\n      <td>2017-10-01</td>\n      <td>2017-10-31</td>\n    </tr>\n    <tr>\n      <th>211</th>\n      <td>2017-10-01|2017-10-31</td>\n      <td>分压盒</td>\n      <td>10</td>\n      <td>198</td>\n      <td>682</td>\n      <td>-</td>\n      <td>-50.34%</td>\n      <td>-</td>\n      <td>303.66%</td>\n      <td>19.80</td>\n      <td>0.29</td>\n      <td>2017-10-01</td>\n      <td>2017-10-31</td>\n    </tr>\n    <tr>\n      <th>212</th>\n      <td>2017-10-01|2017-10-31</td>\n      <td>Lomo潜水盒</td>\n      <td>0</td>\n      <td>16</td>\n      <td>1</td>\n      <td>-</td>\n      <td>-</td>\n      <td>-</td>\n      <td>-</td>\n      <td>0.00</td>\n      <td>16.00</td>\n      <td>2017-10-01</td>\n      <td>2017-10-31</td>\n    </tr>\n  </tbody>\n</table>\n<p>213 rows × 13 columns</p>\n</div>"
     },
     "metadata": {},
     "execution_count": 4
    }
   ],
   "source": [
    "df['开始日期']=df['日期'].apply(lambda x: x.split('|')[0])\n",
    "df['结束日期']=df['日期'].apply(lambda x: x.split('|')[1])\n",
    "df"
   ]
  },
  {
   "source": [
    "清洗数据，分离日期字段，分成了2个字段，同时把日期设置为index\n"
   ],
   "cell_type": "markdown",
   "metadata": {}
  },
  {
   "cell_type": "code",
   "execution_count": null,
   "metadata": {},
   "outputs": [],
   "source": []
  },
  {
   "cell_type": "code",
   "execution_count": null,
   "metadata": {},
   "outputs": [],
   "source": [
    "new_date=df['日期'].str.split(\"|\", n = 1, expand = True) \n",
    "df['开始日期']=new_date[0]\n",
    "df['结束日期']=new_date[1]\n",
    "df['开始日期']=pd.to_datetime(df['开始日期'].astype(str),format='%Y-%m-%d')\n",
    "df['结束日期']=pd.to_datetime(df['结束日期'].astype(str),format='%Y-%m-%d')\n",
    "del df['日期'] \n",
    "df.set_index(df['开始日期'])\n"
   ]
  },
  {
   "source": [
    "### 查看是否有重复的行数据？"
   ],
   "cell_type": "markdown",
   "metadata": {}
  },
  {
   "cell_type": "code",
   "execution_count": null,
   "metadata": {},
   "outputs": [],
   "source": [
    "len(df.类目名称.unique())"
   ]
  },
  {
   "source": [
    "draw a plot"
   ],
   "cell_type": "markdown",
   "metadata": {}
  },
  {
   "cell_type": "code",
   "execution_count": null,
   "metadata": {},
   "outputs": [],
   "source": [
    "df.买家数.hist(bins=20)\n",
    "df.head(10).boxplot(column=\"买家数\",by=\"类目名称\",figsize=(9,7))\n"
   ]
  },
  {
   "cell_type": "code",
   "execution_count": null,
   "metadata": {},
   "outputs": [],
   "source": [
    "\n",
    "\n",
    "from pyecharts.faker import Faker\n",
    "# print(Faker.choose())\n",
    "# print(Faker.values())\n",
    "# print(zip(Faker.choose(), Faker.values()))\n",
    "result=[list(z) for z in zip(Faker.choose(), Faker.values())]\n",
    "result"
   ]
  },
  {
   "cell_type": "code",
   "execution_count": null,
   "metadata": {},
   "outputs": [],
   "source": [
    "\n",
    "df['hello']=round(df.成交金额/df.成交金额.sum(),2,)*100\n",
    "df['world']=round(df.买家数/df.买家数.sum(),2,)*100\n",
    "df['world1']=df.成交金额/df.成交金额.sum()*100\n",
    "# df['hello1']='{:.2f}%'.format(df.成交金额/df.成交金额.sum()*100)\n",
    "df"
   ]
  },
  {
   "cell_type": "code",
   "execution_count": null,
   "metadata": {},
   "outputs": [],
   "source": [
    "df.loc[:,['类目名称','成交金额']].values.tolist()\n",
    "df.loc[:,['类目名称','成交金额']].values.tolist()"
   ]
  },
  {
   "cell_type": "code",
   "execution_count": null,
   "metadata": {},
   "outputs": [],
   "source": [
    "from pyecharts import options as opts\n",
    "from pyecharts.charts import Page, Pie\n",
    "\n",
    "\n",
    "pie=(\n",
    "        Pie()\n",
    "        .add(\"\",df.loc[:,['类目名称','成交金额']].head(10).values.tolist())\n",
    "        .set_global_opts(title_opts=opts.TitleOpts(title=\"Pie-基本示例\"))\n",
    "        .set_series_opts(label_opts=opts.LabelOpts(formatter=\"{b}: {c}\"))\n",
    "        )\n",
    "\n",
    "pie.render_notebook()\n"
   ]
  },
  {
   "cell_type": "code",
   "execution_count": null,
   "metadata": {},
   "outputs": [],
   "source": [
    "from pyecharts.charts import Pie\n",
    " \n",
    " \n",
    "attr = [\"衬衫\", \"羊毛衫\", \"雪纺衫\", \"裤子\", \"高跟鞋\", \"袜子\"]\n",
    "v1 = [11, 12, 13, 10, 10, 10]\n",
    "pie = Pie(\"饼图示例\")\n",
    "pie.add(\n",
    "    \"\",\n",
    "    attr,\n",
    "    v1,\n",
    "    is_label_show=True,\n",
    "    is_more_utils=True\n",
    ")\n",
    "pie.render_notebook()"
   ]
  },
  {
   "cell_type": "code",
   "execution_count": null,
   "metadata": {},
   "outputs": [],
   "source": [
    "df.类目名称.value_counts()"
   ]
  },
  {
   "cell_type": "code",
   "execution_count": null,
   "metadata": {},
   "outputs": [],
   "source": [
    "import pandas as pd\n",
    "\n",
    "df1711=pd.read_csv(\"./data/3C数码1711.csv\")\n",
    "df1711.类目名称.value_counts()"
   ]
  },
  {
   "source": [
    "折线图echarts 例子"
   ],
   "cell_type": "markdown",
   "metadata": {}
  },
  {
   "cell_type": "code",
   "execution_count": null,
   "metadata": {},
   "outputs": [],
   "source": [
    "x_data = [\"Mon\", \"Tue\", \"Wed\", \"Thu\", \"Fri\", \"Sat\", \"Sun\"]\n",
    "y_data = [820, 932, 901, 934, 1290, 1330, 1320]\n",
    "y1_data = [824, 922, 932, 954, 390,  330, 2320]\n",
    "from pyecharts import options as opts\n",
    "from pyecharts.charts import Line\n",
    "\n",
    "(\n",
    "    Line()\n",
    "    .set_global_opts(\n",
    "        tooltip_opts=opts.TooltipOpts(is_show=False),\n",
    "        xaxis_opts=opts.AxisOpts(type_=\"category\"),\n",
    "        yaxis_opts=opts.AxisOpts(\n",
    "            type_=\"value\",\n",
    "            axistick_opts=opts.AxisTickOpts(is_show=True),\n",
    "            splitline_opts=opts.SplitLineOpts(is_show=True),\n",
    "        ),\n",
    "    )\n",
    "    .add_xaxis(xaxis_data=x_data)\n",
    "    .add_yaxis(\n",
    "        series_name=\"A\",\n",
    "        y_axis=y_data,\n",
    "        symbol=\"emptyCircle1\",\n",
    "        is_symbol_show=True,\n",
    "        label_opts=opts.LabelOpts(is_show=False),\n",
    "    )\n",
    "    .add_yaxis(\n",
    "        series_name=\"B\",\n",
    "        y_axis=y1_data,\n",
    "        symbol=\"emptyCircle2\",\n",
    "        is_symbol_show=True,\n",
    "        label_opts=opts.LabelOpts(is_show=False),\n",
    "    )\n",
    "    .render_notebook()\n",
    ")\n",
    "\n"
   ]
  },
  {
   "cell_type": "code",
   "execution_count": null,
   "metadata": {},
   "outputs": [],
   "source": []
  }
 ]
}