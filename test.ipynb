{
 "cells": [
  {
   "cell_type": "code",
   "execution_count": 18,
   "metadata": {
    "code_folding": []
   },
   "outputs": [
    {
     "output_type": "execute_result",
     "data": {
      "text/plain": [
       "<pyecharts.render.display.HTML at 0x1148e55b0>"
      ],
      "text/html": "\n<script>\n    require.config({\n        paths: {\n            'echarts':'https://assets.pyecharts.org/assets/echarts.min'\n        }\n    });\n</script>\n\n        <div id=\"75a4ff273e384ee5bd3073b0d55a8589\" style=\"width:900px; height:500px;\"></div>\n\n<script>\n        require(['echarts'], function(echarts) {\n                var chart_75a4ff273e384ee5bd3073b0d55a8589 = echarts.init(\n                    document.getElementById('75a4ff273e384ee5bd3073b0d55a8589'), 'light', {renderer: 'canvas'});\n                var option_75a4ff273e384ee5bd3073b0d55a8589 = {\n    \"animation\": true,\n    \"animationThreshold\": 2000,\n    \"animationDuration\": 1000,\n    \"animationEasing\": \"cubicOut\",\n    \"animationDelay\": 0,\n    \"animationDurationUpdate\": 300,\n    \"animationEasingUpdate\": \"cubicOut\",\n    \"animationDelayUpdate\": 0,\n    \"series\": [\n        {\n            \"type\": \"scatter\",\n            \"name\": \"\\u6570\\u636e1\",\n            \"symbolSize\": 10,\n            \"data\": [\n                [\n                    \"\\u5468\\u4e00\",\n                    12,\n                    4\n                ],\n                [\n                    \"\\u5468\\u4e8c\",\n                    2,\n                    5\n                ],\n                [\n                    \"\\u5468\\u4e09\",\n                    2,\n                    6\n                ],\n                [\n                    \"\\u5468\\u56db\",\n                    3,\n                    15\n                ],\n                [\n                    \"\\u5468\\u4e94\",\n                    3,\n                    6\n                ]\n            ],\n            \"label\": {\n                \"show\": true,\n                \"position\": \"right\",\n                \"margin\": 8\n            }\n        },\n        {\n            \"type\": \"scatter\",\n            \"name\": \"\\u6570\\u636e2\",\n            \"symbolSize\": 10,\n            \"data\": [\n                [\n                    \"\\u5468\\u4e00\",\n                    8,\n                    2\n                ],\n                [\n                    \"\\u5468\\u4e8c\",\n                    28,\n                    4\n                ],\n                [\n                    \"\\u5468\\u4e09\",\n                    18,\n                    6\n                ],\n                [\n                    \"\\u5468\\u56db\",\n                    8,\n                    61\n                ],\n                [\n                    \"\\u5468\\u4e94\",\n                    7,\n                    2\n                ]\n            ],\n            \"label\": {\n                \"show\": true,\n                \"position\": \"right\",\n                \"margin\": 8\n            }\n        }\n    ],\n    \"legend\": [\n        {\n            \"data\": [\n                \"\\u6570\\u636e1\",\n                \"\\u6570\\u636e2\"\n            ],\n            \"selected\": {\n                \"\\u6570\\u636e1\": true,\n                \"\\u6570\\u636e2\": true\n            },\n            \"show\": true,\n            \"padding\": 5,\n            \"itemGap\": 10,\n            \"itemWidth\": 25,\n            \"itemHeight\": 14\n        }\n    ],\n    \"tooltip\": {\n        \"show\": true,\n        \"trigger\": \"item\",\n        \"triggerOn\": \"mousemove|click\",\n        \"axisPointer\": {\n            \"type\": \"line\"\n        },\n        \"showContent\": true,\n        \"alwaysShowContent\": false,\n        \"showDelay\": 0,\n        \"hideDelay\": 100,\n        \"textStyle\": {\n            \"fontSize\": 14\n        },\n        \"borderWidth\": 0,\n        \"padding\": 5\n    },\n    \"xAxis\": [\n        {\n            \"show\": true,\n            \"scale\": false,\n            \"nameLocation\": \"end\",\n            \"nameGap\": 15,\n            \"gridIndex\": 0,\n            \"inverse\": false,\n            \"offset\": 0,\n            \"splitNumber\": 5,\n            \"minInterval\": 0,\n            \"splitLine\": {\n                \"show\": false,\n                \"lineStyle\": {\n                    \"show\": true,\n                    \"width\": 1,\n                    \"opacity\": 1,\n                    \"curveness\": 0,\n                    \"type\": \"solid\"\n                }\n            },\n            \"data\": [\n                \"\\u5468\\u4e00\",\n                \"\\u5468\\u4e8c\",\n                \"\\u5468\\u4e09\",\n                \"\\u5468\\u56db\",\n                \"\\u5468\\u4e94\",\n                \"\\u5468\\u516d\",\n                \"\\u5468\\u65e5\"\n            ]\n        }\n    ],\n    \"yAxis\": [\n        {\n            \"show\": true,\n            \"scale\": false,\n            \"nameLocation\": \"end\",\n            \"nameGap\": 15,\n            \"gridIndex\": 0,\n            \"inverse\": false,\n            \"offset\": 0,\n            \"splitNumber\": 5,\n            \"minInterval\": 0,\n            \"splitLine\": {\n                \"show\": false,\n                \"lineStyle\": {\n                    \"show\": true,\n                    \"width\": 1,\n                    \"opacity\": 1,\n                    \"curveness\": 0,\n                    \"type\": \"solid\"\n                }\n            }\n        }\n    ],\n    \"title\": [\n        {\n            \"text\": \"\\u4f8b1 scatter\\u81ea\\u5b9a\\u4e49\\u6570\\u636e\\u57fa\\u672c\\u793a\\u4f8b\",\n            \"padding\": 5,\n            \"itemGap\": 10\n        }\n    ]\n};\n                chart_75a4ff273e384ee5bd3073b0d55a8589.setOption(option_75a4ff273e384ee5bd3073b0d55a8589);\n        });\n    </script>\n"
     },
     "metadata": {},
     "execution_count": 18
    }
   ],
   "source": [
    "from pyecharts.faker import Faker\n",
    "# from pyecharts import configure\n",
    "# configure(global_theme=\"vintage\")\n",
    "from pyecharts.globals import ThemeType\n",
    "from pyecharts import options as opts\n",
    "from pyecharts.charts import Scatter # 导入散点图绘制模块\n",
    "from pyecharts.commons.utils import JsCode\n",
    " \n",
    "# 例1 自定义数据基本示例\n",
    "y1=[[12,4],[2,5],[2,6],[3,15],[3,6]]\n",
    "y2=[[8,2],[28,4],[18,6],[8,61],[7,2]]\n",
    "scatter1=(\n",
    "    Scatter(init_opts=opts.InitOpts(theme=ThemeType.PURPLE_PASSION))\n",
    "    # Scatter()\n",
    "    .add_xaxis(Faker.choose())\n",
    "    .add_yaxis('数据1',y1)\n",
    "    .add_yaxis('数据2',y2)\n",
    "    .set_global_opts(title_opts=opts.TitleOpts(title='例1 scatter自定义数据基本示例'))\n",
    ")\n",
    "scatter1.render_notebook()"
   ]
  },
  {
   "cell_type": "code",
   "execution_count": null,
   "metadata": {},
   "outputs": [],
   "source": []
  },
  {
   "cell_type": "code",
   "execution_count": null,
   "metadata": {},
   "outputs": [],
   "source": [
    "import pandas as pd\n",
    "df = pd.DataFrame([[5.1, 3.5, 0], [4.9, 3.0, 0], [7.0, 3.2, 1],\n",
    "                   [6.4, 3.2, 1], [5.9, 3.0, 2]],\n",
    "                  columns=['length', 'width', 'species'])\n",
    "ax1 = df.plot.scatter(x='length',\n",
    "                      y='width',\n",
    "                      c='DarkBlue')"
   ]
  },
  {
   "cell_type": "code",
   "execution_count": null,
   "metadata": {},
   "outputs": [],
   "source": [
    "import pandas as pd\n",
    "\n",
    "df=pd.read_csv(\"./data/3C数码1810.csv\")\n",
    "# df=pd.read_csv(\"./data/3C数码1710.csv\",index_col=\"日期\",parse_dates=True)\n",
    "# df.info()\n",
    "# print(\"成交金额\"+df[\"成交金额\"].sum())\n",
    "# df['result']=df[\"成交金额\"]/df[\"成交金额\"].sum()\n",
    "\n",
    "df.describe()\n",
    "\n",
    "# print(df[\"买家数\"].sum())\n",
    "# df['result2']=df[\"买家数\"]/df[\"买家数\"].sum()\n",
    "\n",
    "# print(424381111/2500340661)    \n",
    "# print(25896640/71885408)\n",
    "# df\n"
   ]
  },
  {
   "cell_type": "code",
   "execution_count": null,
   "metadata": {},
   "outputs": [],
   "source": []
  },
  {
   "cell_type": "code",
   "execution_count": null,
   "metadata": {},
   "outputs": [],
   "source": [
    "df['开始日期']=df['日期'].apply(lambda x: x.split('|')[0])\n",
    "df['结束日期']=df['日期'].apply(lambda x: x.split('|')[1])\n",
    "df"
   ]
  },
  {
   "cell_type": "markdown",
   "metadata": {},
   "source": [
    "清洗数据，分离日期字段，分成了2个字段，同时把日期设置为index\n"
   ]
  },
  {
   "cell_type": "code",
   "execution_count": null,
   "metadata": {},
   "outputs": [],
   "source": []
  },
  {
   "cell_type": "code",
   "execution_count": null,
   "metadata": {},
   "outputs": [],
   "source": [
    "new_date=df['日期'].str.split(\"|\", n = 1, expand = True) \n",
    "df['开始日期']=new_date[0]\n",
    "df['结束日期']=new_date[1]\n",
    "df['开始日期']=pd.to_datetime(df['开始日期'].astype(str),format='%Y-%m-%d')\n",
    "df['结束日期']=pd.to_datetime(df['结束日期'].astype(str),format='%Y-%m-%d')\n",
    "del df['日期'] \n",
    "df.set_index(df['开始日期'])\n"
   ]
  },
  {
   "cell_type": "markdown",
   "metadata": {},
   "source": [
    "### 查看是否有重复的行数据？"
   ]
  },
  {
   "cell_type": "code",
   "execution_count": null,
   "metadata": {},
   "outputs": [],
   "source": [
    "len(df.类目名称.unique())"
   ]
  },
  {
   "cell_type": "markdown",
   "metadata": {},
   "source": [
    "draw a plot"
   ]
  },
  {
   "cell_type": "code",
   "execution_count": null,
   "metadata": {},
   "outputs": [],
   "source": [
    "df.买家数.hist(bins=20)\n",
    "df.head(10).boxplot(column=\"买家数\",by=\"类目名称\",figsize=(9,7))\n"
   ]
  },
  {
   "cell_type": "code",
   "execution_count": null,
   "metadata": {},
   "outputs": [],
   "source": [
    "\n",
    "\n",
    "from pyecharts.faker import Faker\n",
    "# print(Faker.choose())\n",
    "# print(Faker.values())\n",
    "# print(zip(Faker.choose(), Faker.values()))\n",
    "result=[list(z) for z in zip(Faker.choose(), Faker.values())]\n",
    "result"
   ]
  },
  {
   "cell_type": "code",
   "execution_count": null,
   "metadata": {},
   "outputs": [],
   "source": [
    "\n",
    "df['hello']=round(df.成交金额/df.成交金额.sum(),2,)*100\n",
    "df['world']=round(df.买家数/df.买家数.sum(),2,)*100\n",
    "df['world1']=df.成交金额/df.成交金额.sum()*100\n",
    "# df['hello1']='{:.2f}%'.format(df.成交金额/df.成交金额.sum()*100)\n",
    "df"
   ]
  },
  {
   "cell_type": "code",
   "execution_count": null,
   "metadata": {},
   "outputs": [],
   "source": [
    "df.loc[:,['类目名称','成交金额']].values.tolist()\n",
    "df.loc[:,['类目名称','成交金额']].values.tolist()"
   ]
  },
  {
   "cell_type": "code",
   "execution_count": null,
   "metadata": {},
   "outputs": [],
   "source": [
    "from pyecharts import options as opts\n",
    "from pyecharts.charts import Page, Pie\n",
    "\n",
    "\n",
    "pie=(\n",
    "        Pie()\n",
    "        .add(\"\",df.loc[:,['类目名称','成交金额']].head(10).values.tolist())\n",
    "        .set_global_opts(title_opts=opts.TitleOpts(title=\"Pie-基本示例\"))\n",
    "        .set_series_opts(label_opts=opts.LabelOpts(formatter=\"{b}: {c}\"))\n",
    "        )\n",
    "\n",
    "pie.render_notebook()\n"
   ]
  },
  {
   "cell_type": "code",
   "execution_count": null,
   "metadata": {},
   "outputs": [],
   "source": [
    "from pyecharts.charts import Pie\n",
    " \n",
    " \n",
    "attr = [\"衬衫\", \"羊毛衫\", \"雪纺衫\", \"裤子\", \"高跟鞋\", \"袜子\"]\n",
    "v1 = [11, 12, 13, 10, 10, 10]\n",
    "pie = Pie(\"饼图示例\")\n",
    "pie.add(\n",
    "    \"\",\n",
    "    attr,\n",
    "    v1,\n",
    "    is_label_show=True,\n",
    "    is_more_utils=True\n",
    ")\n",
    "pie.render_notebook()"
   ]
  },
  {
   "cell_type": "code",
   "execution_count": null,
   "metadata": {},
   "outputs": [],
   "source": [
    "df.类目名称.value_counts()"
   ]
  },
  {
   "cell_type": "code",
   "execution_count": null,
   "metadata": {},
   "outputs": [],
   "source": [
    "import pandas as pd\n",
    "\n",
    "df1711=pd.read_csv(\"./data/3C数码1711.csv\")\n",
    "df1711.类目名称.value_counts()"
   ]
  },
  {
   "cell_type": "markdown",
   "metadata": {},
   "source": [
    "折线图echarts 例子"
   ]
  },
  {
   "cell_type": "code",
   "execution_count": null,
   "metadata": {},
   "outputs": [],
   "source": [
    "x_data = [\"Mon\", \"Tue\", \"Wed\", \"Thu\", \"Fri\", \"Sat\", \"Sun\"]\n",
    "y_data = [820, 932, 901, 934, 1290, 1330, 1320]\n",
    "y1_data = [824, 922, 932, 954, 390,  330, 2320]\n",
    "from pyecharts import options as opts\n",
    "from pyecharts.charts import Line\n",
    "\n",
    "(\n",
    "    Line()\n",
    "    .set_global_opts(\n",
    "        tooltip_opts=opts.TooltipOpts(is_show=False),\n",
    "        xaxis_opts=opts.AxisOpts(type_=\"category\"),\n",
    "        yaxis_opts=opts.AxisOpts(\n",
    "            type_=\"value\",\n",
    "            axistick_opts=opts.AxisTickOpts(is_show=True),\n",
    "            splitline_opts=opts.SplitLineOpts(is_show=True),\n",
    "        ),\n",
    "    )\n",
    "    .add_xaxis(xaxis_data=x_data)\n",
    "    .add_yaxis(\n",
    "        series_name=\"A\",\n",
    "        y_axis=y_data,\n",
    "        symbol=\"emptyCircle1\",\n",
    "        is_symbol_show=True,\n",
    "        label_opts=opts.LabelOpts(is_show=False),\n",
    "    )\n",
    "    .add_yaxis(\n",
    "        series_name=\"B\",\n",
    "        y_axis=y1_data,\n",
    "        symbol=\"emptyCircle2\",\n",
    "        is_symbol_show=True,\n",
    "        label_opts=opts.LabelOpts(is_show=False),\n",
    "    )\n",
    "    .render_notebook()\n",
    ")\n",
    "\n"
   ]
  },
  {
   "cell_type": "code",
   "execution_count": null,
   "metadata": {},
   "outputs": [],
   "source": []
  }
 ],
 "metadata": {
  "kernelspec": {
   "display_name": "Python 3",
   "language": "python",
   "name": "python3"
  },
  "language_info": {
   "codemirror_mode": {
    "name": "ipython",
    "version": 3
   },
   "file_extension": ".py",
   "mimetype": "text/x-python",
   "name": "python",
   "nbconvert_exporter": "python",
   "pygments_lexer": "ipython3",
   "version": "3.8.3-final"
  }
 },
 "nbformat": 4,
 "nbformat_minor": 2
}