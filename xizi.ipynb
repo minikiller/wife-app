{
 "metadata": {
  "language_info": {
   "codemirror_mode": {
    "name": "ipython",
    "version": 3
   },
   "file_extension": ".py",
   "mimetype": "text/x-python",
   "name": "python",
   "nbconvert_exporter": "python",
   "pygments_lexer": "ipython3",
   "version": "3.8.2-final"
  },
  "orig_nbformat": 2,
  "kernelspec": {
   "name": "Python 3.8.2 64-bit ('.venv')",
   "display_name": "Python 3.8.2 64-bit ('.venv')",
   "metadata": {
    "interpreter": {
     "hash": "464316baf197c21ac89ffac3a744d0a1ec66d33f8bd2ea140668348d53048685"
    }
   }
  }
 },
 "nbformat": 4,
 "nbformat_minor": 2,
 "cells": [
  {
   "cell_type": "code",
   "execution_count": 87,
   "metadata": {},
   "outputs": [],
   "source": [
    "import os\n",
    "import pandas as pd"
   ]
  },
  {
   "cell_type": "code",
   "execution_count": 88,
   "metadata": {},
   "outputs": [
    {
     "output_type": "execute_result",
     "data": {
      "text/plain": [
       "['3C数码1710.csv',\n",
       " '3c数码1711.csv',\n",
       " '3c数码1712.csv',\n",
       " '3c数码1801.csv',\n",
       " '3c数码1802.csv',\n",
       " '3c数码1803.csv',\n",
       " '3c数码1804.csv',\n",
       " '3c数码1805.csv',\n",
       " '3c数码1806.csv',\n",
       " '3c数码1807.csv',\n",
       " '3c数码1808.csv',\n",
       " '3c数码1809.csv',\n",
       " '3c数码1810.csv',\n",
       " '3c数码1811.csv',\n",
       " '3c数码1812.csv',\n",
       " '3c数码1901.csv',\n",
       " '3c数码1902.csv',\n",
       " '3c数码1903.csv',\n",
       " '3c数码1904.csv',\n",
       " '3c数码1905.csv',\n",
       " '3c数码1906.csv',\n",
       " '3c数码1907.csv',\n",
       " '3c数码1908.csv',\n",
       " '3c数码1909.csv',\n",
       " '3c数码1910.csv',\n",
       " '3c数码1911.csv',\n",
       " '3c数码1912.csv',\n",
       " '3c数码2001.csv',\n",
       " '3c数码2002.csv',\n",
       " '3c数码2003.csv',\n",
       " '3c数码2004.csv',\n",
       " '3c数码2005.csv',\n",
       " '3c数码2006.csv',\n",
       " '3c数码2007.csv',\n",
       " '3c数码2008.csv',\n",
       " '3c数码2009.csv']"
      ]
     },
     "metadata": {},
     "execution_count": 88
    }
   ],
   "source": [
    "excel_names=[]\n",
    "for excel_name in os.listdir(\"./data\"):\n",
    "    excel_names.append(excel_name)\n",
    "\n",
    "excel_names"
   ]
  },
  {
   "cell_type": "code",
   "execution_count": 89,
   "metadata": {},
   "outputs": [
    {
     "output_type": "stream",
     "name": "stdout",
     "text": [
      "<class 'pandas.core.frame.DataFrame'>\nInt64Index: 7850 entries, 0 to 233\nData columns (total 11 columns):\n #   Column  Non-Null Count  Dtype  \n---  ------  --------------  -----  \n 0   日期      7850 non-null   object \n 1   类目名称    7850 non-null   object \n 2   买家数     7850 non-null   int64  \n 3   成交金额    7850 non-null   int64  \n 4   搜索人数    7850 non-null   int64  \n 5   成交金额占比  7850 non-null   object \n 6   成交金额同比  7850 non-null   object \n 7   成交人数占比  7850 non-null   object \n 8   成交人数同比  7850 non-null   object \n 9   客单价     7850 non-null   float64\n 10  UV价值    7850 non-null   float64\ndtypes: float64(2), int64(3), object(6)\nmemory usage: 735.9+ KB\n"
     ]
    }
   ],
   "source": [
    "df_list=[]\n",
    "\n",
    "for excel_name in excel_names:\n",
    "    filename=\"./data/{}\".format(excel_name)\n",
    "    df=pd.read_csv(filename,sep=\",\")\n",
    "    df_list.append(df)\n",
    "df_merge=pd.concat(df_list)\n",
    "df_merge.info()\n",
    "# df_merge.head(10)"
   ]
  },
  {
   "cell_type": "code",
   "execution_count": 90,
   "metadata": {},
   "outputs": [
    {
     "output_type": "stream",
     "name": "stdout",
     "text": [
      "<class 'pandas.core.frame.DataFrame'>\nInt64Index: 7850 entries, 0 to 233\nData columns (total 13 columns):\n #   Column  Non-Null Count  Dtype         \n---  ------  --------------  -----         \n 0   日期      7850 non-null   object        \n 1   类目名称    7850 non-null   object        \n 2   买家数     7850 non-null   int64         \n 3   成交金额    7850 non-null   int64         \n 4   搜索人数    7850 non-null   int64         \n 5   成交金额占比  7850 non-null   object        \n 6   成交金额同比  7850 non-null   object        \n 7   成交人数占比  7850 non-null   object        \n 8   成交人数同比  7850 non-null   object        \n 9   客单价     7850 non-null   float64       \n 10  UV价值    7850 non-null   float64       \n 11  开始日期    7850 non-null   datetime64[ns]\n 12  结束日期    7850 non-null   datetime64[ns]\ndtypes: datetime64[ns](2), float64(2), int64(3), object(6)\nmemory usage: 858.6+ KB\n"
     ]
    }
   ],
   "source": [
    "new_date=df_merge['日期'].str.split(\"|\", n = 1, expand = True) \n",
    "df_merge['开始日期']=new_date[0]\n",
    "df_merge['结束日期']=new_date[1]\n",
    "df_merge['开始日期']=pd.to_datetime(df_merge['开始日期'].astype(str),format='%Y-%m-%d')\n",
    "df_merge['结束日期']=pd.to_datetime(df_merge['结束日期'].astype(str),format='%Y-%m-%d')\n",
    "# df_merge.head(10)\n",
    "df_merge.info()"
   ]
  },
  {
   "cell_type": "code",
   "execution_count": 91,
   "metadata": {},
   "outputs": [
    {
     "output_type": "stream",
     "name": "stdout",
     "text": [
      "<class 'pandas.core.frame.DataFrame'>\nInt64Index: 7850 entries, 0 to 233\nData columns (total 13 columns):\n #   Column  Non-Null Count  Dtype         \n---  ------  --------------  -----         \n 0   日期      7850 non-null   object        \n 1   类目名称    7850 non-null   object        \n 2   买家数     7850 non-null   int64         \n 3   成交金额    7850 non-null   int64         \n 4   搜索人数    7850 non-null   int64         \n 5   成交金额占比  7850 non-null   float64       \n 6   成交金额同比  7850 non-null   float64       \n 7   成交人数占比  7850 non-null   float64       \n 8   成交人数同比  7850 non-null   float64       \n 9   客单价     7850 non-null   float64       \n 10  UV价值    7850 non-null   float64       \n 11  开始日期    7850 non-null   datetime64[ns]\n 12  结束日期    7850 non-null   datetime64[ns]\ndtypes: datetime64[ns](2), float64(6), int64(3), object(2)\nmemory usage: 858.6+ KB\n"
     ]
    }
   ],
   "source": [
    "# df_merge[\"成交金额占比\"].str.contains(\"-\").count()\n",
    "# df_merge[\"成交金额占比\"]=df_merge[\"成交金额占比\"].str.replace(\"-\",\"0\")\n",
    "# df_merge[df_merge[\"成交金额占比\"]==\"-\"][\"成交金额占比\"].value_counts()\n",
    "# df_merge[df_merge[\"成交金额同比\"]==\"-\"][\"成交金额同比\"].value_counts()\n",
    "# df_merge[df_merge[\"成交人数占比\"]==\"-\"][\"成交人数占比\"].value_counts()\n",
    "# df_merge[df_merge[\"成交人数同比\"]==\"-\"][\"成交人数同比\"].value_counts()\n",
    "# df_merge[df_merge[\"成交金额占比\"]==\"-\"].value_counts()\n",
    "# df_flate=df_merge[df_merge[\"成交金额占比\"].str.contains(\"-\")]\n",
    "# df_flate.head(10)\n",
    "# column_list=['成交金额占比']\n",
    "column_list=['成交金额占比','成交金额同比','成交人数占比','成交人数同比']\n",
    "\n",
    "for column in column_list:\n",
    "    df_merge[column]=df_merge[column].replace(\"-\",\"0\") \n",
    "    df_merge[column]=df_merge[column].str.replace(\"%\",\"\") \n",
    "    df_merge[column]=df_merge[column].astype(\"float64\")\n",
    "\n",
    "\n",
    "# df_merge[\"成交金额占比\"]=df_merge[\"成交金额占比\"].replace(\"-\",\"0\") \n",
    "# # df_merge[df_merge[\"成交金额占比\"]==\"0\"][\"成交金额占比\"].value_counts()\n",
    "\n",
    "# df_merge[\"成交金额占比\"]=df_merge[\"成交金额占比\"].str.replace(\"%\",\"\") \n",
    "# df_merge[\"成交金额占比\"]=df_merge[\"成交金额占比\"].astype(\"float64\")\n",
    "# df_merge.head(10)\n",
    "df_merge.info()\n",
    "\n"
   ]
  },
  {
   "cell_type": "code",
   "execution_count": 92,
   "metadata": {},
   "outputs": [],
   "source": [
    "# df_merge[df_merge[\"成交金额占比\"]==0][\"成交金额占比\"].value_counts()"
   ]
  },
  {
   "cell_type": "code",
   "execution_count": 93,
   "metadata": {},
   "outputs": [
    {
     "output_type": "execute_result",
     "data": {
      "text/plain": [
       "USB碎纸机      36\n",
       "电池收纳盒       36\n",
       "电子书灯        36\n",
       "相机背带        36\n",
       "摄像机配件       36\n",
       "            ..\n",
       "耳机贴膜         7\n",
       "扫地机器人贴       7\n",
       "云台电池与充电器     6\n",
       "云台监视器        6\n",
       "智能音箱保护贴      2\n",
       "Name: 类目名称, Length: 234, dtype: int64"
      ]
     },
     "metadata": {},
     "execution_count": 93
    }
   ],
   "source": [
    "df_merge.类目名称.value_counts()"
   ]
  },
  {
   "cell_type": "code",
   "execution_count": 94,
   "metadata": {},
   "outputs": [
    {
     "output_type": "execute_result",
     "data": {
      "text/plain": [
       "                买家数          成交金额          搜索人数       成交金额占比       成交金额同比  \\\n",
       "count  7.850000e+03  7.850000e+03  7.850000e+03  7850.000000  7850.000000   \n",
       "mean   3.392833e+05  1.185596e+07  6.887382e+05     0.482842    64.997520   \n",
       "std    2.146265e+06  4.018051e+07  3.271004e+06     2.449970   461.691714   \n",
       "min    0.000000e+00  0.000000e+00  0.000000e+00     0.000000   -99.950000   \n",
       "25%    1.229250e+03  1.114842e+05  9.127000e+03     0.000000   -22.857500   \n",
       "50%    6.180000e+03  8.422605e+05  4.307200e+04     0.010000     7.910000   \n",
       "75%    4.429350e+04  5.753788e+06  2.907342e+05     0.050000    40.327500   \n",
       "max    2.752450e+07  5.032054e+08  8.213897e+07    38.160000  9999.990000   \n",
       "\n",
       "            成交人数占比       成交人数同比           客单价         UV价值  \n",
       "count  7850.000000  7850.000000   7850.000000  7850.000000  \n",
       "mean      0.683148    48.497801    350.829666    33.409064  \n",
       "std       4.285536   300.979927   1733.578405   110.888667  \n",
       "min       0.000000   -99.950000      0.000000     0.000000  \n",
       "25%       0.000000   -23.317500     51.520000    10.330000  \n",
       "50%       0.000000     4.025000    108.990000    19.940000  \n",
       "75%       0.030000    36.957500    273.765000    35.500000  \n",
       "max      62.010000  9999.990000  86194.000000  7590.750000  "
      ],
      "text/html": "<div>\n<style scoped>\n    .dataframe tbody tr th:only-of-type {\n        vertical-align: middle;\n    }\n\n    .dataframe tbody tr th {\n        vertical-align: top;\n    }\n\n    .dataframe thead th {\n        text-align: right;\n    }\n</style>\n<table border=\"1\" class=\"dataframe\">\n  <thead>\n    <tr style=\"text-align: right;\">\n      <th></th>\n      <th>买家数</th>\n      <th>成交金额</th>\n      <th>搜索人数</th>\n      <th>成交金额占比</th>\n      <th>成交金额同比</th>\n      <th>成交人数占比</th>\n      <th>成交人数同比</th>\n      <th>客单价</th>\n      <th>UV价值</th>\n    </tr>\n  </thead>\n  <tbody>\n    <tr>\n      <th>count</th>\n      <td>7.850000e+03</td>\n      <td>7.850000e+03</td>\n      <td>7.850000e+03</td>\n      <td>7850.000000</td>\n      <td>7850.000000</td>\n      <td>7850.000000</td>\n      <td>7850.000000</td>\n      <td>7850.000000</td>\n      <td>7850.000000</td>\n    </tr>\n    <tr>\n      <th>mean</th>\n      <td>3.392833e+05</td>\n      <td>1.185596e+07</td>\n      <td>6.887382e+05</td>\n      <td>0.482842</td>\n      <td>64.997520</td>\n      <td>0.683148</td>\n      <td>48.497801</td>\n      <td>350.829666</td>\n      <td>33.409064</td>\n    </tr>\n    <tr>\n      <th>std</th>\n      <td>2.146265e+06</td>\n      <td>4.018051e+07</td>\n      <td>3.271004e+06</td>\n      <td>2.449970</td>\n      <td>461.691714</td>\n      <td>4.285536</td>\n      <td>300.979927</td>\n      <td>1733.578405</td>\n      <td>110.888667</td>\n    </tr>\n    <tr>\n      <th>min</th>\n      <td>0.000000e+00</td>\n      <td>0.000000e+00</td>\n      <td>0.000000e+00</td>\n      <td>0.000000</td>\n      <td>-99.950000</td>\n      <td>0.000000</td>\n      <td>-99.950000</td>\n      <td>0.000000</td>\n      <td>0.000000</td>\n    </tr>\n    <tr>\n      <th>25%</th>\n      <td>1.229250e+03</td>\n      <td>1.114842e+05</td>\n      <td>9.127000e+03</td>\n      <td>0.000000</td>\n      <td>-22.857500</td>\n      <td>0.000000</td>\n      <td>-23.317500</td>\n      <td>51.520000</td>\n      <td>10.330000</td>\n    </tr>\n    <tr>\n      <th>50%</th>\n      <td>6.180000e+03</td>\n      <td>8.422605e+05</td>\n      <td>4.307200e+04</td>\n      <td>0.010000</td>\n      <td>7.910000</td>\n      <td>0.000000</td>\n      <td>4.025000</td>\n      <td>108.990000</td>\n      <td>19.940000</td>\n    </tr>\n    <tr>\n      <th>75%</th>\n      <td>4.429350e+04</td>\n      <td>5.753788e+06</td>\n      <td>2.907342e+05</td>\n      <td>0.050000</td>\n      <td>40.327500</td>\n      <td>0.030000</td>\n      <td>36.957500</td>\n      <td>273.765000</td>\n      <td>35.500000</td>\n    </tr>\n    <tr>\n      <th>max</th>\n      <td>2.752450e+07</td>\n      <td>5.032054e+08</td>\n      <td>8.213897e+07</td>\n      <td>38.160000</td>\n      <td>9999.990000</td>\n      <td>62.010000</td>\n      <td>9999.990000</td>\n      <td>86194.000000</td>\n      <td>7590.750000</td>\n    </tr>\n  </tbody>\n</table>\n</div>"
     },
     "metadata": {},
     "execution_count": 94
    }
   ],
   "source": [
    "df_merge.describe()"
   ]
  },
  {
   "cell_type": "code",
   "execution_count": 95,
   "metadata": {},
   "outputs": [
    {
     "output_type": "execute_result",
     "data": {
      "text/plain": [
       "                      日期       类目名称       买家数       成交金额      搜索人数  成交金额占比  \\\n",
       "0  2017-10-01|2017-10-31    手机保护套/壳  27524495  503205377  82138973   38.16   \n",
       "1  2017-10-01|2017-10-31       手机贴膜  18384095  190704104  26656100   11.79   \n",
       "2  2017-10-01|2017-10-31      手机零部件   2125787  189281648  15767938   11.72   \n",
       "3  2017-10-01|2017-10-31       移动电源   2801112  188888518  14276910   11.70   \n",
       "4  2017-10-01|2017-10-31      手机数据线   4178627  153248705  10788473    8.04   \n",
       "5  2017-10-01|2017-10-31     笔记本零部件    239344   86347867   1207958    2.96   \n",
       "6  2017-10-01|2017-10-31       手机电池    853572   78580857   3982661    2.83   \n",
       "7  2017-10-01|2017-10-31        数据线   3271462   78067182   7410391    2.83   \n",
       "8  2017-10-01|2017-10-31      手机充电器   1330220   77197180   4993601    2.83   \n",
       "9  2017-10-01|2017-10-31  平板电脑保护套/壳   1103338   70329290   3579853    2.25   \n",
       "\n",
       "   成交金额同比  成交人数占比  成交人数同比     客单价   UV价值       开始日期       结束日期  \n",
       "0   70.34   52.07   11.20   18.28   6.13 2017-10-01 2017-10-31  \n",
       "1   28.26   25.05   16.74   10.37   7.15 2017-10-01 2017-10-31  \n",
       "2   12.75    5.28   11.70   89.04  12.00 2017-10-01 2017-10-31  \n",
       "3   27.56    7.22   11.89   67.43  13.23 2017-10-01 2017-10-31  \n",
       "4   68.09   11.07   22.33   36.67  14.20 2017-10-01 2017-10-31  \n",
       "5   -2.50    0.21  -20.65  360.77  71.48 2017-10-01 2017-10-31  \n",
       "6   38.11    1.56   -0.59   92.06  19.73 2017-10-01 2017-10-31  \n",
       "7   42.05    7.77   27.82   23.86  10.53 2017-10-01 2017-10-31  \n",
       "8   32.60    2.82   11.09   58.03  15.46 2017-10-01 2017-10-31  \n",
       "9    0.04    2.14  -14.27   63.74  19.65 2017-10-01 2017-10-31  "
      ],
      "text/html": "<div>\n<style scoped>\n    .dataframe tbody tr th:only-of-type {\n        vertical-align: middle;\n    }\n\n    .dataframe tbody tr th {\n        vertical-align: top;\n    }\n\n    .dataframe thead th {\n        text-align: right;\n    }\n</style>\n<table border=\"1\" class=\"dataframe\">\n  <thead>\n    <tr style=\"text-align: right;\">\n      <th></th>\n      <th>日期</th>\n      <th>类目名称</th>\n      <th>买家数</th>\n      <th>成交金额</th>\n      <th>搜索人数</th>\n      <th>成交金额占比</th>\n      <th>成交金额同比</th>\n      <th>成交人数占比</th>\n      <th>成交人数同比</th>\n      <th>客单价</th>\n      <th>UV价值</th>\n      <th>开始日期</th>\n      <th>结束日期</th>\n    </tr>\n  </thead>\n  <tbody>\n    <tr>\n      <th>0</th>\n      <td>2017-10-01|2017-10-31</td>\n      <td>手机保护套/壳</td>\n      <td>27524495</td>\n      <td>503205377</td>\n      <td>82138973</td>\n      <td>38.16</td>\n      <td>70.34</td>\n      <td>52.07</td>\n      <td>11.20</td>\n      <td>18.28</td>\n      <td>6.13</td>\n      <td>2017-10-01</td>\n      <td>2017-10-31</td>\n    </tr>\n    <tr>\n      <th>1</th>\n      <td>2017-10-01|2017-10-31</td>\n      <td>手机贴膜</td>\n      <td>18384095</td>\n      <td>190704104</td>\n      <td>26656100</td>\n      <td>11.79</td>\n      <td>28.26</td>\n      <td>25.05</td>\n      <td>16.74</td>\n      <td>10.37</td>\n      <td>7.15</td>\n      <td>2017-10-01</td>\n      <td>2017-10-31</td>\n    </tr>\n    <tr>\n      <th>2</th>\n      <td>2017-10-01|2017-10-31</td>\n      <td>手机零部件</td>\n      <td>2125787</td>\n      <td>189281648</td>\n      <td>15767938</td>\n      <td>11.72</td>\n      <td>12.75</td>\n      <td>5.28</td>\n      <td>11.70</td>\n      <td>89.04</td>\n      <td>12.00</td>\n      <td>2017-10-01</td>\n      <td>2017-10-31</td>\n    </tr>\n    <tr>\n      <th>3</th>\n      <td>2017-10-01|2017-10-31</td>\n      <td>移动电源</td>\n      <td>2801112</td>\n      <td>188888518</td>\n      <td>14276910</td>\n      <td>11.70</td>\n      <td>27.56</td>\n      <td>7.22</td>\n      <td>11.89</td>\n      <td>67.43</td>\n      <td>13.23</td>\n      <td>2017-10-01</td>\n      <td>2017-10-31</td>\n    </tr>\n    <tr>\n      <th>4</th>\n      <td>2017-10-01|2017-10-31</td>\n      <td>手机数据线</td>\n      <td>4178627</td>\n      <td>153248705</td>\n      <td>10788473</td>\n      <td>8.04</td>\n      <td>68.09</td>\n      <td>11.07</td>\n      <td>22.33</td>\n      <td>36.67</td>\n      <td>14.20</td>\n      <td>2017-10-01</td>\n      <td>2017-10-31</td>\n    </tr>\n    <tr>\n      <th>5</th>\n      <td>2017-10-01|2017-10-31</td>\n      <td>笔记本零部件</td>\n      <td>239344</td>\n      <td>86347867</td>\n      <td>1207958</td>\n      <td>2.96</td>\n      <td>-2.50</td>\n      <td>0.21</td>\n      <td>-20.65</td>\n      <td>360.77</td>\n      <td>71.48</td>\n      <td>2017-10-01</td>\n      <td>2017-10-31</td>\n    </tr>\n    <tr>\n      <th>6</th>\n      <td>2017-10-01|2017-10-31</td>\n      <td>手机电池</td>\n      <td>853572</td>\n      <td>78580857</td>\n      <td>3982661</td>\n      <td>2.83</td>\n      <td>38.11</td>\n      <td>1.56</td>\n      <td>-0.59</td>\n      <td>92.06</td>\n      <td>19.73</td>\n      <td>2017-10-01</td>\n      <td>2017-10-31</td>\n    </tr>\n    <tr>\n      <th>7</th>\n      <td>2017-10-01|2017-10-31</td>\n      <td>数据线</td>\n      <td>3271462</td>\n      <td>78067182</td>\n      <td>7410391</td>\n      <td>2.83</td>\n      <td>42.05</td>\n      <td>7.77</td>\n      <td>27.82</td>\n      <td>23.86</td>\n      <td>10.53</td>\n      <td>2017-10-01</td>\n      <td>2017-10-31</td>\n    </tr>\n    <tr>\n      <th>8</th>\n      <td>2017-10-01|2017-10-31</td>\n      <td>手机充电器</td>\n      <td>1330220</td>\n      <td>77197180</td>\n      <td>4993601</td>\n      <td>2.83</td>\n      <td>32.60</td>\n      <td>2.82</td>\n      <td>11.09</td>\n      <td>58.03</td>\n      <td>15.46</td>\n      <td>2017-10-01</td>\n      <td>2017-10-31</td>\n    </tr>\n    <tr>\n      <th>9</th>\n      <td>2017-10-01|2017-10-31</td>\n      <td>平板电脑保护套/壳</td>\n      <td>1103338</td>\n      <td>70329290</td>\n      <td>3579853</td>\n      <td>2.25</td>\n      <td>0.04</td>\n      <td>2.14</td>\n      <td>-14.27</td>\n      <td>63.74</td>\n      <td>19.65</td>\n      <td>2017-10-01</td>\n      <td>2017-10-31</td>\n    </tr>\n  </tbody>\n</table>\n</div>"
     },
     "metadata": {},
     "execution_count": 95
    }
   ],
   "source": [
    "df_merge.head(10)"
   ]
  },
  {
   "cell_type": "code",
   "execution_count": 106,
   "metadata": {},
   "outputs": [
    {
     "output_type": "execute_result",
     "data": {
      "text/plain": [
       "Int64Index([10, 10, 10, 10, 10, 10, 10, 10, 10, 10,\n",
       "            ...\n",
       "             9,  9,  9,  9,  9,  9,  9,  9,  9,  9],\n",
       "           dtype='int64', name='开始日期', length=7850)"
      ]
     },
     "metadata": {},
     "execution_count": 106
    }
   ],
   "source": [
    "df_merge.set_index(df_merge['开始日期'],inplace=True)\n",
    "# df_merge.head(10)\n",
    "# df_merge.loc[\"2017-10-31\"].value_counts()\n",
    "df_merge.index.month"
   ]
  },
  {
   "cell_type": "code",
   "execution_count": 110,
   "metadata": {},
   "outputs": [
    {
     "output_type": "error",
     "ename": "ImportError",
     "evalue": "matplotlib is required for plotting when the default backend \"matplotlib\" is selected.",
     "traceback": [
      "\u001b[1;31m---------------------------------------------------------------------------\u001b[0m",
      "\u001b[1;31mImportError\u001b[0m                               Traceback (most recent call last)",
      "\u001b[1;32m<ipython-input-110-bf192217b511>\u001b[0m in \u001b[0;36m<module>\u001b[1;34m\u001b[0m\n\u001b[1;32m----> 1\u001b[1;33m \u001b[0mdf_merge\u001b[0m\u001b[1;33m.\u001b[0m\u001b[0mgroupby\u001b[0m\u001b[1;33m(\u001b[0m\u001b[0mdf_merge\u001b[0m\u001b[1;33m.\u001b[0m\u001b[0mindex\u001b[0m\u001b[1;33m.\u001b[0m\u001b[0mweek\u001b[0m\u001b[1;33m)\u001b[0m\u001b[1;33m[\u001b[0m\u001b[1;34m'买家数'\u001b[0m\u001b[1;33m]\u001b[0m\u001b[1;33m.\u001b[0m\u001b[0mmax\u001b[0m\u001b[1;33m(\u001b[0m\u001b[1;33m)\u001b[0m\u001b[1;33m.\u001b[0m\u001b[0mplot\u001b[0m\u001b[1;33m(\u001b[0m\u001b[1;33m)\u001b[0m\u001b[1;33m\u001b[0m\u001b[1;33m\u001b[0m\u001b[0m\n\u001b[0m",
      "\u001b[1;32md:\\python-project\\wife-app\\.venv\\lib\\site-packages\\pandas\\plotting\\_core.py\u001b[0m in \u001b[0;36m__call__\u001b[1;34m(self, *args, **kwargs)\u001b[0m\n\u001b[0;32m    867\u001b[0m \u001b[1;33m\u001b[0m\u001b[0m\n\u001b[0;32m    868\u001b[0m     \u001b[1;32mdef\u001b[0m \u001b[0m__call__\u001b[0m\u001b[1;33m(\u001b[0m\u001b[0mself\u001b[0m\u001b[1;33m,\u001b[0m \u001b[1;33m*\u001b[0m\u001b[0margs\u001b[0m\u001b[1;33m,\u001b[0m \u001b[1;33m**\u001b[0m\u001b[0mkwargs\u001b[0m\u001b[1;33m)\u001b[0m\u001b[1;33m:\u001b[0m\u001b[1;33m\u001b[0m\u001b[1;33m\u001b[0m\u001b[0m\n\u001b[1;32m--> 869\u001b[1;33m         \u001b[0mplot_backend\u001b[0m \u001b[1;33m=\u001b[0m \u001b[0m_get_plot_backend\u001b[0m\u001b[1;33m(\u001b[0m\u001b[0mkwargs\u001b[0m\u001b[1;33m.\u001b[0m\u001b[0mpop\u001b[0m\u001b[1;33m(\u001b[0m\u001b[1;34m\"backend\"\u001b[0m\u001b[1;33m,\u001b[0m \u001b[1;32mNone\u001b[0m\u001b[1;33m)\u001b[0m\u001b[1;33m)\u001b[0m\u001b[1;33m\u001b[0m\u001b[1;33m\u001b[0m\u001b[0m\n\u001b[0m\u001b[0;32m    870\u001b[0m \u001b[1;33m\u001b[0m\u001b[0m\n\u001b[0;32m    871\u001b[0m         x, y, kind, kwargs = self._get_call_args(\n",
      "\u001b[1;32md:\\python-project\\wife-app\\.venv\\lib\\site-packages\\pandas\\plotting\\_core.py\u001b[0m in \u001b[0;36m_get_plot_backend\u001b[1;34m(backend)\u001b[0m\n\u001b[0;32m   1778\u001b[0m             \u001b[1;32mimport\u001b[0m \u001b[0mpandas\u001b[0m\u001b[1;33m.\u001b[0m\u001b[0mplotting\u001b[0m\u001b[1;33m.\u001b[0m\u001b[0m_matplotlib\u001b[0m \u001b[1;32mas\u001b[0m \u001b[0mmodule\u001b[0m\u001b[1;33m\u001b[0m\u001b[1;33m\u001b[0m\u001b[0m\n\u001b[0;32m   1779\u001b[0m         \u001b[1;32mexcept\u001b[0m \u001b[0mImportError\u001b[0m\u001b[1;33m:\u001b[0m\u001b[1;33m\u001b[0m\u001b[1;33m\u001b[0m\u001b[0m\n\u001b[1;32m-> 1780\u001b[1;33m             raise ImportError(\n\u001b[0m\u001b[0;32m   1781\u001b[0m                 \u001b[1;34m\"matplotlib is required for plotting when the \"\u001b[0m\u001b[1;33m\u001b[0m\u001b[1;33m\u001b[0m\u001b[0m\n\u001b[0;32m   1782\u001b[0m                 \u001b[1;34m'default backend \"matplotlib\" is selected.'\u001b[0m\u001b[1;33m\u001b[0m\u001b[1;33m\u001b[0m\u001b[0m\n",
      "\u001b[1;31mImportError\u001b[0m: matplotlib is required for plotting when the default backend \"matplotlib\" is selected."
     ]
    }
   ],
   "source": [
    "import ma\n",
    "df_merge.groupby(df_merge.index.week)['买家数'].max().plot()"
   ]
  },
  {
   "cell_type": "code",
   "execution_count": null,
   "metadata": {},
   "outputs": [],
   "source": []
  }
 ]
}