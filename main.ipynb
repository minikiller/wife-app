{
 "metadata": {
  "language_info": {
   "codemirror_mode": {
    "name": "ipython",
    "version": 3
   },
   "file_extension": ".py",
   "mimetype": "text/x-python",
   "name": "python",
   "nbconvert_exporter": "python",
   "pygments_lexer": "ipython3",
   "version": "3.8.2-final"
  },
  "orig_nbformat": 2,
  "kernelspec": {
   "name": "Python 3.8.2 64-bit ('.venv': venv)",
   "display_name": "Python 3.8.2 64-bit ('.venv': venv)",
   "metadata": {
    "interpreter": {
     "hash": "ae191a064b2f5ab33b8a900cbcd593ee42d0424998694d33ee3e07716488c143"
    }
   }
  }
 },
 "nbformat": 4,
 "nbformat_minor": 2,
 "cells": [
  {
   "cell_type": "code",
   "execution_count": 2,
   "metadata": {},
   "outputs": [],
   "source": [
    "import pandas as pd\n",
    "df=pd.read_excel(\"./snow.xlsx\")"
   ]
  },
  {
   "cell_type": "code",
   "execution_count": 3,
   "metadata": {},
   "outputs": [
    {
     "output_type": "execute_result",
     "data": {
      "text/plain": [
       "[('IPSAN存储',\n",
       "         货物名称  数量\n",
       "  23  IPSAN存储   1),\n",
       " ('IPSAN存储A',\n",
       "         货物名称  数量\n",
       "  7  IPSAN存储A   1),\n",
       " ('IPSAN存储B',\n",
       "         货物名称  数量\n",
       "  8  IPSAN存储B   1),\n",
       " ('IPSAN存储C',\n",
       "          货物名称  数量\n",
       "  10  IPSAN存储C   1),\n",
       " ('万兆服务器汇聚交换机',\n",
       "            货物名称  数量\n",
       "  12  万兆服务器汇聚交换机   6),\n",
       " ('业务汇聚交换机2',\n",
       "          货物名称  数量\n",
       "  25  业务汇聚交换机2   4),\n",
       " ('云存储1',\n",
       "     货物名称  数量\n",
       "  5  云存储1   1),\n",
       " ('云存储2',\n",
       "     货物名称  数量\n",
       "  6  云存储2   1),\n",
       " ('云计算管理服务器',\n",
       "         货物名称  数量\n",
       "  4  云计算管理服务器   3),\n",
       " ('千兆管理汇聚交换机',\n",
       "           货物名称  数量\n",
       "  13  千兆管理汇聚交换机   6),\n",
       " ('堡垒机',\n",
       "     货物名称  数量\n",
       "  15  堡垒机   1),\n",
       " ('大数据HD服务器',\n",
       "         货物名称  数量\n",
       "  9  大数据HD服务器  10),\n",
       " ('大数据服务器',\n",
       "        货物名称  数量\n",
       "  22  大数据服务器  15),\n",
       " ('核心交换机',\n",
       "       货物名称  数量\n",
       "  11  核心交换机   2\n",
       "  24  核心交换机   2),\n",
       " ('漏洞扫描',\n",
       "      货物名称  数量\n",
       "  16  漏洞扫描   1),\n",
       " ('管理交换机',\n",
       "       货物名称  数量\n",
       "  14  管理交换机   2\n",
       "  26  管理交换机   2),\n",
       " ('通用服务器1',\n",
       "        货物名称  数量\n",
       "  17  通用服务器1  16),\n",
       " ('通用服务器2',\n",
       "        货物名称  数量\n",
       "  18  通用服务器2   9),\n",
       " ('通用服务器3',\n",
       "        货物名称  数量\n",
       "  19  通用服务器3   8),\n",
       " ('通用服务器A',\n",
       "       货物名称  数量\n",
       "  0  通用服务器A  25),\n",
       " ('通用服务器B',\n",
       "       货物名称  数量\n",
       "  1  通用服务器B   2),\n",
       " ('通用服务器C',\n",
       "       货物名称  数量\n",
       "  2  通用服务器C   4),\n",
       " ('高性能GPU服务器',\n",
       "          货物名称  数量\n",
       "  3  高性能GPU服务器   8),\n",
       " ('高性能GPU服务器1',\n",
       "            货物名称  数量\n",
       "  20  高性能GPU服务器1   4),\n",
       " ('高性能GPU服务器2',\n",
       "            货物名称  数量\n",
       "  21  高性能GPU服务器2   1)]"
      ]
     },
     "metadata": {},
     "execution_count": 3
    }
   ],
   "source": [
    "grouped=df[['货物名称','数量']].groupby(\"货物名称\")\n",
    "list(grouped)"
   ]
  },
  {
   "cell_type": "code",
   "execution_count": 10,
   "metadata": {},
   "outputs": [
    {
     "output_type": "execute_result",
     "data": {
      "text/plain": [
       "            数量\n",
       "货物名称          \n",
       "IPSAN存储      1\n",
       "IPSAN存储A     1\n",
       "IPSAN存储B     1\n",
       "IPSAN存储C     1\n",
       "万兆服务器汇聚交换机   6\n",
       "业务汇聚交换机2     4\n",
       "云存储1         1\n",
       "云存储2         1\n",
       "云计算管理服务器     3\n",
       "千兆管理汇聚交换机    6\n",
       "堡垒机          1\n",
       "大数据HD服务器    10\n",
       "大数据服务器      15\n",
       "核心交换机        4\n",
       "漏洞扫描         1\n",
       "管理交换机        4\n",
       "通用服务器1      16\n",
       "通用服务器2       9\n",
       "通用服务器3       8\n",
       "通用服务器A      25\n",
       "通用服务器B       2\n",
       "通用服务器C       4\n",
       "高性能GPU服务器    8\n",
       "高性能GPU服务器1   4\n",
       "高性能GPU服务器2   1"
      ],
      "text/html": "<div>\n<style scoped>\n    .dataframe tbody tr th:only-of-type {\n        vertical-align: middle;\n    }\n\n    .dataframe tbody tr th {\n        vertical-align: top;\n    }\n\n    .dataframe thead th {\n        text-align: right;\n    }\n</style>\n<table border=\"1\" class=\"dataframe\">\n  <thead>\n    <tr style=\"text-align: right;\">\n      <th></th>\n      <th>数量</th>\n    </tr>\n    <tr>\n      <th>货物名称</th>\n      <th></th>\n    </tr>\n  </thead>\n  <tbody>\n    <tr>\n      <th>IPSAN存储</th>\n      <td>1</td>\n    </tr>\n    <tr>\n      <th>IPSAN存储A</th>\n      <td>1</td>\n    </tr>\n    <tr>\n      <th>IPSAN存储B</th>\n      <td>1</td>\n    </tr>\n    <tr>\n      <th>IPSAN存储C</th>\n      <td>1</td>\n    </tr>\n    <tr>\n      <th>万兆服务器汇聚交换机</th>\n      <td>6</td>\n    </tr>\n    <tr>\n      <th>业务汇聚交换机2</th>\n      <td>4</td>\n    </tr>\n    <tr>\n      <th>云存储1</th>\n      <td>1</td>\n    </tr>\n    <tr>\n      <th>云存储2</th>\n      <td>1</td>\n    </tr>\n    <tr>\n      <th>云计算管理服务器</th>\n      <td>3</td>\n    </tr>\n    <tr>\n      <th>千兆管理汇聚交换机</th>\n      <td>6</td>\n    </tr>\n    <tr>\n      <th>堡垒机</th>\n      <td>1</td>\n    </tr>\n    <tr>\n      <th>大数据HD服务器</th>\n      <td>10</td>\n    </tr>\n    <tr>\n      <th>大数据服务器</th>\n      <td>15</td>\n    </tr>\n    <tr>\n      <th>核心交换机</th>\n      <td>4</td>\n    </tr>\n    <tr>\n      <th>漏洞扫描</th>\n      <td>1</td>\n    </tr>\n    <tr>\n      <th>管理交换机</th>\n      <td>4</td>\n    </tr>\n    <tr>\n      <th>通用服务器1</th>\n      <td>16</td>\n    </tr>\n    <tr>\n      <th>通用服务器2</th>\n      <td>9</td>\n    </tr>\n    <tr>\n      <th>通用服务器3</th>\n      <td>8</td>\n    </tr>\n    <tr>\n      <th>通用服务器A</th>\n      <td>25</td>\n    </tr>\n    <tr>\n      <th>通用服务器B</th>\n      <td>2</td>\n    </tr>\n    <tr>\n      <th>通用服务器C</th>\n      <td>4</td>\n    </tr>\n    <tr>\n      <th>高性能GPU服务器</th>\n      <td>8</td>\n    </tr>\n    <tr>\n      <th>高性能GPU服务器1</th>\n      <td>4</td>\n    </tr>\n    <tr>\n      <th>高性能GPU服务器2</th>\n      <td>1</td>\n    </tr>\n  </tbody>\n</table>\n</div>"
     },
     "metadata": {},
     "execution_count": 10
    }
   ],
   "source": [
    "grouped.sum()"
   ]
  },
  {
   "cell_type": "code",
   "execution_count": null,
   "metadata": {},
   "outputs": [],
   "source": []
  }
 ]
}