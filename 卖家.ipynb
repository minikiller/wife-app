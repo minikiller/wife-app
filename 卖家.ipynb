{
 "metadata": {
  "language_info": {
   "codemirror_mode": {
    "name": "ipython",
    "version": 3
   },
   "file_extension": ".py",
   "mimetype": "text/x-python",
   "name": "python",
   "nbconvert_exporter": "python",
   "pygments_lexer": "ipython3",
   "version": "3.8.2-final"
  },
  "orig_nbformat": 2,
  "kernelspec": {
   "name": "python3",
   "display_name": "Python 3"
  }
 },
 "nbformat": 4,
 "nbformat_minor": 2,
 "cells": [
  {
   "cell_type": "code",
   "execution_count": 1,
   "metadata": {},
   "outputs": [
    {
     "output_type": "execute_result",
     "data": {
      "text/plain": [
       "                       日期          子行业     卖家数 父行业卖家数占比  有交易卖家数 父行业有交易卖家数占比\n",
       "0   2017-11-01|2017-11-30         手机配件  533285   68.91%   86596      56.45%\n",
       "1   2017-11-01|2017-11-30      USB数码周边  212033   27.40%   10625       6.93%\n",
       "2   2017-11-01|2017-11-30      笔记本电脑配件  186626   24.11%   15586      10.16%\n",
       "3   2017-11-01|2017-11-30         数码周边  176974   22.87%   16491      10.75%\n",
       "4   2017-11-01|2017-11-30    单反/单电相机配件  168878   21.82%   12846       8.37%\n",
       "5   2017-11-01|2017-11-30       平板电脑配件  146058   18.87%    9682       6.31%\n",
       "6   2017-11-01|2017-11-30         移动电源  126102   16.29%    9577       6.24%\n",
       "7   2017-11-01|2017-11-30     家电影音周边配件  122547   15.83%   10404       6.78%\n",
       "8   2017-11-01|2017-11-30    数码包/收纳/整理  120458   15.56%    6592       4.30%\n",
       "9   2017-11-01|2017-11-30         其它配件  115443   14.92%   11361       7.41%\n",
       "10  2017-11-01|2017-11-30       车载手机配件  107177   13.85%    4862       3.17%\n",
       "11  2017-11-01|2017-11-30  干电池/充电电池/套装  104596   13.51%   11296       7.36%\n",
       "12  2017-11-01|2017-11-30       数码相机配件   57883    7.48%    3494       2.28%\n",
       "13  2017-11-01|2017-11-30    MP3/MP4配件   56503    7.30%    3946       2.57%\n",
       "14  2017-11-01|2017-11-30       胶片相机配件   47835    6.18%    1523       0.99%\n",
       "15  2017-11-01|2017-11-30        摄像机配件   22914    2.96%    2093       1.36%\n",
       "16  2017-11-01|2017-11-30        电子书配件   20980    2.71%    1007       0.66%\n",
       "17  2017-11-01|2017-11-30         数码相框    7765    1.00%     159       0.10%\n",
       "18  2017-11-01|2017-11-30       电教产品配件    6358    0.82%     451       0.29%\n",
       "19  2017-11-01|2017-11-30    3G无线上网卡设备    3199    0.41%     258       0.17%"
      ],
      "text/html": "<div>\n<style scoped>\n    .dataframe tbody tr th:only-of-type {\n        vertical-align: middle;\n    }\n\n    .dataframe tbody tr th {\n        vertical-align: top;\n    }\n\n    .dataframe thead th {\n        text-align: right;\n    }\n</style>\n<table border=\"1\" class=\"dataframe\">\n  <thead>\n    <tr style=\"text-align: right;\">\n      <th></th>\n      <th>日期</th>\n      <th>子行业</th>\n      <th>卖家数</th>\n      <th>父行业卖家数占比</th>\n      <th>有交易卖家数</th>\n      <th>父行业有交易卖家数占比</th>\n    </tr>\n  </thead>\n  <tbody>\n    <tr>\n      <th>0</th>\n      <td>2017-11-01|2017-11-30</td>\n      <td>手机配件</td>\n      <td>533285</td>\n      <td>68.91%</td>\n      <td>86596</td>\n      <td>56.45%</td>\n    </tr>\n    <tr>\n      <th>1</th>\n      <td>2017-11-01|2017-11-30</td>\n      <td>USB数码周边</td>\n      <td>212033</td>\n      <td>27.40%</td>\n      <td>10625</td>\n      <td>6.93%</td>\n    </tr>\n    <tr>\n      <th>2</th>\n      <td>2017-11-01|2017-11-30</td>\n      <td>笔记本电脑配件</td>\n      <td>186626</td>\n      <td>24.11%</td>\n      <td>15586</td>\n      <td>10.16%</td>\n    </tr>\n    <tr>\n      <th>3</th>\n      <td>2017-11-01|2017-11-30</td>\n      <td>数码周边</td>\n      <td>176974</td>\n      <td>22.87%</td>\n      <td>16491</td>\n      <td>10.75%</td>\n    </tr>\n    <tr>\n      <th>4</th>\n      <td>2017-11-01|2017-11-30</td>\n      <td>单反/单电相机配件</td>\n      <td>168878</td>\n      <td>21.82%</td>\n      <td>12846</td>\n      <td>8.37%</td>\n    </tr>\n    <tr>\n      <th>5</th>\n      <td>2017-11-01|2017-11-30</td>\n      <td>平板电脑配件</td>\n      <td>146058</td>\n      <td>18.87%</td>\n      <td>9682</td>\n      <td>6.31%</td>\n    </tr>\n    <tr>\n      <th>6</th>\n      <td>2017-11-01|2017-11-30</td>\n      <td>移动电源</td>\n      <td>126102</td>\n      <td>16.29%</td>\n      <td>9577</td>\n      <td>6.24%</td>\n    </tr>\n    <tr>\n      <th>7</th>\n      <td>2017-11-01|2017-11-30</td>\n      <td>家电影音周边配件</td>\n      <td>122547</td>\n      <td>15.83%</td>\n      <td>10404</td>\n      <td>6.78%</td>\n    </tr>\n    <tr>\n      <th>8</th>\n      <td>2017-11-01|2017-11-30</td>\n      <td>数码包/收纳/整理</td>\n      <td>120458</td>\n      <td>15.56%</td>\n      <td>6592</td>\n      <td>4.30%</td>\n    </tr>\n    <tr>\n      <th>9</th>\n      <td>2017-11-01|2017-11-30</td>\n      <td>其它配件</td>\n      <td>115443</td>\n      <td>14.92%</td>\n      <td>11361</td>\n      <td>7.41%</td>\n    </tr>\n    <tr>\n      <th>10</th>\n      <td>2017-11-01|2017-11-30</td>\n      <td>车载手机配件</td>\n      <td>107177</td>\n      <td>13.85%</td>\n      <td>4862</td>\n      <td>3.17%</td>\n    </tr>\n    <tr>\n      <th>11</th>\n      <td>2017-11-01|2017-11-30</td>\n      <td>干电池/充电电池/套装</td>\n      <td>104596</td>\n      <td>13.51%</td>\n      <td>11296</td>\n      <td>7.36%</td>\n    </tr>\n    <tr>\n      <th>12</th>\n      <td>2017-11-01|2017-11-30</td>\n      <td>数码相机配件</td>\n      <td>57883</td>\n      <td>7.48%</td>\n      <td>3494</td>\n      <td>2.28%</td>\n    </tr>\n    <tr>\n      <th>13</th>\n      <td>2017-11-01|2017-11-30</td>\n      <td>MP3/MP4配件</td>\n      <td>56503</td>\n      <td>7.30%</td>\n      <td>3946</td>\n      <td>2.57%</td>\n    </tr>\n    <tr>\n      <th>14</th>\n      <td>2017-11-01|2017-11-30</td>\n      <td>胶片相机配件</td>\n      <td>47835</td>\n      <td>6.18%</td>\n      <td>1523</td>\n      <td>0.99%</td>\n    </tr>\n    <tr>\n      <th>15</th>\n      <td>2017-11-01|2017-11-30</td>\n      <td>摄像机配件</td>\n      <td>22914</td>\n      <td>2.96%</td>\n      <td>2093</td>\n      <td>1.36%</td>\n    </tr>\n    <tr>\n      <th>16</th>\n      <td>2017-11-01|2017-11-30</td>\n      <td>电子书配件</td>\n      <td>20980</td>\n      <td>2.71%</td>\n      <td>1007</td>\n      <td>0.66%</td>\n    </tr>\n    <tr>\n      <th>17</th>\n      <td>2017-11-01|2017-11-30</td>\n      <td>数码相框</td>\n      <td>7765</td>\n      <td>1.00%</td>\n      <td>159</td>\n      <td>0.10%</td>\n    </tr>\n    <tr>\n      <th>18</th>\n      <td>2017-11-01|2017-11-30</td>\n      <td>电教产品配件</td>\n      <td>6358</td>\n      <td>0.82%</td>\n      <td>451</td>\n      <td>0.29%</td>\n    </tr>\n    <tr>\n      <th>19</th>\n      <td>2017-11-01|2017-11-30</td>\n      <td>3G无线上网卡设备</td>\n      <td>3199</td>\n      <td>0.41%</td>\n      <td>258</td>\n      <td>0.17%</td>\n    </tr>\n  </tbody>\n</table>\n</div>"
     },
     "metadata": {},
     "execution_count": 1
    }
   ],
   "source": [
    "import pandas as pd\n",
    "df=pd.read_csv(\"./3C数据/卖家概况/3C数码1711.csv\")\n",
    "df\n"
   ]
  },
  {
   "cell_type": "code",
   "execution_count": null,
   "metadata": {},
   "outputs": [],
   "source": []
  }
 ]
}