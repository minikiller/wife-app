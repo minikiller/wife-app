{
 "metadata": {
  "language_info": {
   "codemirror_mode": {
    "name": "ipython",
    "version": 3
   },
   "file_extension": ".py",
   "mimetype": "text/x-python",
   "name": "python",
   "nbconvert_exporter": "python",
   "pygments_lexer": "ipython3",
   "version": "3.8.2-final"
  },
  "orig_nbformat": 2,
  "kernelspec": {
   "name": "python3",
   "display_name": "Python 3"
  }
 },
 "nbformat": 4,
 "nbformat_minor": 2,
 "cells": [
  {
   "cell_type": "code",
   "execution_count": 4,
   "metadata": {},
   "outputs": [
    {
     "output_type": "execute_result",
     "data": {
      "text/plain": [
       "[(34, 9, 7),\n",
       " (9, 10, 2),\n",
       " (13, 49, 25),\n",
       " (40, 21, 32),\n",
       " (10, 49, 21),\n",
       " (32, 23, 9),\n",
       " (24, 16, 30),\n",
       " (2, 29, 14),\n",
       " (22, 6, 31),\n",
       " (9, 6, 22),\n",
       " (20, 22, 19),\n",
       " (43, 15, 26),\n",
       " (18, 31, 42),\n",
       " (1, 10, 49),\n",
       " (49, 32, 4),\n",
       " (13, 38, 24),\n",
       " (5, 42, 39),\n",
       " (30, 3, 48),\n",
       " (15, 7, 9),\n",
       " (22, 12, 8),\n",
       " (2, 36, 1),\n",
       " (9, 1, 36),\n",
       " (5, 31, 19),\n",
       " (23, 50, 9),\n",
       " (28, 38, 3),\n",
       " (13, 25, 36),\n",
       " (49, 48, 34),\n",
       " (0, 18, 28),\n",
       " (48, 31, 2),\n",
       " (2, 18, 43),\n",
       " (11, 30, 9),\n",
       " (40, 43, 36),\n",
       " (14, 35, 39),\n",
       " (13, 1, 17),\n",
       " (11, 14, 37),\n",
       " (6, 11, 10),\n",
       " (20, 44, 32),\n",
       " (44, 8, 46),\n",
       " (13, 13, 39),\n",
       " (7, 27, 33),\n",
       " (19, 42, 5),\n",
       " (50, 37, 48),\n",
       " (38, 23, 23),\n",
       " (17, 21, 23),\n",
       " (22, 17, 43),\n",
       " (6, 13, 15),\n",
       " (25, 32, 6),\n",
       " (17, 6, 17),\n",
       " (46, 44, 12),\n",
       " (7, 48, 11)]"
      ]
     },
     "metadata": {},
     "execution_count": 4
    }
   ],
   "source": [
    "import random\n",
    "from pyecharts import options as  opts\n",
    "from pyecharts.charts import Scatter3D\n",
    "from pyecharts.faker import Faker\n",
    "\n",
    "Scatter_data = [(random.randint(0,50),random.randint(0,50),random.randint(0,50)) for i in range(50)]\n",
    "Scatter_data\n"
   ]
  },
  {
   "cell_type": "code",
   "execution_count": 6,
   "metadata": {},
   "outputs": [
    {
     "output_type": "execute_result",
     "data": {
      "text/plain": [
       "<pyecharts.render.display.HTML at 0x1131c9fa0>"
      ],
      "text/html": "\n<script>\n    require.config({\n        paths: {\n            'echarts':'https://assets.pyecharts.org/assets/echarts.min', 'echarts-gl':'https://assets.pyecharts.org/assets/echarts-gl.min'\n        }\n    });\n</script>\n\n        <div id=\"f53dbeb80385493f91e943a1c7252ce7\" style=\"width:900px; height:600px;\"></div>\n\n<script>\n        require(['echarts', 'echarts-gl'], function(echarts) {\n                var chart_f53dbeb80385493f91e943a1c7252ce7 = echarts.init(\n                    document.getElementById('f53dbeb80385493f91e943a1c7252ce7'), 'white', {renderer: 'canvas'});\n                var option_f53dbeb80385493f91e943a1c7252ce7 = {\n    \"animation\": true,\n    \"animationThreshold\": 2000,\n    \"animationDuration\": 1000,\n    \"animationEasing\": \"cubicOut\",\n    \"animationDelay\": 0,\n    \"animationDurationUpdate\": 300,\n    \"animationEasingUpdate\": \"cubicOut\",\n    \"animationDelayUpdate\": 0,\n    \"color\": [\n        \"#c23531\",\n        \"#2f4554\",\n        \"#61a0a8\",\n        \"#d48265\",\n        \"#749f83\",\n        \"#ca8622\",\n        \"#bda29a\",\n        \"#6e7074\",\n        \"#546570\",\n        \"#c4ccd3\",\n        \"#f05b72\",\n        \"#ef5b9c\",\n        \"#f47920\",\n        \"#905a3d\",\n        \"#fab27b\",\n        \"#2a5caa\",\n        \"#444693\",\n        \"#726930\",\n        \"#b2d235\",\n        \"#6d8346\",\n        \"#ac6767\",\n        \"#1d953f\",\n        \"#6950a1\",\n        \"#918597\"\n    ],\n    \"series\": [\n        {\n            \"type\": \"scatter3D\",\n            \"data\": [\n                [\n                    34,\n                    9,\n                    7\n                ],\n                [\n                    9,\n                    10,\n                    2\n                ],\n                [\n                    13,\n                    49,\n                    25\n                ],\n                [\n                    40,\n                    21,\n                    32\n                ],\n                [\n                    10,\n                    49,\n                    21\n                ],\n                [\n                    32,\n                    23,\n                    9\n                ],\n                [\n                    24,\n                    16,\n                    30\n                ],\n                [\n                    2,\n                    29,\n                    14\n                ],\n                [\n                    22,\n                    6,\n                    31\n                ],\n                [\n                    9,\n                    6,\n                    22\n                ],\n                [\n                    20,\n                    22,\n                    19\n                ],\n                [\n                    43,\n                    15,\n                    26\n                ],\n                [\n                    18,\n                    31,\n                    42\n                ],\n                [\n                    1,\n                    10,\n                    49\n                ],\n                [\n                    49,\n                    32,\n                    4\n                ],\n                [\n                    13,\n                    38,\n                    24\n                ],\n                [\n                    5,\n                    42,\n                    39\n                ],\n                [\n                    30,\n                    3,\n                    48\n                ],\n                [\n                    15,\n                    7,\n                    9\n                ],\n                [\n                    22,\n                    12,\n                    8\n                ],\n                [\n                    2,\n                    36,\n                    1\n                ],\n                [\n                    9,\n                    1,\n                    36\n                ],\n                [\n                    5,\n                    31,\n                    19\n                ],\n                [\n                    23,\n                    50,\n                    9\n                ],\n                [\n                    28,\n                    38,\n                    3\n                ],\n                [\n                    13,\n                    25,\n                    36\n                ],\n                [\n                    49,\n                    48,\n                    34\n                ],\n                [\n                    0,\n                    18,\n                    28\n                ],\n                [\n                    48,\n                    31,\n                    2\n                ],\n                [\n                    2,\n                    18,\n                    43\n                ],\n                [\n                    11,\n                    30,\n                    9\n                ],\n                [\n                    40,\n                    43,\n                    36\n                ],\n                [\n                    14,\n                    35,\n                    39\n                ],\n                [\n                    13,\n                    1,\n                    17\n                ],\n                [\n                    11,\n                    14,\n                    37\n                ],\n                [\n                    6,\n                    11,\n                    10\n                ],\n                [\n                    20,\n                    44,\n                    32\n                ],\n                [\n                    44,\n                    8,\n                    46\n                ],\n                [\n                    13,\n                    13,\n                    39\n                ],\n                [\n                    7,\n                    27,\n                    33\n                ],\n                [\n                    19,\n                    42,\n                    5\n                ],\n                [\n                    50,\n                    37,\n                    48\n                ],\n                [\n                    38,\n                    23,\n                    23\n                ],\n                [\n                    17,\n                    21,\n                    23\n                ],\n                [\n                    22,\n                    17,\n                    43\n                ],\n                [\n                    6,\n                    13,\n                    15\n                ],\n                [\n                    25,\n                    32,\n                    6\n                ],\n                [\n                    17,\n                    6,\n                    17\n                ],\n                [\n                    46,\n                    44,\n                    12\n                ],\n                [\n                    7,\n                    48,\n                    11\n                ]\n            ],\n            \"label\": {\n                \"show\": false,\n                \"position\": \"top\",\n                \"margin\": 8\n            }\n        }\n    ],\n    \"legend\": [\n        {\n            \"data\": [\n                \"\"\n            ],\n            \"selected\": {},\n            \"show\": true,\n            \"padding\": 5,\n            \"itemGap\": 10,\n            \"itemWidth\": 25,\n            \"itemHeight\": 14\n        }\n    ],\n    \"tooltip\": {\n        \"show\": true,\n        \"trigger\": \"item\",\n        \"triggerOn\": \"mousemove|click\",\n        \"axisPointer\": {\n            \"type\": \"line\"\n        },\n        \"showContent\": true,\n        \"alwaysShowContent\": false,\n        \"showDelay\": 0,\n        \"hideDelay\": 100,\n        \"textStyle\": {\n            \"fontSize\": 14\n        },\n        \"borderWidth\": 0,\n        \"padding\": 5\n    },\n    \"visualMap\": {\n        \"show\": true,\n        \"type\": \"continuous\",\n        \"min\": 0,\n        \"max\": 500,\n        \"inRange\": {\n            \"color\": [\n                \"#313695\",\n                \"#4575b4\",\n                \"#74add1\",\n                \"#abd9e9\",\n                \"#e0f3f8\",\n                \"#ffffbf\",\n                \"#fee090\",\n                \"#fdae61\",\n                \"#f46d43\",\n                \"#d73027\",\n                \"#a50026\"\n            ]\n        },\n        \"calculable\": true,\n        \"inverse\": false,\n        \"splitNumber\": 5,\n        \"orient\": \"vertical\",\n        \"top\": 50,\n        \"showLabel\": true,\n        \"itemWidth\": 20,\n        \"itemHeight\": 140,\n        \"borderWidth\": 0\n    },\n    \"xAxis3D\": {\n        \"nameGap\": 20,\n        \"type\": \"category\",\n        \"axisLabel\": {\n            \"margin\": 8\n        }\n    },\n    \"yAxis3D\": {\n        \"nameGap\": 20,\n        \"type\": \"category\",\n        \"axisLabel\": {\n            \"margin\": 8\n        }\n    },\n    \"zAxis3D\": {\n        \"nameGap\": 20,\n        \"type\": \"value\",\n        \"axisLabel\": {\n            \"margin\": 8\n        }\n    },\n    \"grid3D\": {\n        \"boxWidth\": 100,\n        \"boxHeight\": 100,\n        \"boxDepth\": 100,\n        \"viewControl\": {\n            \"autoRotate\": false,\n            \"autoRotateSpeed\": 200,\n            \"rotateSensitivity\": 1\n        }\n    },\n    \"title\": [\n        {\n            \"text\": \"3D Scatter Chart\",\n            \"padding\": 5,\n            \"itemGap\": 10\n        }\n    ]\n};\n                chart_f53dbeb80385493f91e943a1c7252ce7.setOption(option_f53dbeb80385493f91e943a1c7252ce7);\n        });\n    </script>\n"
     },
     "metadata": {},
     "execution_count": 6
    }
   ],
   "source": [
    "scatter = (\n",
    "    Scatter3D(init_opts = opts.InitOpts(width='900px',height='600px'))  #initialization\n",
    "    .add(\"\",Scatter_data,\n",
    "         grid3d_opts=opts.Grid3DOpts(\n",
    "            width=100, depth=100, rotate_speed=200, is_rotate=False\n",
    "        ))\n",
    "    \n",
    "    #Set global configuration items\n",
    "    .set_global_opts(\n",
    "        title_opts=opts.TitleOpts(title=\"3D Scatter Chart\"),  #Add title\n",
    "        visualmap_opts=opts.VisualMapOpts(\n",
    "            max_=500, #Maximum\n",
    "            pos_top=50, # The distance between the visualMap component and the upper side of the container\n",
    "            range_color=Faker.visual_color  #Color mapping                                         \n",
    "        )\n",
    "    )\n",
    "    \n",
    ")\n",
    "scatter.render_notebook()"
   ]
  },
  {
   "cell_type": "code",
   "execution_count": null,
   "metadata": {},
   "outputs": [],
   "source": []
  }
 ]
}