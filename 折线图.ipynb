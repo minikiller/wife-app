{
 "metadata": {
  "language_info": {
   "codemirror_mode": {
    "name": "ipython",
    "version": 3
   },
   "file_extension": ".py",
   "mimetype": "text/x-python",
   "name": "python",
   "nbconvert_exporter": "python",
   "pygments_lexer": "ipython3",
   "version": "3.8.2-final"
  },
  "orig_nbformat": 2,
  "kernelspec": {
   "name": "python3",
   "display_name": "Python 3"
  }
 },
 "nbformat": 4,
 "nbformat_minor": 2,
 "cells": [
  {
   "cell_type": "code",
   "execution_count": 21,
   "metadata": {},
   "outputs": [
    {
     "output_type": "stream",
     "name": "stdout",
     "text": [
      "<class 'pandas.core.frame.DataFrame'>\nInt64Index: 7850 entries, 0 to 233\nData columns (total 11 columns):\n #   Column  Non-Null Count  Dtype  \n---  ------  --------------  -----  \n 0   日期      7850 non-null   object \n 1   类目名称    7850 non-null   object \n 2   买家数     7850 non-null   int64  \n 3   成交金额    7850 non-null   int64  \n 4   搜索人数    7850 non-null   int64  \n 5   成交金额占比  7850 non-null   object \n 6   成交金额同比  7850 non-null   object \n 7   成交人数占比  7850 non-null   object \n 8   成交人数同比  7850 non-null   object \n 9   客单价     7850 non-null   float64\n 10  UV价值    7850 non-null   float64\ndtypes: float64(2), int64(3), object(6)\nmemory usage: 735.9+ KB\n"
     ]
    }
   ],
   "source": [
    "import os\n",
    "import pandas as pd\n",
    "excel_names=[]\n",
    "for excel_name in os.listdir(\"./data\"):\n",
    "    excel_names.append(excel_name)\n",
    "\n",
    "df_list=[]\n",
    "for excel_name in excel_names:\n",
    "    filename=\"./data/{}\".format(excel_name)\n",
    "    df=pd.read_csv(filename,sep=\",\")\n",
    "    df_list.append(df)\n",
    "df_merge=pd.concat(df_list)\n",
    "df_merge.info()"
   ]
  },
  {
   "cell_type": "code",
   "execution_count": 22,
   "metadata": {},
   "outputs": [
    {
     "output_type": "execute_result",
     "data": {
      "text/plain": [
       "               类目名称       买家数       成交金额  ...   UV价值       开始日期       结束日期\n",
       "开始日期                                      ...                             \n",
       "2017-10-01  手机保护套/壳  27524495  503205377  ...   6.13 2017-10-01 2017-10-31\n",
       "2017-10-01     手机贴膜  18384095  190704104  ...   7.15 2017-10-01 2017-10-31\n",
       "2017-10-01    手机零部件   2125787  189281648  ...  12.00 2017-10-01 2017-10-31\n",
       "2017-10-01     移动电源   2801112  188888518  ...  13.23 2017-10-01 2017-10-31\n",
       "2017-10-01    手机数据线   4178627  153248705  ...  14.20 2017-10-01 2017-10-31\n",
       "...             ...       ...        ...  ...    ...        ...        ...\n",
       "2020-09-01      分压盒         1       2425  ...  67.36 2020-09-01 2020-09-30\n",
       "2020-09-01     白平衡镜         1       1826  ...  32.61 2020-09-01 2020-09-30\n",
       "2020-09-01  Lomo潜水盒         1        133  ...   6.05 2020-09-01 2020-09-30\n",
       "2020-09-01  移动支付终端机         0          0  ...   0.00 2020-09-01 2020-09-30\n",
       "2020-09-01     苹果卡贴         0          0  ...   0.00 2020-09-01 2020-09-30\n",
       "\n",
       "[7850 rows x 12 columns]"
      ],
      "text/html": "<div>\n<style scoped>\n    .dataframe tbody tr th:only-of-type {\n        vertical-align: middle;\n    }\n\n    .dataframe tbody tr th {\n        vertical-align: top;\n    }\n\n    .dataframe thead th {\n        text-align: right;\n    }\n</style>\n<table border=\"1\" class=\"dataframe\">\n  <thead>\n    <tr style=\"text-align: right;\">\n      <th></th>\n      <th>类目名称</th>\n      <th>买家数</th>\n      <th>成交金额</th>\n      <th>搜索人数</th>\n      <th>成交金额占比</th>\n      <th>成交金额同比</th>\n      <th>成交人数占比</th>\n      <th>成交人数同比</th>\n      <th>客单价</th>\n      <th>UV价值</th>\n      <th>开始日期</th>\n      <th>结束日期</th>\n    </tr>\n    <tr>\n      <th>开始日期</th>\n      <th></th>\n      <th></th>\n      <th></th>\n      <th></th>\n      <th></th>\n      <th></th>\n      <th></th>\n      <th></th>\n      <th></th>\n      <th></th>\n      <th></th>\n      <th></th>\n    </tr>\n  </thead>\n  <tbody>\n    <tr>\n      <th>2017-10-01</th>\n      <td>手机保护套/壳</td>\n      <td>27524495</td>\n      <td>503205377</td>\n      <td>82138973</td>\n      <td>38.16%</td>\n      <td>70.34%</td>\n      <td>52.07%</td>\n      <td>11.20%</td>\n      <td>18.28</td>\n      <td>6.13</td>\n      <td>2017-10-01</td>\n      <td>2017-10-31</td>\n    </tr>\n    <tr>\n      <th>2017-10-01</th>\n      <td>手机贴膜</td>\n      <td>18384095</td>\n      <td>190704104</td>\n      <td>26656100</td>\n      <td>11.79%</td>\n      <td>28.26%</td>\n      <td>25.05%</td>\n      <td>16.74%</td>\n      <td>10.37</td>\n      <td>7.15</td>\n      <td>2017-10-01</td>\n      <td>2017-10-31</td>\n    </tr>\n    <tr>\n      <th>2017-10-01</th>\n      <td>手机零部件</td>\n      <td>2125787</td>\n      <td>189281648</td>\n      <td>15767938</td>\n      <td>11.72%</td>\n      <td>12.75%</td>\n      <td>5.28%</td>\n      <td>11.70%</td>\n      <td>89.04</td>\n      <td>12.00</td>\n      <td>2017-10-01</td>\n      <td>2017-10-31</td>\n    </tr>\n    <tr>\n      <th>2017-10-01</th>\n      <td>移动电源</td>\n      <td>2801112</td>\n      <td>188888518</td>\n      <td>14276910</td>\n      <td>11.70%</td>\n      <td>27.56%</td>\n      <td>7.22%</td>\n      <td>11.89%</td>\n      <td>67.43</td>\n      <td>13.23</td>\n      <td>2017-10-01</td>\n      <td>2017-10-31</td>\n    </tr>\n    <tr>\n      <th>2017-10-01</th>\n      <td>手机数据线</td>\n      <td>4178627</td>\n      <td>153248705</td>\n      <td>10788473</td>\n      <td>8.04%</td>\n      <td>68.09%</td>\n      <td>11.07%</td>\n      <td>22.33%</td>\n      <td>36.67</td>\n      <td>14.20</td>\n      <td>2017-10-01</td>\n      <td>2017-10-31</td>\n    </tr>\n    <tr>\n      <th>...</th>\n      <td>...</td>\n      <td>...</td>\n      <td>...</td>\n      <td>...</td>\n      <td>...</td>\n      <td>...</td>\n      <td>...</td>\n      <td>...</td>\n      <td>...</td>\n      <td>...</td>\n      <td>...</td>\n      <td>...</td>\n    </tr>\n    <tr>\n      <th>2020-09-01</th>\n      <td>分压盒</td>\n      <td>1</td>\n      <td>2425</td>\n      <td>36</td>\n      <td>-</td>\n      <td>1488.67%</td>\n      <td>-</td>\n      <td>68.95%</td>\n      <td>2425.00</td>\n      <td>67.36</td>\n      <td>2020-09-01</td>\n      <td>2020-09-30</td>\n    </tr>\n    <tr>\n      <th>2020-09-01</th>\n      <td>白平衡镜</td>\n      <td>1</td>\n      <td>1826</td>\n      <td>56</td>\n      <td>-</td>\n      <td>-46.39%</td>\n      <td>-</td>\n      <td>11.19%</td>\n      <td>1826.00</td>\n      <td>32.61</td>\n      <td>2020-09-01</td>\n      <td>2020-09-30</td>\n    </tr>\n    <tr>\n      <th>2020-09-01</th>\n      <td>Lomo潜水盒</td>\n      <td>1</td>\n      <td>133</td>\n      <td>22</td>\n      <td>-</td>\n      <td>-90.94%</td>\n      <td>-</td>\n      <td>-72.61%</td>\n      <td>133.00</td>\n      <td>6.05</td>\n      <td>2020-09-01</td>\n      <td>2020-09-30</td>\n    </tr>\n    <tr>\n      <th>2020-09-01</th>\n      <td>移动支付终端机</td>\n      <td>0</td>\n      <td>0</td>\n      <td>4</td>\n      <td>-</td>\n      <td>-99.95%</td>\n      <td>-</td>\n      <td>-99.95%</td>\n      <td>0.00</td>\n      <td>0.00</td>\n      <td>2020-09-01</td>\n      <td>2020-09-30</td>\n    </tr>\n    <tr>\n      <th>2020-09-01</th>\n      <td>苹果卡贴</td>\n      <td>0</td>\n      <td>0</td>\n      <td>9</td>\n      <td>-</td>\n      <td>-</td>\n      <td>-</td>\n      <td>-</td>\n      <td>0.00</td>\n      <td>0.00</td>\n      <td>2020-09-01</td>\n      <td>2020-09-30</td>\n    </tr>\n  </tbody>\n</table>\n<p>7850 rows × 12 columns</p>\n</div>"
     },
     "metadata": {},
     "execution_count": 22
    }
   ],
   "source": [
    "new_date=df_merge['日期'].str.split(\"|\", n = 1, expand = True) \n",
    "df_merge['开始日期']=new_date[0]\n",
    "df_merge['结束日期']=new_date[1]\n",
    "df_merge['开始日期']=pd.to_datetime(df_merge['开始日期'].astype(str),format='%Y-%m-%d')\n",
    "df_merge['结束日期']=pd.to_datetime(df_merge['结束日期'].astype(str),format='%Y-%m-%d')\n",
    "del df_merge['日期'] \n",
    "df_merge.set_index(df_merge['开始日期'])"
   ]
  },
  {
   "cell_type": "code",
   "execution_count": 23,
   "metadata": {},
   "outputs": [
    {
     "output_type": "stream",
     "name": "stdout",
     "text": [
      "<class 'pandas.core.frame.DataFrame'>\nInt64Index: 36 entries, 1 to 1\nData columns (total 12 columns):\n #   Column  Non-Null Count  Dtype         \n---  ------  --------------  -----         \n 0   类目名称    36 non-null     object        \n 1   买家数     36 non-null     int64         \n 2   成交金额    36 non-null     int64         \n 3   搜索人数    36 non-null     int64         \n 4   成交金额占比  36 non-null     object        \n 5   成交金额同比  36 non-null     object        \n 6   成交人数占比  36 non-null     object        \n 7   成交人数同比  36 non-null     object        \n 8   客单价     36 non-null     float64       \n 9   UV价值    36 non-null     float64       \n 10  开始日期    36 non-null     datetime64[ns]\n 11  结束日期    36 non-null     datetime64[ns]\ndtypes: datetime64[ns](2), float64(2), int64(3), object(5)\nmemory usage: 3.7+ KB\n"
     ]
    }
   ],
   "source": [
    "result=df_merge[df_merge[\"类目名称\"]==\"手机贴膜\"]\n",
    "result.set_index(result.开始日期)\n",
    "result.info()"
   ]
  },
  {
   "cell_type": "code",
   "execution_count": 30,
   "metadata": {},
   "outputs": [
    {
     "output_type": "execute_result",
     "data": {
      "text/plain": [
       "<pyecharts.render.display.HTML at 0x12c71af10>"
      ],
      "text/html": "\n<script>\n    require.config({\n        paths: {\n            'echarts':'https://assets.pyecharts.org/assets/echarts.min'\n        }\n    });\n</script>\n\n        <div id=\"43c6744ee7c04566a12b4c4be0024999\" style=\"width:900px; height:500px;\"></div>\n\n<script>\n        require(['echarts'], function(echarts) {\n                var chart_43c6744ee7c04566a12b4c4be0024999 = echarts.init(\n                    document.getElementById('43c6744ee7c04566a12b4c4be0024999'), 'white', {renderer: 'canvas'});\n                var option_43c6744ee7c04566a12b4c4be0024999 = {\n    \"animation\": true,\n    \"animationThreshold\": 2000,\n    \"animationDuration\": 1000,\n    \"animationEasing\": \"cubicOut\",\n    \"animationDelay\": 0,\n    \"animationDurationUpdate\": 300,\n    \"animationEasingUpdate\": \"cubicOut\",\n    \"animationDelayUpdate\": 0,\n    \"color\": [\n        \"#c23531\",\n        \"#2f4554\",\n        \"#61a0a8\",\n        \"#d48265\",\n        \"#749f83\",\n        \"#ca8622\",\n        \"#bda29a\",\n        \"#6e7074\",\n        \"#546570\",\n        \"#c4ccd3\",\n        \"#f05b72\",\n        \"#ef5b9c\",\n        \"#f47920\",\n        \"#905a3d\",\n        \"#fab27b\",\n        \"#2a5caa\",\n        \"#444693\",\n        \"#726930\",\n        \"#b2d235\",\n        \"#6d8346\",\n        \"#ac6767\",\n        \"#1d953f\",\n        \"#6950a1\",\n        \"#918597\"\n    ],\n    \"series\": [\n        {\n            \"type\": \"line\",\n            \"name\": \"\\u4e70\\u5bb6\\u6570\",\n            \"connectNulls\": false,\n            \"symbol\": \"emptyCircle1\",\n            \"symbolSize\": 4,\n            \"showSymbol\": true,\n            \"smooth\": false,\n            \"clip\": true,\n            \"step\": false,\n            \"data\": [\n                [\n                    \"2017-10-01\",\n                    18384095\n                ],\n                [\n                    \"2017-11-01\",\n                    16211302\n                ],\n                [\n                    \"2017-12-01\",\n                    15866514\n                ],\n                [\n                    \"2018-01-01\",\n                    16346768\n                ],\n                [\n                    \"2018-02-01\",\n                    10750410\n                ],\n                [\n                    \"2018-03-01\",\n                    17317043\n                ],\n                [\n                    \"2018-04-01\",\n                    16151706\n                ],\n                [\n                    \"2018-05-01\",\n                    16391737\n                ],\n                [\n                    \"2018-06-01\",\n                    17057195\n                ],\n                [\n                    \"2018-07-01\",\n                    18342596\n                ],\n                [\n                    \"2018-08-01\",\n                    18371112\n                ],\n                [\n                    \"2018-09-01\",\n                    17264532\n                ],\n                [\n                    \"2018-10-01\",\n                    17033016\n                ],\n                [\n                    \"2018-11-01\",\n                    17857192\n                ],\n                [\n                    \"2018-12-01\",\n                    16762324\n                ],\n                [\n                    \"2019-01-01\",\n                    16909430\n                ],\n                [\n                    \"2019-02-01\",\n                    15706111\n                ],\n                [\n                    \"2019-03-01\",\n                    17241255\n                ],\n                [\n                    \"2019-04-01\",\n                    16498411\n                ],\n                [\n                    \"2019-05-01\",\n                    16966053\n                ],\n                [\n                    \"2019-06-01\",\n                    19007166\n                ],\n                [\n                    \"2019-07-01\",\n                    19212426\n                ],\n                [\n                    \"2019-08-01\",\n                    19976237\n                ],\n                [\n                    \"2019-09-01\",\n                    19835636\n                ],\n                [\n                    \"2019-10-01\",\n                    18838012\n                ],\n                [\n                    \"2019-11-01\",\n                    20021836\n                ],\n                [\n                    \"2019-12-01\",\n                    18211238\n                ],\n                [\n                    \"2020-01-01\",\n                    14422655\n                ],\n                [\n                    \"2020-02-01\",\n                    11209446\n                ],\n                [\n                    \"2020-03-01\",\n                    19628387\n                ],\n                [\n                    \"2020-04-01\",\n                    18870629\n                ],\n                [\n                    \"2020-05-01\",\n                    17378244\n                ],\n                [\n                    \"2020-06-01\",\n                    19187710\n                ],\n                [\n                    \"2020-07-01\",\n                    19352098\n                ],\n                [\n                    \"2020-08-01\",\n                    19356461\n                ],\n                [\n                    \"2020-09-01\",\n                    17176447\n                ]\n            ],\n            \"hoverAnimation\": true,\n            \"label\": {\n                \"show\": false,\n                \"position\": \"top\",\n                \"margin\": 8\n            },\n            \"lineStyle\": {\n                \"show\": true,\n                \"width\": 1,\n                \"opacity\": 1,\n                \"curveness\": 0,\n                \"type\": \"solid\"\n            },\n            \"areaStyle\": {\n                \"opacity\": 0\n            },\n            \"zlevel\": 0,\n            \"z\": 0\n        },\n        {\n            \"type\": \"line\",\n            \"name\": \"\\u641c\\u7d22\\u4eba\\u6570\",\n            \"connectNulls\": false,\n            \"symbol\": \"emptyCircle2\",\n            \"symbolSize\": 4,\n            \"showSymbol\": true,\n            \"smooth\": false,\n            \"clip\": true,\n            \"step\": false,\n            \"data\": [\n                [\n                    \"2017-10-01\",\n                    26656100\n                ],\n                [\n                    \"2017-11-01\",\n                    21664627\n                ],\n                [\n                    \"2017-12-01\",\n                    21467046\n                ],\n                [\n                    \"2018-01-01\",\n                    21655911\n                ],\n                [\n                    \"2018-02-01\",\n                    18279599\n                ],\n                [\n                    \"2018-03-01\",\n                    22943897\n                ],\n                [\n                    \"2018-04-01\",\n                    21294711\n                ],\n                [\n                    \"2018-05-01\",\n                    21277331\n                ],\n                [\n                    \"2018-06-01\",\n                    22273194\n                ],\n                [\n                    \"2018-07-01\",\n                    21878448\n                ],\n                [\n                    \"2018-08-01\",\n                    21772974\n                ],\n                [\n                    \"2018-09-01\",\n                    20889153\n                ],\n                [\n                    \"2018-10-01\",\n                    21201432\n                ],\n                [\n                    \"2018-11-01\",\n                    21380187\n                ],\n                [\n                    \"2018-12-01\",\n                    20650283\n                ],\n                [\n                    \"2019-01-01\",\n                    20729823\n                ],\n                [\n                    \"2019-02-01\",\n                    20005141\n                ],\n                [\n                    \"2019-03-01\",\n                    21514372\n                ],\n                [\n                    \"2019-04-01\",\n                    20637844\n                ],\n                [\n                    \"2019-05-01\",\n                    20843711\n                ],\n                [\n                    \"2019-06-01\",\n                    21504115\n                ],\n                [\n                    \"2019-07-01\",\n                    21684575\n                ],\n                [\n                    \"2019-08-01\",\n                    21861536\n                ],\n                [\n                    \"2019-09-01\",\n                    21506022\n                ],\n                [\n                    \"2019-10-01\",\n                    21659865\n                ],\n                [\n                    \"2019-11-01\",\n                    21721260\n                ],\n                [\n                    \"2019-12-01\",\n                    20825079\n                ],\n                [\n                    \"2020-01-01\",\n                    17606567\n                ],\n                [\n                    \"2020-02-01\",\n                    16080470\n                ],\n                [\n                    \"2020-03-01\",\n                    21618723\n                ],\n                [\n                    \"2020-04-01\",\n                    21108254\n                ],\n                [\n                    \"2020-05-01\",\n                    20585296\n                ],\n                [\n                    \"2020-06-01\",\n                    20833768\n                ],\n                [\n                    \"2020-07-01\",\n                    20867994\n                ],\n                [\n                    \"2020-08-01\",\n                    21089977\n                ],\n                [\n                    \"2020-09-01\",\n                    19966893\n                ]\n            ],\n            \"hoverAnimation\": true,\n            \"label\": {\n                \"show\": false,\n                \"position\": \"top\",\n                \"margin\": 8\n            },\n            \"lineStyle\": {\n                \"show\": true,\n                \"width\": 1,\n                \"opacity\": 1,\n                \"curveness\": 0,\n                \"type\": \"solid\"\n            },\n            \"areaStyle\": {\n                \"opacity\": 0\n            },\n            \"zlevel\": 0,\n            \"z\": 0\n        }\n    ],\n    \"legend\": [\n        {\n            \"data\": [\n                \"\\u4e70\\u5bb6\\u6570\",\n                \"\\u641c\\u7d22\\u4eba\\u6570\"\n            ],\n            \"selected\": {\n                \"\\u4e70\\u5bb6\\u6570\": true,\n                \"\\u641c\\u7d22\\u4eba\\u6570\": true\n            },\n            \"show\": true,\n            \"padding\": 5,\n            \"itemGap\": 10,\n            \"itemWidth\": 25,\n            \"itemHeight\": 14\n        }\n    ],\n    \"tooltip\": {\n        \"show\": true,\n        \"trigger\": \"item\",\n        \"triggerOn\": \"mousemove|click\",\n        \"axisPointer\": {\n            \"type\": \"line\"\n        },\n        \"showContent\": true,\n        \"alwaysShowContent\": false,\n        \"showDelay\": 0,\n        \"hideDelay\": 100,\n        \"textStyle\": {\n            \"fontSize\": 14\n        },\n        \"borderWidth\": 0,\n        \"padding\": 5\n    },\n    \"xAxis\": [\n        {\n            \"type\": \"category\",\n            \"show\": true,\n            \"scale\": false,\n            \"nameLocation\": \"end\",\n            \"nameGap\": 15,\n            \"gridIndex\": 0,\n            \"inverse\": false,\n            \"offset\": 0,\n            \"splitNumber\": 5,\n            \"minInterval\": 0,\n            \"splitLine\": {\n                \"show\": false,\n                \"lineStyle\": {\n                    \"show\": true,\n                    \"width\": 1,\n                    \"opacity\": 1,\n                    \"curveness\": 0,\n                    \"type\": \"solid\"\n                }\n            },\n            \"data\": [\n                \"2017-10-01\",\n                \"2017-11-01\",\n                \"2017-12-01\",\n                \"2018-01-01\",\n                \"2018-02-01\",\n                \"2018-03-01\",\n                \"2018-04-01\",\n                \"2018-05-01\",\n                \"2018-06-01\",\n                \"2018-07-01\",\n                \"2018-08-01\",\n                \"2018-09-01\",\n                \"2018-10-01\",\n                \"2018-11-01\",\n                \"2018-12-01\",\n                \"2019-01-01\",\n                \"2019-02-01\",\n                \"2019-03-01\",\n                \"2019-04-01\",\n                \"2019-05-01\",\n                \"2019-06-01\",\n                \"2019-07-01\",\n                \"2019-08-01\",\n                \"2019-09-01\",\n                \"2019-10-01\",\n                \"2019-11-01\",\n                \"2019-12-01\",\n                \"2020-01-01\",\n                \"2020-02-01\",\n                \"2020-03-01\",\n                \"2020-04-01\",\n                \"2020-05-01\",\n                \"2020-06-01\",\n                \"2020-07-01\",\n                \"2020-08-01\",\n                \"2020-09-01\"\n            ]\n        }\n    ],\n    \"yAxis\": [\n        {\n            \"type\": \"value\",\n            \"show\": true,\n            \"scale\": false,\n            \"nameLocation\": \"end\",\n            \"nameGap\": 15,\n            \"gridIndex\": 0,\n            \"axisTick\": {\n                \"show\": true,\n                \"alignWithLabel\": false,\n                \"inside\": false\n            },\n            \"inverse\": false,\n            \"offset\": 0,\n            \"splitNumber\": 5,\n            \"minInterval\": 0,\n            \"splitLine\": {\n                \"show\": true,\n                \"lineStyle\": {\n                    \"show\": true,\n                    \"width\": 1,\n                    \"opacity\": 1,\n                    \"curveness\": 0,\n                    \"type\": \"solid\"\n                }\n            }\n        }\n    ],\n    \"title\": [\n        {\n            \"padding\": 5,\n            \"itemGap\": 10\n        }\n    ]\n};\n                chart_43c6744ee7c04566a12b4c4be0024999.setOption(option_43c6744ee7c04566a12b4c4be0024999);\n        });\n    </script>\n"
     },
     "metadata": {},
     "execution_count": 30
    }
   ],
   "source": [
    "from pyecharts import options as opts\n",
    "from pyecharts.charts import Line\n",
    "\n",
    "(\n",
    "    Line()\n",
    "    .set_global_opts(\n",
    "        tooltip_opts=opts.TooltipOpts(is_show=True),\n",
    "        xaxis_opts=opts.AxisOpts(type_=\"category\"),\n",
    "        yaxis_opts=opts.AxisOpts(\n",
    "            type_=\"value\",\n",
    "            axistick_opts=opts.AxisTickOpts(is_show=True),\n",
    "            splitline_opts=opts.SplitLineOpts(is_show=True),\n",
    "        ),\n",
    "    )\n",
    "    .add_xaxis(xaxis_data=result.开始日期.dt.strftime(\"%Y-%m-%d\").to_list())\n",
    "    .add_yaxis(\n",
    "        series_name=\"买家数\",\n",
    "        y_axis=result[\"买家数\"],\n",
    "        symbol=\"emptyCircle1\",\n",
    "        is_symbol_show=True,\n",
    "        label_opts=opts.LabelOpts(is_show=False),\n",
    "    )\n",
    "    .add_yaxis(\n",
    "        series_name=\"搜索人数\",\n",
    "        y_axis=result[\"搜索人数\"],\n",
    "        symbol=\"emptyCircle2\",\n",
    "        is_symbol_show=True,\n",
    "        label_opts=opts.LabelOpts(is_show=False),\n",
    "    )\n",
    "    .render_notebook()\n",
    ")"
   ]
  },
  {
   "cell_type": "code",
   "execution_count": null,
   "metadata": {},
   "outputs": [],
   "source": []
  }
 ]
}