{
 "metadata": {
  "language_info": {
   "codemirror_mode": {
    "name": "ipython",
    "version": 3
   },
   "file_extension": ".py",
   "mimetype": "text/x-python",
   "name": "python",
   "nbconvert_exporter": "python",
   "pygments_lexer": "ipython3",
   "version": "3.8.2-final"
  },
  "orig_nbformat": 2,
  "kernelspec": {
   "name": "python3",
   "display_name": "Python 3"
  }
 },
 "nbformat": 4,
 "nbformat_minor": 2,
 "cells": [
  {
   "source": [
    "### 处理数据加载"
   ],
   "cell_type": "markdown",
   "metadata": {}
  },
  {
   "cell_type": "code",
   "execution_count": 2,
   "metadata": {},
   "outputs": [
    {
     "output_type": "execute_result",
     "data": {
      "text/plain": [
       "array([['广东', 183806],\n",
       "       ['浙江', 53441],\n",
       "       ['河南', 46504],\n",
       "       ['江苏', 31134],\n",
       "       ['北京', 25023],\n",
       "       ['上海', 24958],\n",
       "       ['山东', 20583],\n",
       "       ['河北', 20154],\n",
       "       ['福建', 15348],\n",
       "       ['山西', 14982],\n",
       "       ['湖北', 12896],\n",
       "       ['安徽', 9988],\n",
       "       ['四川', 9250],\n",
       "       ['湖南', 8682],\n",
       "       ['江西', 7866],\n",
       "       ['辽宁', 6647],\n",
       "       ['广西', 5231],\n",
       "       ['陕西', 5071],\n",
       "       ['重庆', 3888],\n",
       "       ['天津', 3681],\n",
       "       ['黑龙江', 3070],\n",
       "       ['云南', 2856],\n",
       "       ['吉林', 2106],\n",
       "       ['贵州', 1664],\n",
       "       ['内蒙古', 1637],\n",
       "       ['甘肃', 1509],\n",
       "       ['香港特别行政区', 1128],\n",
       "       ['新疆', 866],\n",
       "       ['海南', 697],\n",
       "       ['台湾', 648],\n",
       "       ['宁夏', 352],\n",
       "       ['澳门特别行政区', 339],\n",
       "       ['青海', 170],\n",
       "       ['西藏', 153]], dtype=object)"
      ]
     },
     "metadata": {},
     "execution_count": 2
    }
   ],
   "source": [
    "import pandas as pd\n",
    "df=pd.read_csv(\"./3C数据/地域分布/3C数码1711.csv\")\n",
    "df['省份']=df['省份'].str.replace(\"省\",\"\").str.replace(\"自治区\",\"\").str.replace(\"壮族\",\"\").str.replace(\"回族\",\"\").str.replace(\"维吾尔\",\"\")\n",
    "\n",
    "data=df.loc[:,['省份','卖家数']]\n",
    "data.values\n"
   ]
  },
  {
   "cell_type": "code",
   "execution_count": 5,
   "metadata": {},
   "outputs": [
    {
     "output_type": "execute_result",
     "data": {
      "text/plain": [
       "<pyecharts.render.display.HTML at 0x11df92760>"
      ],
      "text/html": "\n<script>\n    require.config({\n        paths: {\n            'echarts':'https://assets.pyecharts.org/assets/echarts.min', 'china':'https://assets.pyecharts.org/assets/maps/china'\n        }\n    });\n</script>\n\n        <div id=\"ee6a53acb1b94cf3b10866d451de5b38\" style=\"width:900px; height:500px;\"></div>\n\n<script>\n        require(['echarts', 'china'], function(echarts) {\n                var chart_ee6a53acb1b94cf3b10866d451de5b38 = echarts.init(\n                    document.getElementById('ee6a53acb1b94cf3b10866d451de5b38'), 'white', {renderer: 'canvas'});\n                var option_ee6a53acb1b94cf3b10866d451de5b38 = {\n    \"animation\": true,\n    \"animationThreshold\": 2000,\n    \"animationDuration\": 1000,\n    \"animationEasing\": \"cubicOut\",\n    \"animationDelay\": 0,\n    \"animationDurationUpdate\": 300,\n    \"animationEasingUpdate\": \"cubicOut\",\n    \"animationDelayUpdate\": 0,\n    \"color\": [\n        \"#c23531\",\n        \"#2f4554\",\n        \"#61a0a8\",\n        \"#d48265\",\n        \"#749f83\",\n        \"#ca8622\",\n        \"#bda29a\",\n        \"#6e7074\",\n        \"#546570\",\n        \"#c4ccd3\",\n        \"#f05b72\",\n        \"#ef5b9c\",\n        \"#f47920\",\n        \"#905a3d\",\n        \"#fab27b\",\n        \"#2a5caa\",\n        \"#444693\",\n        \"#726930\",\n        \"#b2d235\",\n        \"#6d8346\",\n        \"#ac6767\",\n        \"#1d953f\",\n        \"#6950a1\",\n        \"#918597\"\n    ],\n    \"series\": [\n        {\n            \"type\": \"map\",\n            \"name\": \"2017\\u5e7411\\u6708\\u5356\\u5bb6\\u6570\",\n            \"label\": {\n                \"show\": true,\n                \"position\": \"top\",\n                \"margin\": 8\n            },\n            \"mapType\": \"china\",\n            \"data\": [\n                {\n                    \"name\": \"\\u5e7f\\u4e1c\",\n                    \"value\": 183806\n                },\n                {\n                    \"name\": \"\\u6d59\\u6c5f\",\n                    \"value\": 53441\n                },\n                {\n                    \"name\": \"\\u6cb3\\u5357\",\n                    \"value\": 46504\n                },\n                {\n                    \"name\": \"\\u6c5f\\u82cf\",\n                    \"value\": 31134\n                },\n                {\n                    \"name\": \"\\u5317\\u4eac\",\n                    \"value\": 25023\n                },\n                {\n                    \"name\": \"\\u4e0a\\u6d77\",\n                    \"value\": 24958\n                },\n                {\n                    \"name\": \"\\u5c71\\u4e1c\",\n                    \"value\": 20583\n                },\n                {\n                    \"name\": \"\\u6cb3\\u5317\",\n                    \"value\": 20154\n                },\n                {\n                    \"name\": \"\\u798f\\u5efa\",\n                    \"value\": 15348\n                },\n                {\n                    \"name\": \"\\u5c71\\u897f\",\n                    \"value\": 14982\n                },\n                {\n                    \"name\": \"\\u6e56\\u5317\",\n                    \"value\": 12896\n                },\n                {\n                    \"name\": \"\\u5b89\\u5fbd\",\n                    \"value\": 9988\n                },\n                {\n                    \"name\": \"\\u56db\\u5ddd\",\n                    \"value\": 9250\n                },\n                {\n                    \"name\": \"\\u6e56\\u5357\",\n                    \"value\": 8682\n                },\n                {\n                    \"name\": \"\\u6c5f\\u897f\",\n                    \"value\": 7866\n                },\n                {\n                    \"name\": \"\\u8fbd\\u5b81\",\n                    \"value\": 6647\n                },\n                {\n                    \"name\": \"\\u5e7f\\u897f\",\n                    \"value\": 5231\n                },\n                {\n                    \"name\": \"\\u9655\\u897f\",\n                    \"value\": 5071\n                },\n                {\n                    \"name\": \"\\u91cd\\u5e86\",\n                    \"value\": 3888\n                },\n                {\n                    \"name\": \"\\u5929\\u6d25\",\n                    \"value\": 3681\n                },\n                {\n                    \"name\": \"\\u9ed1\\u9f99\\u6c5f\",\n                    \"value\": 3070\n                },\n                {\n                    \"name\": \"\\u4e91\\u5357\",\n                    \"value\": 2856\n                },\n                {\n                    \"name\": \"\\u5409\\u6797\",\n                    \"value\": 2106\n                },\n                {\n                    \"name\": \"\\u8d35\\u5dde\",\n                    \"value\": 1664\n                },\n                {\n                    \"name\": \"\\u5185\\u8499\\u53e4\",\n                    \"value\": 1637\n                },\n                {\n                    \"name\": \"\\u7518\\u8083\",\n                    \"value\": 1509\n                },\n                {\n                    \"name\": \"\\u9999\\u6e2f\\u7279\\u522b\\u884c\\u653f\\u533a\",\n                    \"value\": 1128\n                },\n                {\n                    \"name\": \"\\u65b0\\u7586\",\n                    \"value\": 866\n                },\n                {\n                    \"name\": \"\\u6d77\\u5357\",\n                    \"value\": 697\n                },\n                {\n                    \"name\": \"\\u53f0\\u6e7e\",\n                    \"value\": 648\n                },\n                {\n                    \"name\": \"\\u5b81\\u590f\",\n                    \"value\": 352\n                },\n                {\n                    \"name\": \"\\u6fb3\\u95e8\\u7279\\u522b\\u884c\\u653f\\u533a\",\n                    \"value\": 339\n                },\n                {\n                    \"name\": \"\\u9752\\u6d77\",\n                    \"value\": 170\n                },\n                {\n                    \"name\": \"\\u897f\\u85cf\",\n                    \"value\": 153\n                }\n            ],\n            \"roam\": true,\n            \"aspectScale\": 0.75,\n            \"nameProperty\": \"name\",\n            \"selectedMode\": false,\n            \"zoom\": 1,\n            \"mapValueCalculation\": \"sum\",\n            \"showLegendSymbol\": true,\n            \"emphasis\": {}\n        }\n    ],\n    \"legend\": [\n        {\n            \"data\": [\n                \"2017\\u5e7411\\u6708\\u5356\\u5bb6\\u6570\"\n            ],\n            \"selected\": {\n                \"2017\\u5e7411\\u6708\\u5356\\u5bb6\\u6570\": true\n            },\n            \"show\": true,\n            \"padding\": 5,\n            \"itemGap\": 10,\n            \"itemWidth\": 25,\n            \"itemHeight\": 14\n        }\n    ],\n    \"tooltip\": {\n        \"show\": true,\n        \"trigger\": \"item\",\n        \"triggerOn\": \"mousemove|click\",\n        \"axisPointer\": {\n            \"type\": \"line\"\n        },\n        \"showContent\": true,\n        \"alwaysShowContent\": false,\n        \"showDelay\": 0,\n        \"hideDelay\": 100,\n        \"textStyle\": {\n            \"fontSize\": 14\n        },\n        \"borderWidth\": 0,\n        \"padding\": 5\n    },\n    \"title\": [\n        {\n            \"text\": \"2017\\u5e7411\\u6708\\u5168\\u56fd3C\\u8868\",\n            \"padding\": 5,\n            \"itemGap\": 10\n        }\n    ],\n    \"visualMap\": {\n        \"show\": true,\n        \"type\": \"continuous\",\n        \"min\": 0,\n        \"max\": 100000,\n        \"inRange\": {\n            \"color\": [\n                \"#50a3ba\",\n                \"#eac763\",\n                \"#d94e5d\"\n            ]\n        },\n        \"calculable\": true,\n        \"inverse\": false,\n        \"splitNumber\": 5,\n        \"orient\": \"vertical\",\n        \"showLabel\": true,\n        \"itemWidth\": 20,\n        \"itemHeight\": 140,\n        \"borderWidth\": 0\n    }\n};\n                chart_ee6a53acb1b94cf3b10866d451de5b38.setOption(option_ee6a53acb1b94cf3b10866d451de5b38);\n        });\n    </script>\n"
     },
     "metadata": {},
     "execution_count": 5
    }
   ],
   "source": [
    "from pyecharts.charts import Map,Geo\n",
    "from pyecharts import options as opts\n",
    "#将数据处理成列表\n",
    "map_1 = Map()\n",
    "map_1.set_global_opts(\n",
    "    title_opts=opts.TitleOpts(title=\"2017年11月全国3C表\"),\n",
    "    visualmap_opts=opts.VisualMapOpts(max_=100000)  #最大数据范围\n",
    "    )\n",
    "map_1.add(\"2017年11月卖家数\", data.values, maptype=\"china\")\n",
    "map_1.render_notebook()"
   ]
  },
  {
   "cell_type": "code",
   "execution_count": null,
   "metadata": {},
   "outputs": [],
   "source": []
  }
 ]
}